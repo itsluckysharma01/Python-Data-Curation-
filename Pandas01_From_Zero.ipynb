{
 "cells": [
  {
   "cell_type": "markdown",
   "id": "20f110bf",
   "metadata": {},
   "source": [
    "**Pandas** library in Python:\n",
    "\n",
    "---\n",
    "\n",
    "## 🐼 **Pandas – Python Library for Data Analysis**\n",
    "\n",
    "### 🔹 What is Pandas?\n",
    "\n",
    "**Pandas** is an open-source Python library providing fast, flexible, and expressive data structures designed to work with structured (tabular), semi-structured, and time-series data.\n",
    "\n",
    "It is especially useful for:\n",
    "\n",
    "* Cleaning and preparing data\n",
    "* Analyzing large datasets\n",
    "* Converting data formats\n",
    "* Performing data wrangling\n",
    "\n",
    "---\n",
    "\n",
    "### 🔹 Key Data Structures in Pandas:\n",
    "\n",
    "| Structure   | Description                                                                 |\n",
    "| ----------- | --------------------------------------------------------------------------- |\n",
    "| `Series`    | One-dimensional labeled array (like a column in Excel)                      |\n",
    "| `DataFrame` | Two-dimensional labeled data structure (like a table with rows and columns) |\n",
    "\n",
    "---\n",
    "\n",
    "### 🔹 Why Use Pandas?\n",
    "\n",
    "* Easy handling of **missing data**\n",
    "* Powerful **grouping** and **aggregation**\n",
    "* High-performance **merging** and **joining**\n",
    "* Built-in support for **time-series** data\n",
    "* Easy **reading and writing** to CSV, Excel, SQL, JSON, etc.\n",
    "\n",
    "---\n",
    "\n",
    "### 🔹 Common Pandas Functions:\n",
    "\n",
    "| Function                             | Purpose                             |\n",
    "| ------------------------------------ | ----------------------------------- |\n",
    "| `read_csv()`                         | Load data from a CSV file           |\n",
    "| `head()` / `tail()`                  | View top/bottom rows of a DataFrame |\n",
    "| `info()` / `describe()`              | Get data summary and statistics     |\n",
    "| `isnull()` / `dropna()` / `fillna()` | Handle missing data                 |\n",
    "| `groupby()`                          | Group and aggregate data            |\n",
    "| `merge()` / `join()` / `concat()`    | Combine DataFrames                  |\n",
    "| `to_csv()`                           | Export data to a CSV file           |\n",
    "\n",
    "---\n",
    "\n",
    "### 🔹 Example Code:\n",
    "\n",
    "```python\n",
    "import pandas as pd\n",
    "\n",
    "# Load CSV\n",
    "df = pd.read_csv('data.csv')\n",
    "\n",
    "# Show first 5 rows\n",
    "print(df.head())\n",
    "\n",
    "# Get basic info\n",
    "print(df.info())\n",
    "\n",
    "# Filter data\n",
    "filtered = df[df['age'] > 25]\n",
    "\n",
    "# Group by and mean\n",
    "grouped = df.groupby('department')['salary'].mean()\n",
    "```\n",
    "\n",
    "---\n",
    "\n",
    "### 🔹 Real-World Use Cases:\n",
    "\n",
    "* Analyzing sales data\n",
    "* Preprocessing datasets for machine learning\n",
    "* Financial data analysis\n",
    "* Automating reports and dashboards\n",
    "\n",
    "---\n",
    "\n"
   ]
  },
  {
   "cell_type": "markdown",
   "id": "45f007e5",
   "metadata": {},
   "source": [
    "Pandas From Start"
   ]
  },
  {
   "cell_type": "markdown",
   "id": "f547373a",
   "metadata": {},
   "source": [
    "To install **Pandas** in your Python environment, follow these steps:\n",
    "\n",
    "---\n",
    "\n",
    "### ✅ For most users (using `pip`):\n",
    "\n",
    "Open Command Prompt (CMD), Terminal, or PowerShell and run:\n",
    "\n",
    "```bash\n",
    "pip install pandas\n",
    "```\n",
    "\n",
    "---\n",
    "\n",
    "### ✅ If you're using **Jupyter Notebook**:\n",
    "\n",
    "Inside a code cell, run:\n",
    "\n",
    "```python\n",
    "!pip install pandas\n",
    "```\n",
    "\n",
    "---\n",
    "\n",
    "### ✅ If you're using **Anaconda**:\n",
    "\n",
    "Open **Anaconda Prompt** and run:\n",
    "\n",
    "```bash\n",
    "conda install pandas\n",
    "```\n",
    "\n",
    "---\n",
    "\n",
    "### ✅ To verify installation:\n",
    "\n",
    "After installing, you can test it by running:\n",
    "\n",
    "```python\n",
    "import pandas as pd\n",
    "print(pd.__version__)\n",
    "```\n",
    "\n"
   ]
  },
  {
   "cell_type": "code",
   "execution_count": 4,
   "id": "0da15be4",
   "metadata": {},
   "outputs": [],
   "source": [
    "#Import panda as pd\n",
    "import pandas as pd"
   ]
  },
  {
   "cell_type": "markdown",
   "id": "5aab2dc0",
   "metadata": {},
   "source": [
    "Load The datasets"
   ]
  },
  {
   "cell_type": "code",
   "execution_count": 5,
   "id": "edc06e2a",
   "metadata": {},
   "outputs": [],
   "source": [
    "#we can Load the datasets by simply using the read_csv function\n",
    "#we can also use load using Github raw data link for the datasets\n",
    "df=pd.read_csv(\"https://raw.githubusercontent.com/itsluckysharma01/Datasets/refs/heads/main/testdata.csv\")"
   ]
  },
  {
   "cell_type": "markdown",
   "id": "01de9a88",
   "metadata": {},
   "source": [
    "**Pandas expressions and functions** along with their purpose and usage examples:\n",
    "\n",
    "| **Expression / Function**  | **Description**                             | **Example**                           | **Output/Effect**                      |\n",
    "| -------------------------- | ------------------------------------------- | ------------------------------------- | -------------------------------------- |\n",
    "| `pd.Series()`              | Creates a one-dimensional array (Series)    | `pd.Series([1, 2, 3])`                | Series with values 1, 2, 3             |\n",
    "| `pd.DataFrame()`           | Creates a two-dimensional table (DataFrame) | `pd.DataFrame({'A':[1,2],'B':[3,4]})` | Table with columns A and B             |\n",
    "| `df.head(n)`               | Returns first `n` rows of DataFrame         | `df.head(3)`                          | Top 3 rows of the DataFrame            |\n",
    "| `df.tail(n)`               | Returns last `n` rows of DataFrame          | `df.tail(2)`                          | Last 2 rows of the DataFrame           |\n",
    "| `df.shape`                 | Returns shape (rows, columns) of DataFrame  | `df.shape`                            | e.g., `(5, 3)` means 5 rows, 3 columns |\n",
    "| `df.columns`               | Lists all column names                      | `df.columns`                          | Index of column names                  |\n",
    "| `df.info()`                | Summary of DataFrame (data types, nulls)    | `df.info()`                           | Overview of structure                  |\n",
    "| `df.describe()`            | Summary statistics of numerical columns     | `df.describe()`                       | Mean, std, min, max, etc.              |\n",
    "| `df['col']` or `df.col`    | Access column                               | `df['A']` or `df.A`                   | Series of values in column A           |\n",
    "| `df.iloc[i]`               | Access row by index (position-based)        | `df.iloc[0]`                          | First row of DataFrame                 |\n",
    "| `df.loc[condition]`        | Access rows using condition                 | `df.loc[df['A'] > 5]`                 | Rows where A > 5                       |\n",
    "| `df.isnull()`              | Checks for missing values                   | `df.isnull()`                         | `True` where values are missing        |\n",
    "| `df.dropna()`              | Drops rows with missing values              | `df.dropna()`                         | DataFrame without null rows            |\n",
    "| `df.fillna(value)`         | Fills missing values                        | `df.fillna(0)`                        | Replaces NaN with 0                    |\n",
    "| `df.sort_values(by='col')` | Sorts rows based on column                  | `df.sort_values(by='A')`              | Rows sorted by column A                |\n",
    "| `df.groupby('col')`        | Groups data by column                       | `df.groupby('dept').mean()`           | Mean per group in 'dept' column        |\n",
    "| `df.apply(function)`       | Applies a function to DataFrame or Series   | `df['A'].apply(lambda x: x*2)`        | Each value in A is multiplied by 2     |\n",
    "| `df.merge(df2)`            | Joins two DataFrames                        | `df.merge(df2, on='id')`              | Merged DataFrame on column 'id'        |\n",
    "| `df.to_csv('file.csv')`    | Saves DataFrame to CSV                      | `df.to_csv('data.csv')`               | Creates data.csv file                  |\n",
    "\n",
    "\n"
   ]
  },
  {
   "cell_type": "code",
   "execution_count": 6,
   "id": "51659040",
   "metadata": {},
   "outputs": [
    {
     "name": "stdout",
     "output_type": "stream",
     "text": [
      "\n",
      " Print Few Rows \n",
      "\n",
      "   rank discipline  phd  service   sex    salary\n",
      "0  Prof          B   56     49.0  Male  186960.0\n",
      "1  Prof          A   12      6.0  Male   93000.0\n",
      "2   NaN          A   23     20.0  Male  110515.0\n",
      "3  Prof          A   40     31.0   NaN  131205.0\n",
      "4  Prof          B   20      NaN  Male  104800.0\n"
     ]
    }
   ],
   "source": [
    "print(\"\\n Print Few Rows \\n\")\n",
    "print(df.head())"
   ]
  },
  {
   "cell_type": "code",
   "execution_count": 7,
   "id": "49b8f254",
   "metadata": {},
   "outputs": [
    {
     "name": "stdout",
     "output_type": "stream",
     "text": [
      "\n",
      " Print Last Few Rows \n",
      "\n",
      "         rank discipline  phd  service     sex    salary\n",
      "75       Prof          B   18     10.0  Female  105450.0\n",
      "76  AssocProf          B   19      6.0  Female  104542.0\n",
      "77       Prof          B   17     17.0  Female  124312.0\n",
      "78       Prof          A   28     14.0  Female  109954.0\n",
      "79       Prof          A   23     15.0  Female  109646.0\n"
     ]
    }
   ],
   "source": [
    "print(\"\\n Print Last Few Rows \\n\")\n",
    "print(df.tail())"
   ]
  },
  {
   "cell_type": "code",
   "execution_count": 8,
   "id": "f83da94b",
   "metadata": {},
   "outputs": [
    {
     "name": "stdout",
     "output_type": "stream",
     "text": [
      "\n",
      " print Shape of the DataFrame (row , columns)\n",
      "\n",
      "(80, 6)\n"
     ]
    }
   ],
   "source": [
    "print(\"\\n print Shape of the DataFrame (row , columns)\\n\")\n",
    "print(df.shape)\n",
    "\n"
   ]
  },
  {
   "cell_type": "code",
   "execution_count": 9,
   "id": "91534a6a",
   "metadata": {},
   "outputs": [
    {
     "name": "stdout",
     "output_type": "stream",
     "text": [
      "\n",
      " Print Data Types of Each Column \n",
      "\n",
      "rank           object\n",
      "discipline     object\n",
      "phd             int64\n",
      "service       float64\n",
      "sex            object\n",
      "salary        float64\n",
      "dtype: object\n"
     ]
    }
   ],
   "source": [
    "print(\"\\n Print Data Types of Each Column \\n\")\n",
    "print(df.dtypes)"
   ]
  },
  {
   "cell_type": "code",
   "execution_count": 10,
   "id": "ba9babd2",
   "metadata": {},
   "outputs": [
    {
     "name": "stdout",
     "output_type": "stream",
     "text": [
      "<class 'pandas.core.frame.DataFrame'>\n",
      "RangeIndex: 80 entries, 0 to 79\n",
      "Data columns (total 6 columns):\n",
      " #   Column      Non-Null Count  Dtype  \n",
      "---  ------      --------------  -----  \n",
      " 0   rank        79 non-null     object \n",
      " 1   discipline  79 non-null     object \n",
      " 2   phd         80 non-null     int64  \n",
      " 3   service     79 non-null     float64\n",
      " 4   sex         79 non-null     object \n",
      " 5   salary      79 non-null     float64\n",
      "dtypes: float64(2), int64(1), object(3)\n",
      "memory usage: 3.9+ KB\n"
     ]
    },
    {
     "data": {
      "text/html": [
       "<div>\n",
       "<style scoped>\n",
       "    .dataframe tbody tr th:only-of-type {\n",
       "        vertical-align: middle;\n",
       "    }\n",
       "\n",
       "    .dataframe tbody tr th {\n",
       "        vertical-align: top;\n",
       "    }\n",
       "\n",
       "    .dataframe thead th {\n",
       "        text-align: right;\n",
       "    }\n",
       "</style>\n",
       "<table border=\"1\" class=\"dataframe\">\n",
       "  <thead>\n",
       "    <tr style=\"text-align: right;\">\n",
       "      <th></th>\n",
       "      <th>phd</th>\n",
       "      <th>service</th>\n",
       "      <th>salary</th>\n",
       "    </tr>\n",
       "  </thead>\n",
       "  <tbody>\n",
       "    <tr>\n",
       "      <th>count</th>\n",
       "      <td>80.000000</td>\n",
       "      <td>79.000000</td>\n",
       "      <td>79.000000</td>\n",
       "    </tr>\n",
       "    <tr>\n",
       "      <th>mean</th>\n",
       "      <td>19.450000</td>\n",
       "      <td>14.860759</td>\n",
       "      <td>107315.886076</td>\n",
       "    </tr>\n",
       "    <tr>\n",
       "      <th>std</th>\n",
       "      <td>12.516217</td>\n",
       "      <td>12.179990</td>\n",
       "      <td>27596.271520</td>\n",
       "    </tr>\n",
       "    <tr>\n",
       "      <th>min</th>\n",
       "      <td>1.000000</td>\n",
       "      <td>0.000000</td>\n",
       "      <td>57800.000000</td>\n",
       "    </tr>\n",
       "    <tr>\n",
       "      <th>25%</th>\n",
       "      <td>10.000000</td>\n",
       "      <td>4.500000</td>\n",
       "      <td>88000.000000</td>\n",
       "    </tr>\n",
       "    <tr>\n",
       "      <th>50%</th>\n",
       "      <td>18.000000</td>\n",
       "      <td>14.000000</td>\n",
       "      <td>104542.000000</td>\n",
       "    </tr>\n",
       "    <tr>\n",
       "      <th>75%</th>\n",
       "      <td>27.250000</td>\n",
       "      <td>20.500000</td>\n",
       "      <td>126300.000000</td>\n",
       "    </tr>\n",
       "    <tr>\n",
       "      <th>max</th>\n",
       "      <td>56.000000</td>\n",
       "      <td>51.000000</td>\n",
       "      <td>186960.000000</td>\n",
       "    </tr>\n",
       "  </tbody>\n",
       "</table>\n",
       "</div>"
      ],
      "text/plain": [
       "             phd    service         salary\n",
       "count  80.000000  79.000000      79.000000\n",
       "mean   19.450000  14.860759  107315.886076\n",
       "std    12.516217  12.179990   27596.271520\n",
       "min     1.000000   0.000000   57800.000000\n",
       "25%    10.000000   4.500000   88000.000000\n",
       "50%    18.000000  14.000000  104542.000000\n",
       "75%    27.250000  20.500000  126300.000000\n",
       "max    56.000000  51.000000  186960.000000"
      ]
     },
     "execution_count": 10,
     "metadata": {},
     "output_type": "execute_result"
    }
   ],
   "source": [
    "df.info()  #information about the DataFrame\n",
    "df.describe()  #statistical summary of the DataFrame"
   ]
  },
  {
   "cell_type": "markdown",
   "id": "034ce0ee",
   "metadata": {},
   "source": [
    "Selecting Data"
   ]
  },
  {
   "cell_type": "markdown",
   "id": "c9e3411d",
   "metadata": {},
   "source": [
    "In **Pandas**, data selection means accessing specific rows, columns, or values from a `DataFrame` or `Series`.\n",
    "\n",
    "---\n",
    "\n",
    "### ✅ **Data Selection in Pandas – Summary Table**\n",
    "\n",
    "| **Syntax**                    | **Purpose**                          | **Example**                  | **Result**                              |\n",
    "| ----------------------------- | ------------------------------------ | ---------------------------- | --------------------------------------- |\n",
    "| `df['col']` or `df.col`       | Select a single column               | `df['Name']`                 | Returns a Series with column `Name`     |\n",
    "| `df[['col1', 'col2']]`        | Select multiple columns              | `df[['Name', 'Age']]`        | Returns DataFrame with selected columns |\n",
    "| `df.iloc[row_idx]`            | Select row(s) by position (index)    | `df.iloc[0]`                 | Returns the first row                   |\n",
    "| `df.iloc[0:3]`                | Select multiple rows by index range  | `df.iloc[0:3]`               | First 3 rows                            |\n",
    "| `df.loc[row_label]`           | Select row by label (index name)     | `df.loc[5]`                  | Row with index label `5`                |\n",
    "| `df.loc[start:end]`           | Select range of rows by label        | `df.loc[2:4]`                | Rows with index labels 2, 3, and 4      |\n",
    "| `df.loc[:, 'col']`            | Select all rows in one column        | `df.loc[:, 'Age']`           | Series of `Age` column                  |\n",
    "| `df.loc[:, ['col1', 'col2']]` | Select all rows for multiple columns | `df.loc[:, ['Name', 'Age']]` | DataFrame with those columns            |\n",
    "| `df.loc[row_idx, col_idx]`    | Select specific cell                 | `df.loc[0, 'Name']`          | Value from row 0, column `Name`         |\n",
    "| `df[df['col'] > value]`       | Conditional row selection            | `df[df['Age'] > 25]`         | Rows where `Age` > 25                   |\n",
    "| `df.query(\"col > value\")`     | Query with string condition          | `df.query(\"Age > 25\")`       | Same as above                           |\n",
    "| `df.at[row, col]`             | Fast access to single value by label | `df.at[0, 'Name']`           | Value at row 0 and column `Name`        |\n",
    "| `df.iat[row, col]`            | Fast access by integer position      | `df.iat[0, 1]`               | Value at (0,1) index                    |\n",
    "\n",
    "---\n",
    "\n",
    "These methods are essential for filtering, slicing, and analyzing your data.\n",
    "\n"
   ]
  },
  {
   "cell_type": "code",
   "execution_count": 11,
   "id": "29c5a1da",
   "metadata": {},
   "outputs": [
    {
     "name": "stdout",
     "output_type": "stream",
     "text": [
      "        rank discipline  phd  service   sex    salary\n",
      "0       Prof          B   56     49.0  Male  186960.0\n",
      "1       Prof          A   12      6.0  Male   93000.0\n",
      "2        NaN          A   23     20.0  Male  110515.0\n",
      "3       Prof          A   40     31.0   NaN  131205.0\n",
      "4       Prof          B   20      NaN  Male  104800.0\n",
      "5       Prof          A   20     20.0  Male  122400.0\n",
      "6  AssocProf          A   20     17.0  Male   81285.0\n",
      "7       Prof          A   18     18.0  Male  126300.0\n",
      "8       Prof          A   18     18.0  Male  126300.0\n",
      "9       Prof          A   29     19.0  Male   94350.0\n"
     ]
    }
   ],
   "source": [
    "print(df.head(10))"
   ]
  },
  {
   "cell_type": "code",
   "execution_count": 16,
   "id": "3bdb31dc",
   "metadata": {},
   "outputs": [
    {
     "name": "stdout",
     "output_type": "stream",
     "text": [
      "\n",
      " Slicing Data \n",
      "\n",
      "   rank discipline  phd  service   sex    salary\n",
      "1  Prof          A   12      6.0  Male   93000.0\n",
      "2   NaN          A   23     20.0  Male  110515.0\n",
      "3  Prof          A   40     31.0   NaN  131205.0\n",
      "4  Prof          B   20      NaN  Male  104800.0\n"
     ]
    }
   ],
   "source": [
    "#Slicing Data\n",
    "print(\"\\n Slicing Data \\n\")\n",
    "print(df[1:5])  #Slicing rows from index 1 to 4"
   ]
  },
  {
   "cell_type": "code",
   "execution_count": 14,
   "id": "3c3e016b",
   "metadata": {},
   "outputs": [
    {
     "name": "stdout",
     "output_type": "stream",
     "text": [
      "         rank discipline  phd  service     sex    salary\n",
      "0        Prof          B   56     49.0    Male  186960.0\n",
      "1        Prof          A   12      6.0    Male   93000.0\n",
      "2         NaN          A   23     20.0    Male  110515.0\n",
      "3        Prof          A   40     31.0     NaN  131205.0\n",
      "4        Prof          B   20      NaN    Male  104800.0\n",
      "..        ...        ...  ...      ...     ...       ...\n",
      "75       Prof          B   18     10.0  Female  105450.0\n",
      "76  AssocProf          B   19      6.0  Female  104542.0\n",
      "77       Prof          B   17     17.0  Female  124312.0\n",
      "78       Prof          A   28     14.0  Female  109954.0\n",
      "79       Prof          A   23     15.0  Female  109646.0\n",
      "\n",
      "[80 rows x 6 columns]\n",
      "   rank discipline\n",
      "1  Prof          A\n",
      "2   NaN          A\n"
     ]
    }
   ],
   "source": [
    "print(df.iloc[: , :]) #print all rows and columns\n",
    "print(df.iloc[1:3, 0:2])  #Slicing rows from index 1 to 4 and columns from index 0 to 1"
   ]
  },
  {
   "cell_type": "code",
   "execution_count": 15,
   "id": "3681bac8",
   "metadata": {},
   "outputs": [
    {
     "name": "stdout",
     "output_type": "stream",
     "text": [
      "0     B\n",
      "1     A\n",
      "2     A\n",
      "3     A\n",
      "4     B\n",
      "     ..\n",
      "75    B\n",
      "76    B\n",
      "77    B\n",
      "78    A\n",
      "79    A\n",
      "Name: discipline, Length: 80, dtype: object\n",
      "rank              Prof\n",
      "discipline           B\n",
      "phd                 56\n",
      "service           49.0\n",
      "sex               Male\n",
      "salary        186960.0\n",
      "Name: 0, dtype: object\n"
     ]
    }
   ],
   "source": [
    "print(df.iloc[:, 1])      # All rows, column at index 1\n",
    "print(df.iloc[0, :])      # First row, all columns\n"
   ]
  },
  {
   "cell_type": "code",
   "execution_count": 18,
   "id": "b86a8a42",
   "metadata": {},
   "outputs": [
    {
     "name": "stdout",
     "output_type": "stream",
     "text": [
      "rank              Prof\n",
      "discipline           B\n",
      "phd                 56\n",
      "service           49.0\n",
      "sex               Male\n",
      "salary        186960.0\n",
      "Name: 0, dtype: object\n",
      "   rank discipline  phd  service   sex    salary\n",
      "1  Prof          A   12      6.0  Male   93000.0\n",
      "2   NaN          A   23     20.0  Male  110515.0\n",
      "3  Prof          A   40     31.0   NaN  131205.0\n"
     ]
    }
   ],
   "source": [
    "# Using .loc with labels\n",
    "print(df.loc[0])\n",
    "print(df.loc[1:3])"
   ]
  },
  {
   "cell_type": "code",
   "execution_count": 21,
   "id": "2b2dc2f0",
   "metadata": {},
   "outputs": [
    {
     "name": "stdout",
     "output_type": "stream",
     "text": [
      "Index(['rank', 'discipline', 'phd', 'service', 'sex', 'salary'], dtype='object')\n"
     ]
    }
   ],
   "source": [
    "print(df.columns) # Before selecting columns, always confirm column names"
   ]
  },
  {
   "cell_type": "code",
   "execution_count": 22,
   "id": "4d8e7f43",
   "metadata": {},
   "outputs": [
    {
     "name": "stdout",
     "output_type": "stream",
     "text": [
      "\n",
      " DataFrame after dropping 'rank' column \n",
      "\n",
      "  discipline  phd  service   sex    salary\n",
      "0          B   56     49.0  Male  186960.0\n",
      "1          A   12      6.0  Male   93000.0\n",
      "2          A   23     20.0  Male  110515.0\n",
      "3          A   40     31.0   NaN  131205.0\n",
      "4          B   20      NaN  Male  104800.0\n"
     ]
    }
   ],
   "source": [
    "# You can drop a column from the DataFrame using the .drop() method.\n",
    "df.drop(columns=['rank'], inplace=True) #inplace mean it will modify the original DataFrame\n",
    "print(\"\\n DataFrame after dropping 'rank' column \\n\")\n",
    "print(df.head())"
   ]
  },
  {
   "cell_type": "code",
   "execution_count": null,
   "id": "4316b583",
   "metadata": {},
   "outputs": [],
   "source": [
    "# If you want to remove multiple columns, pass a list:\n",
    "# df.drop(columns=['rank', 'service'], inplace=True)"
   ]
  },
  {
   "cell_type": "code",
   "execution_count": 23,
   "id": "8884c734",
   "metadata": {},
   "outputs": [
    {
     "name": "stdout",
     "output_type": "stream",
     "text": [
      "0     56\n",
      "1     12\n",
      "2     23\n",
      "3     40\n",
      "4     20\n",
      "      ..\n",
      "75    18\n",
      "76    19\n",
      "77    17\n",
      "78    28\n",
      "79    23\n",
      "Name: phd, Length: 80, dtype: int64\n"
     ]
    }
   ],
   "source": [
    "# Selecting specific columns\n",
    "print(df.loc[:, 'phd'])\n"
   ]
  },
  {
   "cell_type": "code",
   "execution_count": 25,
   "id": "fa32f38a",
   "metadata": {},
   "outputs": [
    {
     "name": "stdout",
     "output_type": "stream",
     "text": [
      "    sex  service\n",
      "0  Male     49.0\n",
      "1  Male      6.0\n",
      "2  Male     20.0\n"
     ]
    }
   ],
   "source": [
    "print(df.loc[0:2, ['sex', 'service']])"
   ]
  },
  {
   "cell_type": "markdown",
   "id": "bfb9e7d5",
   "metadata": {},
   "source": [
    "FILTERING ROWS"
   ]
  },
  {
   "cell_type": "markdown",
   "id": "36889269",
   "metadata": {},
   "source": [
    "Selecting & Filtering Data (Selecting Columns)"
   ]
  },
  {
   "cell_type": "code",
   "execution_count": 27,
   "id": "190fe67e",
   "metadata": {},
   "outputs": [
    {
     "name": "stdout",
     "output_type": "stream",
     "text": [
      "0       Male\n",
      "1       Male\n",
      "2       Male\n",
      "3        NaN\n",
      "4       Male\n",
      "       ...  \n",
      "75    Female\n",
      "76    Female\n",
      "77    Female\n",
      "78    Female\n",
      "79    Female\n",
      "Name: sex, Length: 80, dtype: object\n",
      "    phd  service\n",
      "0    56     49.0\n",
      "1    12      6.0\n",
      "2    23     20.0\n",
      "3    40     31.0\n",
      "4    20      NaN\n",
      "..  ...      ...\n",
      "75   18     10.0\n",
      "76   19      6.0\n",
      "77   17     17.0\n",
      "78   28     14.0\n",
      "79   23     15.0\n",
      "\n",
      "[80 rows x 2 columns]\n"
     ]
    }
   ],
   "source": [
    "print(df['sex'])  # Selecting a single column\n",
    "print(df[['phd','service']])  # Selecting multiple columns"
   ]
  },
  {
   "cell_type": "code",
   "execution_count": 31,
   "id": "64eeb164",
   "metadata": {},
   "outputs": [
    {
     "name": "stdout",
     "output_type": "stream",
     "text": [
      "\n",
      " Query Example \n",
      "\n",
      "\n",
      " Filtering rows where 'service' is greater than 30 \n",
      "\n",
      "   discipline  phd  service     sex    salary\n",
      "0           B   56     49.0    Male  186960.0\n",
      "3           A   40     31.0     NaN  131205.0\n",
      "10          A   51     51.0    Male   57800.0\n",
      "11          B   39     33.0    Male  128250.0\n",
      "15        NaN   35     33.0    Male       NaN\n",
      "27          B   35     31.0    Male   99418.0\n",
      "29          A   45     43.0    Male  155865.0\n",
      "38          B   45     45.0    Male  146856.0\n",
      "42          A   39     36.0  Female  137000.0\n"
     ]
    }
   ],
   "source": [
    "# Query example\n",
    "print(\"\\n Query Example \\n\")\n",
    "print(\"\\n Filtering rows where 'service' is greater than 30 \\n\")\n",
    "print(df[df['service']>30])  "
   ]
  },
  {
   "cell_type": "markdown",
   "id": "0d17b934",
   "metadata": {},
   "source": [
    "SORTING DATA"
   ]
  },
  {
   "cell_type": "code",
   "execution_count": 35,
   "id": "c9e1a047",
   "metadata": {},
   "outputs": [
    {
     "name": "stdout",
     "output_type": "stream",
     "text": [
      "\n",
      " SORTING DATA \n",
      "\n",
      "   discipline  phd  service     sex    salary\n",
      "13          B    1      0.0    Male   88000.0\n",
      "14          B    1      0.0    Male   88000.0\n",
      "25          A    2      0.0    Male   85000.0\n",
      "19          B    4      0.0    Male   92000.0\n",
      "54          A   12      0.0  Female  105000.0\n",
      "..        ...  ...      ...     ...       ...\n",
      "29          A   45     43.0    Male  155865.0\n",
      "38          B   45     45.0    Male  146856.0\n",
      "0           B   56     49.0    Male  186960.0\n",
      "10          A   51     51.0    Male   57800.0\n",
      "4           B   20      NaN    Male  104800.0\n",
      "\n",
      "[80 rows x 5 columns]\n",
      "   discipline  phd  service     sex    salary\n",
      "10          A   51     51.0    Male   57800.0\n",
      "0           B   56     49.0    Male  186960.0\n",
      "38          B   45     45.0    Male  146856.0\n",
      "29          A   45     43.0    Male  155865.0\n",
      "42          A   39     36.0  Female  137000.0\n",
      "..        ...  ...      ...     ...       ...\n",
      "45          B    5      0.0  Female   77000.0\n",
      "25          A    2      0.0    Male   85000.0\n",
      "57          A    2      0.0  Female   72500.0\n",
      "54          A   12      0.0  Female  105000.0\n",
      "4           B   20      NaN    Male  104800.0\n",
      "\n",
      "[80 rows x 5 columns]\n"
     ]
    }
   ],
   "source": [
    "print(\"\\n SORTING DATA \\n\")\n",
    "print(df.sort_values (by='service', ascending=True))\n",
    "#in decending order\n",
    "print(df.sort_values (by='service', ascending=False))\n"
   ]
  },
  {
   "cell_type": "markdown",
   "id": "8ebde8fd",
   "metadata": {},
   "source": [
    "CREATE A NEW COLUMNS"
   ]
  },
  {
   "cell_type": "code",
   "execution_count": 36,
   "id": "2d1f8b67",
   "metadata": {},
   "outputs": [
    {
     "name": "stdout",
     "output_type": "stream",
     "text": [
      "\n",
      " DataFrame after adding a new column 'New_col' \n",
      "\n",
      "  discipline  phd  service   sex    salary  New_col\n",
      "0          B   56     49.0  Male  186960.0     98.0\n",
      "1          A   12      6.0  Male   93000.0     12.0\n",
      "2          A   23     20.0  Male  110515.0     40.0\n",
      "3          A   40     31.0   NaN  131205.0     62.0\n",
      "4          B   20      NaN  Male  104800.0      NaN\n"
     ]
    }
   ],
   "source": [
    "df['New_col']= df['service'] * 2  # Creating a new column by multiplying 'service' by 2\n",
    "print(\"\\n DataFrame after adding a new column 'New_col' \\n\")\n",
    "print(df.head())"
   ]
  },
  {
   "cell_type": "markdown",
   "id": "7e7becb2",
   "metadata": {},
   "source": [
    "AGGREGATION/Grouping"
   ]
  },
  {
   "cell_type": "code",
   "execution_count": 37,
   "id": "b60efce4",
   "metadata": {},
   "outputs": [
    {
     "name": "stdout",
     "output_type": "stream",
     "text": [
      "service\n",
      "0.0      3.857143\n",
      "1.0      3.000000\n",
      "2.0      4.750000\n",
      "3.0      8.000000\n",
      "4.0      4.000000\n",
      "5.0     10.000000\n",
      "6.0     12.666667\n",
      "7.0     17.500000\n",
      "8.0     13.750000\n",
      "9.0     12.000000\n",
      "10.0    14.333333\n",
      "11.0    14.000000\n",
      "14.0    24.000000\n",
      "15.0    23.500000\n",
      "17.0    18.000000\n",
      "18.0    17.800000\n",
      "19.0    29.666667\n",
      "20.0    21.333333\n",
      "21.0    22.000000\n",
      "22.0    25.000000\n",
      "23.0    27.000000\n",
      "24.0    26.000000\n",
      "25.0    25.000000\n",
      "26.0    36.000000\n",
      "27.0    29.000000\n",
      "30.0    33.000000\n",
      "31.0    37.500000\n",
      "33.0    37.000000\n",
      "36.0    39.000000\n",
      "43.0    45.000000\n",
      "45.0    45.000000\n",
      "49.0    56.000000\n",
      "51.0    51.000000\n",
      "Name: phd, dtype: float64\n"
     ]
    }
   ],
   "source": [
    "# Grouping by 'service' and calculating the mean of 'phd'\n",
    "print(df.groupby('service')['phd'].mean())"
   ]
  },
  {
   "cell_type": "markdown",
   "id": "b566e791",
   "metadata": {},
   "source": [
    "RENAMING COLUMN"
   ]
  },
  {
   "cell_type": "code",
   "execution_count": 38,
   "id": "399cd067",
   "metadata": {},
   "outputs": [
    {
     "name": "stdout",
     "output_type": "stream",
     "text": [
      "\n",
      " DataFrame after renaming 'phd' to 'PhD' \n",
      "\n",
      "  discipline  PhD  service   sex    salary  New_col\n",
      "0          B   56     49.0  Male  186960.0     98.0\n",
      "1          A   12      6.0  Male   93000.0     12.0\n",
      "2          A   23     20.0  Male  110515.0     40.0\n",
      "3          A   40     31.0   NaN  131205.0     62.0\n",
      "4          B   20      NaN  Male  104800.0      NaN\n"
     ]
    }
   ],
   "source": [
    "df.rename(columns={'phd': 'PhD'}, inplace=True)  # Renaming 'phd' to 'PhD'\n",
    "print(\"\\n DataFrame after renaming 'phd' to 'PhD' \\n\")\n",
    "print(df.head())"
   ]
  },
  {
   "cell_type": "markdown",
   "id": "25a5cbb5",
   "metadata": {},
   "source": [
    "HANDLING DUPLICATES"
   ]
  },
  {
   "cell_type": "code",
   "execution_count": 41,
   "id": "9ebf4079",
   "metadata": {},
   "outputs": [
    {
     "name": "stdout",
     "output_type": "stream",
     "text": [
      "\n",
      " Checking for Duplicates \n",
      "\n",
      "2\n"
     ]
    }
   ],
   "source": [
    "print(\"\\n Checking for Duplicates \\n\")\n",
    "print(df.duplicated().sum())  # Check for duplicates"
   ]
  },
  {
   "cell_type": "code",
   "execution_count": 42,
   "id": "58b28b62",
   "metadata": {},
   "outputs": [
    {
     "name": "stdout",
     "output_type": "stream",
     "text": [
      "\n",
      " DataFrame after dropping duplicates \n",
      "\n",
      "  discipline  PhD  service   sex    salary  New_col\n",
      "0          B   56     49.0  Male  186960.0     98.0\n",
      "1          A   12      6.0  Male   93000.0     12.0\n",
      "2          A   23     20.0  Male  110515.0     40.0\n",
      "3          A   40     31.0   NaN  131205.0     62.0\n",
      "4          B   20      NaN  Male  104800.0      NaN\n",
      "(78, 6)\n",
      "0\n"
     ]
    }
   ],
   "source": [
    "# Drop Duplicates \n",
    "df.drop_duplicates(inplace=True)  # Drop duplicates\n",
    "print(\"\\n DataFrame after dropping duplicates \\n\")\n",
    "print(df.head())    \n",
    "print(df.shape)\n",
    "print(df.duplicated().sum())  # Check again for duplicates after dropping"
   ]
  },
  {
   "cell_type": "markdown",
   "id": "d843540d",
   "metadata": {},
   "source": [
    "HANDLING MISSING VALUES"
   ]
  },
  {
   "cell_type": "code",
   "execution_count": 45,
   "id": "24d06ad0",
   "metadata": {},
   "outputs": [
    {
     "name": "stdout",
     "output_type": "stream",
     "text": [
      "\n",
      " Missing Values \n",
      "\n",
      "discipline    1\n",
      "PhD           0\n",
      "service       1\n",
      "sex           1\n",
      "salary        1\n",
      "New_col       1\n",
      "dtype: int64\n"
     ]
    }
   ],
   "source": [
    "print(\"\\n Missing Values \\n\")\n",
    "print(df.isnull().sum())  # Check for missing values in each column\n",
    "# print(df.notnull().sum())  # Check for non-missing values in each column"
   ]
  },
  {
   "cell_type": "markdown",
   "id": "8c4ed594",
   "metadata": {},
   "source": [
    "Fill numeric columns with statistical values"
   ]
  },
  {
   "cell_type": "code",
   "execution_count": 47,
   "id": "35e0707a",
   "metadata": {},
   "outputs": [
    {
     "name": "stdout",
     "output_type": "stream",
     "text": [
      "\n",
      " DataFrame after filling missing values in 'service' \n",
      "\n",
      "discipline    1\n",
      "PhD           0\n",
      "service       0\n",
      "sex           1\n",
      "salary        1\n",
      "New_col       1\n",
      "dtype: int64\n"
     ]
    }
   ],
   "source": [
    "df['service']=df['service'].fillna(df['service'].mean())  # Fill missing values in 'service' with the mean\n",
    "# df['service']=df['service'].fillna(df['service'].median())  # Fill missing values in 'service' with the median\n",
    "# df['service']=df['service'].fillna(df['service'].mode()[0])  # Fill missing values in 'service' with the mod\n",
    "print(\"\\n DataFrame after filling missing values in 'service' \\n\")\n",
    "print(df.isnull().sum())  # Check for missing values again"
   ]
  },
  {
   "cell_type": "markdown",
   "id": "54dfc7cf",
   "metadata": {},
   "source": [
    "Forward / Backward fill using modern syntax[ Useful in time series or ordered data]"
   ]
  },
  {
   "cell_type": "code",
   "execution_count": 50,
   "id": "592dd731",
   "metadata": {},
   "outputs": [],
   "source": [
    "df= df.ffill() # forward fill missing values\n",
    "df= df.bfill() # backward fill missing values"
   ]
  },
  {
   "cell_type": "markdown",
   "id": "4e074e40",
   "metadata": {},
   "source": [
    "Drop rows/columns with NaN (uncomment if needed)"
   ]
  },
  {
   "cell_type": "code",
   "execution_count": 52,
   "id": "d5f2d631",
   "metadata": {},
   "outputs": [
    {
     "name": "stdout",
     "output_type": "stream",
     "text": [
      "\n",
      " DataFrame after dropping rows with missing values \n",
      "\n",
      "discipline    0\n",
      "PhD           0\n",
      "service       0\n",
      "sex           0\n",
      "salary        0\n",
      "New_col       0\n",
      "dtype: int64\n",
      "(78, 6)\n"
     ]
    }
   ],
   "source": [
    "\n",
    "df.dropna(inplace=True)\n",
    "df.dropna(axis=1, inplace=True)\n",
    "print(\"\\n DataFrame after dropping rows with missing values \\n\")\n",
    "print(df.isnull().sum())  # Check for missing values again\n",
    "print(df.shape)  # Check the shape of the DataFrame after dropping rows with missing values"
   ]
  },
  {
   "cell_type": "code",
   "execution_count": 53,
   "id": "4e4f8dcb",
   "metadata": {},
   "outputs": [
    {
     "name": "stdout",
     "output_type": "stream",
     "text": [
      "\n",
      " Missing values after cleaning:\n",
      "discipline    0\n",
      "PhD           0\n",
      "service       0\n",
      "sex           0\n",
      "salary        0\n",
      "New_col       0\n",
      "dtype: int64\n"
     ]
    }
   ],
   "source": [
    "# Final missing value report\n",
    "print(\"\\n Missing values after cleaning:\")\n",
    "print(df.isnull().sum())"
   ]
  },
  {
   "cell_type": "markdown",
   "id": "e5e30703",
   "metadata": {},
   "source": [
    "Loop through rows\n",
    "\n"
   ]
  },
  {
   "cell_type": "code",
   "execution_count": null,
   "id": "cd9bfcd0",
   "metadata": {},
   "outputs": [
    {
     "name": "stdout",
     "output_type": "stream",
     "text": [
      "49.0 officer has PhD 56\n",
      "6.0 officer has PhD 12\n",
      "20.0 officer has PhD 23\n",
      "31.0 officer has PhD 40\n",
      "15.012987012987013 officer has PhD 20\n",
      "20.0 officer has PhD 20\n",
      "17.0 officer has PhD 20\n",
      "18.0 officer has PhD 18\n",
      "19.0 officer has PhD 29\n",
      "51.0 officer has PhD 51\n",
      "33.0 officer has PhD 39\n",
      "23.0 officer has PhD 23\n",
      "0.0 officer has PhD 1\n",
      "33.0 officer has PhD 35\n",
      "19.0 officer has PhD 25\n",
      "3.0 officer has PhD 17\n",
      "3.0 officer has PhD 8\n",
      "0.0 officer has PhD 4\n",
      "7.0 officer has PhD 19\n",
      "27.0 officer has PhD 29\n",
      "4.0 officer has PhD 4\n",
      "30.0 officer has PhD 33\n",
      "2.0 officer has PhD 4\n",
      "0.0 officer has PhD 2\n",
      "23.0 officer has PhD 30\n",
      "31.0 officer has PhD 35\n",
      "19.0 officer has PhD 38\n",
      "43.0 officer has PhD 45\n",
      "2.0 officer has PhD 7\n",
      "20.0 officer has PhD 21\n",
      "7.0 officer has PhD 9\n",
      "21.0 officer has PhD 22\n",
      "19.0 officer has PhD 27\n",
      "18.0 officer has PhD 18\n",
      "8.0 officer has PhD 12\n",
      "23.0 officer has PhD 28\n",
      "45.0 officer has PhD 45\n",
      "8.0 officer has PhD 20\n",
      "3.0 officer has PhD 4\n",
      "18.0 officer has PhD 18\n",
      "36.0 officer has PhD 39\n",
      "8.0 officer has PhD 13\n",
      "2.0 officer has PhD 4\n",
      "0.0 officer has PhD 5\n",
      "19.0 officer has PhD 23\n",
      "25.0 officer has PhD 25\n",
      "3.0 officer has PhD 11\n",
      "11.0 officer has PhD 11\n",
      "17.0 officer has PhD 17\n",
      "18.0 officer has PhD 17\n",
      "5.0 officer has PhD 10\n",
      "14.0 officer has PhD 20\n",
      "0.0 officer has PhD 12\n",
      "3.0 officer has PhD 5\n",
      "22.0 officer has PhD 25\n",
      "0.0 officer has PhD 2\n",
      "8.0 officer has PhD 10\n",
      "1.0 officer has PhD 3\n",
      "26.0 officer has PhD 36\n",
      "10.0 officer has PhD 12\n",
      "3.0 officer has PhD 3\n",
      "10.0 officer has PhD 13\n",
      "7.0 officer has PhD 14\n",
      "27.0 officer has PhD 29\n",
      "24.0 officer has PhD 26\n",
      "19.0 officer has PhD 36\n",
      "6.0 officer has PhD 7\n",
      "11.0 officer has PhD 17\n",
      "2.0 officer has PhD 4\n",
      "7.0 officer has PhD 28\n",
      "3.0 officer has PhD 8\n",
      "9.0 officer has PhD 12\n",
      "15.0 officer has PhD 24\n",
      "10.0 officer has PhD 18\n",
      "6.0 officer has PhD 19\n",
      "17.0 officer has PhD 17\n",
      "14.0 officer has PhD 28\n",
      "15.0 officer has PhD 23\n"
     ]
    }
   ],
   "source": [
    "#loop not recommed for large datasets, but for small datasets it is fine\n",
    "for index, row in df.iterrows():\n",
    "    print(f\"{row['service']} officer has PhD {row['PhD']}\")"
   ]
  },
  {
   "cell_type": "markdown",
   "id": "5a946078",
   "metadata": {},
   "source": [
    "# EXPORT Cleaned DATA"
   ]
  },
  {
   "cell_type": "code",
   "execution_count": 58,
   "id": "d7f6ae7c",
   "metadata": {},
   "outputs": [],
   "source": [
    "df.to_csv(\"CleaneD_testdata_File.csv\", index=False)  # Save the cleaned DataFrame to a new CSV file\n",
    "#index is false is use to avoid writing row indices to the CSV file"
   ]
  },
  {
   "cell_type": "markdown",
   "id": "a2058b55",
   "metadata": {},
   "source": [
    "Cleaned data save in CleaneD_CSV_File.csv file"
   ]
  }
 ],
 "metadata": {
  "kernelspec": {
   "display_name": "Python 3",
   "language": "python",
   "name": "python3"
  },
  "language_info": {
   "codemirror_mode": {
    "name": "ipython",
    "version": 3
   },
   "file_extension": ".py",
   "mimetype": "text/x-python",
   "name": "python",
   "nbconvert_exporter": "python",
   "pygments_lexer": "ipython3",
   "version": "3.11.3"
  }
 },
 "nbformat": 4,
 "nbformat_minor": 5
}
