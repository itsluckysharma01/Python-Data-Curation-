{
 "cells": [
  {
   "cell_type": "markdown",
   "id": "104f6fda",
   "metadata": {},
   "source": [
    "Python Questions"
   ]
  },
  {
   "cell_type": "code",
   "execution_count": null,
   "id": "d2ca1b3e",
   "metadata": {},
   "outputs": [],
   "source": []
  },
  {
   "cell_type": "markdown",
   "id": "226960ce",
   "metadata": {},
   "source": [
    "To Display CAlander\n"
   ]
  },
  {
   "cell_type": "code",
   "execution_count": 4,
   "id": "8f1c081f",
   "metadata": {},
   "outputs": [
    {
     "name": "stdout",
     "output_type": "stream",
     "text": [
      "     March 2004\n",
      "Mo Tu We Th Fr Sa Su\n",
      " 1  2  3  4  5  6  7\n",
      " 8  9 10 11 12 13 14\n",
      "15 16 17 18 19 20 21\n",
      "22 23 24 25 26 27 28\n",
      "29 30 31\n",
      "\n"
     ]
    }
   ],
   "source": [
    "import calendar\n",
    "year=int(input(\"Enter Year: \"))\n",
    "month=int(input(\"Enter Month: \"))\n",
    "cal = calendar.month(year,month)\n",
    "print(cal)"
   ]
  },
  {
   "cell_type": "markdown",
   "id": "16fc8693",
   "metadata": {},
   "source": [
    "Number is idd or even   "
   ]
  },
  {
   "cell_type": "code",
   "execution_count": 6,
   "id": "49ce8225",
   "metadata": {},
   "outputs": [
    {
     "name": "stdout",
     "output_type": "stream",
     "text": [
      "Number is odd\n"
     ]
    }
   ],
   "source": [
    "n=int(input(\"Enter nummber: \"))\n",
    "if n%2 ==0:\n",
    "    print(\"Number is EVEN\")\n",
    "else:\n",
    "    print(\"Number is ODD\")"
   ]
  },
  {
   "cell_type": "markdown",
   "id": "8d444d8b",
   "metadata": {},
   "source": [
    "Check For Leep Year"
   ]
  },
  {
   "cell_type": "code",
   "execution_count": 9,
   "id": "9310c5c1",
   "metadata": {},
   "outputs": [
    {
     "name": "stdout",
     "output_type": "stream",
     "text": [
      "2016  is Leep Year\n"
     ]
    }
   ],
   "source": [
    "n=int(input(\"Enter Year: \"))\n",
    "if n%4 ==0:\n",
    "    print(n, \" is Leep Year\")\n",
    "else:\n",
    "    print(n, \" is Not a leep Year\")"
   ]
  },
  {
   "cell_type": "markdown",
   "id": "7aa428ef",
   "metadata": {},
   "source": [
    "Armstrong Number\n",
    "It is a number that is equal to the sum of its own digits, each raised to a power equal to the number of digits in the number.\n",
    "\n",
    "For example, let's consider the number 153:\n",
    "\n",
    "It has three digits (1, 5, and 3).\n",
    "If we calculate  13  +  53+33 , we get  1+125+27 , which is equal to  153 .\n",
    "So, 153 is an Armstrong number because it equals the sum of its digits raised to the power of the number of digits in the number.\n",
    "\n",
    "Another example is 9474:\n",
    "\n",
    "It has four digits (9, 4, 7, and 4).\n",
    "If we calculate  94+44+74+44 , we get  6561+256+2401+256 , which is also equal to  9474 .\n",
    "Therefore, 9474 is an Armstrong number as well."
   ]
  },
  {
   "cell_type": "code",
   "execution_count": 13,
   "id": "dfc87a1a",
   "metadata": {},
   "outputs": [
    {
     "name": "stdout",
     "output_type": "stream",
     "text": [
      "111 is not an Armstrong number\n"
     ]
    }
   ],
   "source": [
    "# Check for Armstrong Number\n",
    "\n",
    "num = int(input(\"Enter a number: \"))\n",
    "order = len(str(num))\n",
    "sum_of_powers = sum(int(digit) ** order for digit in str(num))\n",
    "\n",
    "if num == sum_of_powers:\n",
    "    print(num, \"is an Armstrong number\")\n",
    "else:\n",
    "    print(num, \"is not an Armstrong number\")"
   ]
  },
  {
   "cell_type": "markdown",
   "id": "37641c7e",
   "metadata": {},
   "source": [
    "Write a Python Program to calculate the natural logarithm of any number.\n",
    "The natural logarithm, often denoted as ln, is a mathematical function that represents the logarithm to the base e, where e is the mathematical constant approximately equal to 2.71828. In other words, for a positive number x, the natural logarithm of x is the exponent y that satisfies the equation ey=x.\n",
    "\n",
    "Mathematically, the natural logarithm is expressed as:\n",
    "\n",
    "ln(x)\n",
    "\n",
    "It is commonly used in various branches of mathematics, especially in calculus and mathematical analysis, as well as in fields such as physics, economics, and engineering. The natural logarithm has properties that make it particularly useful in situations involving exponential growth or decay."
   ]
  },
  {
   "cell_type": "code",
   "execution_count": 17,
   "id": "58692a63",
   "metadata": {},
   "outputs": [
    {
     "name": "stdout",
     "output_type": "stream",
     "text": [
      "Natural logirthm of 20.0 is 2.995732273553991\n"
     ]
    }
   ],
   "source": [
    "import math\n",
    "n=float(input(\"Enter number: \"))\n",
    "if n>0:\n",
    "    print(\"Natural logirthm of\", n, \"is\", math.log(n))\n",
    "else:\n",
    "    print(\"Natural logarithm is not defined\")"
   ]
  },
  {
   "cell_type": "markdown",
   "id": "a491dad9",
   "metadata": {},
   "source": [
    "Write a Python Program to Convert Decimal to Binary, Octal and Hexadecimal.\n"
   ]
  },
  {
   "cell_type": "code",
   "execution_count": 29,
   "id": "19f35d24",
   "metadata": {},
   "outputs": [
    {
     "name": "stdout",
     "output_type": "stream",
     "text": [
      "Binary: 1000110\n",
      "Octal: 106\n",
      "Hexadecimal: 46\n"
     ]
    }
   ],
   "source": [
    "n=int(input(\"Enter a Decimal: \"))\n",
    "\n",
    "print(\"Binary:\", bin(n)[2:])\n",
    "print(\"Octal:\", oct(n)[2:])\n",
    "print(\"Hexadecimal:\", hex(n)[2:])"
   ]
  },
  {
   "cell_type": "markdown",
   "id": "3bc0890b",
   "metadata": {},
   "source": [
    "Write a Python Program to calculate your Body Mass Index.\n",
    "BMI=Weight (kg)Height (m)2\n"
   ]
  },
  {
   "cell_type": "code",
   "execution_count": 28,
   "id": "ccd209cf",
   "metadata": {},
   "outputs": [
    {
     "name": "stdout",
     "output_type": "stream",
     "text": [
      "Your BMI is: 16.75\n",
      "You are underweight\n"
     ]
    }
   ],
   "source": [
    "Weight = float(input(\"Enter weight in kg: \"))\n",
    "Height = float(input(\"Enter height in meters: \"))\n",
    "bmi = Weight / (Height ** 2)\n",
    "print(\"Your BMI is:\", bmi)\n",
    "if bmi < 18.5:\n",
    "    print(\"You are underweight\")\n",
    "elif 18.5 <= bmi < 24.9:\n",
    "    print(\"OverWeight\")\n",
    "else:\n",
    "    print(\"You are Obese\")"
   ]
  },
  {
   "cell_type": "markdown",
   "id": "24bb224a",
   "metadata": {},
   "source": [
    "Write a Python Program to find largest element in an array"
   ]
  },
  {
   "cell_type": "code",
   "execution_count": 23,
   "id": "93afeb55",
   "metadata": {},
   "outputs": [
    {
     "name": "stdout",
     "output_type": "stream",
     "text": [
      "Largest number in the list is: 87\n"
     ]
    }
   ],
   "source": [
    "n = [1,2,4,5,3,22,44,55,87]\n",
    "largest = max(n)\n",
    "print(\"Largest number in the list is:\", largest)"
   ]
  },
  {
   "cell_type": "markdown",
   "id": "95dd6c0d",
   "metadata": {},
   "source": [
    "                                                  SET QUESTIONS:                                                                          "
   ]
  },
  {
   "cell_type": "markdown",
   "id": "272c2da5",
   "metadata": {},
   "source": [
    "1. Write a program to remove duplicate characters from a string using a set.\n"
   ]
  },
  {
   "cell_type": "code",
   "execution_count": 2,
   "id": "ca31709e",
   "metadata": {},
   "outputs": [
    {
     "name": "stdout",
     "output_type": "stream",
     "text": [
      "Set Does not include duplicates:  {1, 2, 3, 4, 5, 6, 7}\n"
     ]
    }
   ],
   "source": [
    "n = {1,2,3,4,4,5,6,6,7,6,6}\n",
    "print(\"Set Does not include duplicates: \",n)"
   ]
  },
  {
   "cell_type": "markdown",
   "id": "766bde39",
   "metadata": {},
   "source": [
    "2. Give 2 lists find element that is present in both used sets.\n"
   ]
  },
  {
   "cell_type": "code",
   "execution_count": 4,
   "id": "89166f0f",
   "metadata": {},
   "outputs": [
    {
     "name": "stdout",
     "output_type": "stream",
     "text": [
      "{5}  Element is in both sets\n"
     ]
    }
   ],
   "source": [
    "n1={1,2,3,4,5}\n",
    "n2={5,6,7,8,9}\n",
    "n3=n1.intersection(n2)\n",
    "print(n3,\" Element is in both sets\")\n"
   ]
  },
  {
   "cell_type": "markdown",
   "id": "3af79639",
   "metadata": {},
   "source": [
    "3. Write a program to check if 2 string are using list.\n"
   ]
  },
  {
   "cell_type": "code",
   "execution_count": 9,
   "id": "21644ad3",
   "metadata": {},
   "outputs": [
    {
     "name": "stdout",
     "output_type": "stream",
     "text": [
      "Both Strings are not in the list\n"
     ]
    }
   ],
   "source": [
    "l=[\"Luck\",\"is\",\"a\",\"matter\",\"of\",\"preparation\"]\n",
    "n1=\"Luck\"\n",
    "n2=\"on\"\n",
    "if n1 in l and n2 in l:\n",
    "    print(\"Both Strings are in the list\")\n",
    "else:\n",
    "    print(\"Both Strings are not in the list\")\n"
   ]
  },
  {
   "cell_type": "markdown",
   "id": "3c12d10c",
   "metadata": {},
   "source": [
    "4. write a program to remove all element of one set from another set.\n"
   ]
  },
  {
   "cell_type": "code",
   "execution_count": 14,
   "id": "aefbcf93",
   "metadata": {},
   "outputs": [
    {
     "name": "stdout",
     "output_type": "stream",
     "text": [
      "{1, 2, 4, 6}\n"
     ]
    }
   ],
   "source": [
    "n1={1,2,3,4,5,6,7}\n",
    "n2={3,5,7,8,9}\n",
    "n3= n1.difference(n2)\n",
    "print(n3)\n",
    "\n"
   ]
  },
  {
   "cell_type": "markdown",
   "id": "e73f3971",
   "metadata": {},
   "source": [
    "5. write a function to return only unique word from the sentence.\n"
   ]
  },
  {
   "cell_type": "code",
   "execution_count": 21,
   "id": "bfd01d48",
   "metadata": {},
   "outputs": [
    {
     "name": "stdout",
     "output_type": "stream",
     "text": [
      "Unique Words in  Sentence are:  {'SHarma', 'My', 'name', 'Lucky', 'is'}\n"
     ]
    }
   ],
   "source": [
    "n=input(\"Enter A Sentence: \")\n",
    "n1=n.split()\n",
    "n2=set(n1)\n",
    "print(\"Unique Words in  Sentence are: \",n2)\n"
   ]
  },
  {
   "cell_type": "markdown",
   "id": "5e8cd8e2",
   "metadata": {},
   "source": [
    "6. Create 2 set of number  and return number that are even and appear in both sets.\n"
   ]
  },
  {
   "cell_type": "code",
   "execution_count": 23,
   "id": "bb9c8754",
   "metadata": {},
   "outputs": [
    {
     "name": "stdout",
     "output_type": "stream",
     "text": [
      "{2, 4}\n",
      "2\n",
      "4\n"
     ]
    }
   ],
   "source": [
    "n1={1,2,3,4,5,6,7,8}\n",
    "n2={11,2,4,55,67,9,80}\n",
    "n3=n1.intersection(n2)\n",
    "print(n3)\n",
    "for i in n3:\n",
    "    if i%2==0:\n",
    "        print(i)\n",
    "    \n"
   ]
  },
  {
   "cell_type": "markdown",
   "id": "2922ebcf",
   "metadata": {},
   "source": [
    "7. Find the missing number from the sequence using a sets\n"
   ]
  },
  {
   "cell_type": "code",
   "execution_count": 46,
   "id": "90d0ffee",
   "metadata": {},
   "outputs": [
    {
     "name": "stdout",
     "output_type": "stream",
     "text": [
      "[2, 4, 6, 8, 10, 12, 14, 16, 18, 20]\n",
      "{2, 4, 8, 10, 12, 14, 16, 18, 20}\n",
      "Missing value:  {6}\n"
     ]
    }
   ],
   "source": [
    "element=[]\n",
    "for i in range(2,21,2):\n",
    "    element.append(i)\n",
    "print(element)\n",
    "n={2,4,8,10,12,14,16,18,20}\n",
    "print(n)\n",
    "n5=set(element)\n",
    "n3=n5.difference(n)\n",
    "print(\"Missing value: \",n3)\n",
    "    \n",
    "\n"
   ]
  },
  {
   "cell_type": "markdown",
   "id": "8a6c839b",
   "metadata": {},
   "source": [
    "8. Take a list of word caste name and find the number of unique words  using a set.\n"
   ]
  },
  {
   "cell_type": "code",
   "execution_count": 51,
   "id": "19f94c1a",
   "metadata": {},
   "outputs": [
    {
     "name": "stdout",
     "output_type": "stream",
     "text": [
      "Word is:  Hii\n"
     ]
    }
   ],
   "source": [
    "l=[\"Hii\", \"general\",\"Lucky\"]\n",
    "print(\"Word is: \",l[0])\n"
   ]
  },
  {
   "cell_type": "markdown",
   "id": "33f70d74",
   "metadata": {},
   "source": [
    "9. Give a sentence find how many letters in your name with the help of sets."
   ]
  },
  {
   "cell_type": "code",
   "execution_count": null,
   "id": "c27f25ad",
   "metadata": {},
   "outputs": [
    {
     "name": "stdout",
     "output_type": "stream",
     "text": [
      "Number of unique characters in the name: 17\n"
     ]
    }
   ],
   "source": [
    "n=input(\"Enter Name :\")\n",
    "n2=set(n);\n",
    "print(\"Number of unique characters in the name:\", len(n2))"
   ]
  }
 ],
 "metadata": {
  "kernelspec": {
   "display_name": "Python 3",
   "language": "python",
   "name": "python3"
  },
  "language_info": {
   "codemirror_mode": {
    "name": "ipython",
    "version": 3
   },
   "file_extension": ".py",
   "mimetype": "text/x-python",
   "name": "python",
   "nbconvert_exporter": "python",
   "pygments_lexer": "ipython3",
   "version": "3.11.3"
  }
 },
 "nbformat": 4,
 "nbformat_minor": 5
}
