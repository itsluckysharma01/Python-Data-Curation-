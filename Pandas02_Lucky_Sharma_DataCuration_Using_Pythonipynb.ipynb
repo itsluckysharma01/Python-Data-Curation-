{
 "cells": [
  {
   "cell_type": "markdown",
   "id": "eb7186af",
   "metadata": {},
   "source": [
    "NumPy Questions"
   ]
  },
  {
   "cell_type": "markdown",
   "id": "a522c296",
   "metadata": {},
   "source": [
    "**Pandas** library in Python:\n",
    "\n",
    "---\n",
    "\n",
    "## 🐼 **Pandas – Python Library for Data Analysis**\n",
    "\n",
    "### 🔹 What is Pandas?\n",
    "\n",
    "**Pandas** is an open-source Python library providing fast, flexible, and expressive data structures designed to work with structured (tabular), semi-structured, and time-series data.\n",
    "\n",
    "It is especially useful for:\n",
    "\n",
    "* Cleaning and preparing data\n",
    "* Analyzing large datasets\n",
    "* Converting data formats\n",
    "* Performing data wrangling\n",
    "\n",
    "---\n",
    "\n",
    "### 🔹 Key Data Structures in Pandas:\n",
    "\n",
    "| Structure   | Description                                                                 |\n",
    "| ----------- | --------------------------------------------------------------------------- |\n",
    "| `Series`    | One-dimensional labeled array (like a column in Excel)                      |\n",
    "| `DataFrame` | Two-dimensional labeled data structure (like a table with rows and columns) |\n",
    "\n",
    "---\n",
    "\n",
    "### 🔹 Why Use Pandas?\n",
    "\n",
    "* Easy handling of **missing data**\n",
    "* Powerful **grouping** and **aggregation**\n",
    "* High-performance **merging** and **joining**\n",
    "* Built-in support for **time-series** data\n",
    "* Easy **reading and writing** to CSV, Excel, SQL, JSON, etc.\n",
    "\n",
    "---\n",
    "\n",
    "### 🔹 Common Pandas Functions:\n",
    "\n",
    "| Function                             | Purpose                             |\n",
    "| ------------------------------------ | ----------------------------------- |\n",
    "| `read_csv()`                         | Load data from a CSV file           |\n",
    "| `head()` / `tail()`                  | View top/bottom rows of a DataFrame |\n",
    "| `info()` / `describe()`              | Get data summary and statistics     |\n",
    "| `isnull()` / `dropna()` / `fillna()` | Handle missing data                 |\n",
    "| `groupby()`                          | Group and aggregate data            |\n",
    "| `merge()` / `join()` / `concat()`    | Combine DataFrames                  |\n",
    "| `to_csv()`                           | Export data to a CSV file           |\n",
    "\n",
    "---\n",
    "\n",
    "### 🔹 Example Code:\n",
    "\n",
    "```python\n",
    "import pandas as pd\n",
    "\n",
    "# Load CSV\n",
    "df = pd.read_csv('data.csv')\n",
    "\n",
    "# Show first 5 rows\n",
    "print(df.head())\n",
    "\n",
    "# Get basic info\n",
    "print(df.info())\n",
    "\n",
    "# Filter data\n",
    "filtered = df[df['age'] > 25]\n",
    "\n",
    "# Group by and mean\n",
    "grouped = df.groupby('department')['salary'].mean()\n",
    "```\n",
    "\n",
    "---\n",
    "\n",
    "### 🔹 Real-World Use Cases:\n",
    "\n",
    "* Analyzing sales data\n",
    "* Preprocessing datasets for machine learning\n",
    "* Financial data analysis\n",
    "* Automating reports and dashboards\n",
    "\n",
    "---\n",
    "\n"
   ]
  },
  {
   "cell_type": "markdown",
   "id": "e0957e94",
   "metadata": {},
   "source": []
  },
  {
   "cell_type": "code",
   "execution_count": null,
   "id": "44d7282f",
   "metadata": {},
   "outputs": [
    {
     "name": "stdout",
     "output_type": "stream",
     "text": [
      "    name  age      city\n",
      "0   John   24  New York\n",
      "1   Anna   13     Paris\n",
      "2  Peter   53    Berlin\n",
      "3  Linda   33    London\n",
      "   name  age      city\n",
      "0  John   24  New York\n",
      "1  Anna   13     Paris\n",
      "             age\n",
      "count   4.000000\n",
      "mean   30.750000\n",
      "std    16.938615\n",
      "min    13.000000\n",
      "25%    21.250000\n",
      "50%    28.500000\n",
      "75%    38.000000\n",
      "max    53.000000\n"
     ]
    }
   ],
   "source": [
    "import pandas as pd \n",
    "data = {'name':['John', 'Anna', 'Peter', 'Linda'],\n",
    "        'age':[24, 13, 53, 33],\n",
    "        'city':['New York', 'Paris', 'Berlin', 'London']}\n",
    "df = pd.DataFrame(data)\n",
    "print(df)\n",
    "\n",
    "#Inspect DataFrame\n",
    "print(df.head(2))\n",
    "print(df.describe())"
   ]
  },
  {
   "cell_type": "markdown",
   "id": "baa4c59d",
   "metadata": {},
   "source": [
    "Loading And Inspecting dataset:"
   ]
  },
  {
   "cell_type": "markdown",
   "id": "ca11aa4c",
   "metadata": {},
   "source": [
    "read(filepath)"
   ]
  },
  {
   "cell_type": "code",
   "execution_count": null,
   "id": "8110277c",
   "metadata": {},
   "outputs": [
    {
     "name": "stdout",
     "output_type": "stream",
     "text": [
      "   user_id  age gender     occupation zip_code\n",
      "0        1   24      M     technician    85711\n",
      "1        2   53      F          other    94043\n",
      "2        3   23      M         writer    32067\n",
      "3        4   24      M     technician    43537\n",
      "4        5   33      F          other    15213\n",
      "5        6   42      M      executive    98101\n",
      "6        7   57      M  administrator    91344\n",
      "7        8   36      M  administrator    05201\n",
      "8        9   29      M        student    01002\n",
      "9       10   53      M         lawyer    90703\n",
      "user_id       0\n",
      "age           0\n",
      "gender        0\n",
      "occupation    0\n",
      "zip_code      0\n",
      "dtype: int64\n"
     ]
    }
   ],
   "source": [
    "#load Dataset\n",
    "import pandas as pd\n",
    "data =pd.read_csv('https://raw.githubusercontent.com/justmarkham/DAT8/master/data/u.user', sep='|')\n",
    "print(data.head(10))\n",
    "#Null Values check\n",
    "print(data.isnull().sum())"
   ]
  },
  {
   "cell_type": "markdown",
   "id": "119537bf",
   "metadata": {},
   "source": [
    "Missing Values"
   ]
  },
  {
   "cell_type": "code",
   "execution_count": null,
   "id": "83909771",
   "metadata": {},
   "outputs": [],
   "source": [
    "df.fillna(value=0, inplace=True)\n",
    "#fill missing values\n",
    "print('df')\n",
    "\n",
    "df['column name'].filna(value=0, inplace=True)\n",
    "\n"
   ]
  },
  {
   "cell_type": "code",
   "execution_count": 8,
   "id": "f634af4e",
   "metadata": {},
   "outputs": [],
   "source": [
    "import pandas as pd"
   ]
  },
  {
   "cell_type": "code",
   "execution_count": 9,
   "id": "e13926f0",
   "metadata": {},
   "outputs": [
    {
     "data": {
      "text/plain": [
       "Index(['rank', 'discipline', 'phd', 'service', 'sex', 'salary'], dtype='object')"
      ]
     },
     "execution_count": 9,
     "metadata": {},
     "output_type": "execute_result"
    }
   ],
   "source": [
    "df=pd.read_csv(\"https://raw.githubusercontent.com/lovnishverma/datasets/refs/heads/main/testdata.csv\")\n",
    "df.columns"
   ]
  },
  {
   "cell_type": "code",
   "execution_count": 10,
   "id": "7a6c1cc5",
   "metadata": {},
   "outputs": [
    {
     "data": {
      "text/html": [
       "<div>\n",
       "<style scoped>\n",
       "    .dataframe tbody tr th:only-of-type {\n",
       "        vertical-align: middle;\n",
       "    }\n",
       "\n",
       "    .dataframe tbody tr th {\n",
       "        vertical-align: top;\n",
       "    }\n",
       "\n",
       "    .dataframe thead th {\n",
       "        text-align: right;\n",
       "    }\n",
       "</style>\n",
       "<table border=\"1\" class=\"dataframe\">\n",
       "  <thead>\n",
       "    <tr style=\"text-align: right;\">\n",
       "      <th></th>\n",
       "      <th>phd</th>\n",
       "      <th>service</th>\n",
       "      <th>salary</th>\n",
       "    </tr>\n",
       "  </thead>\n",
       "  <tbody>\n",
       "    <tr>\n",
       "      <th>count</th>\n",
       "      <td>80.000000</td>\n",
       "      <td>79.000000</td>\n",
       "      <td>79.000000</td>\n",
       "    </tr>\n",
       "    <tr>\n",
       "      <th>mean</th>\n",
       "      <td>19.450000</td>\n",
       "      <td>14.860759</td>\n",
       "      <td>107315.886076</td>\n",
       "    </tr>\n",
       "    <tr>\n",
       "      <th>std</th>\n",
       "      <td>12.516217</td>\n",
       "      <td>12.179990</td>\n",
       "      <td>27596.271520</td>\n",
       "    </tr>\n",
       "    <tr>\n",
       "      <th>min</th>\n",
       "      <td>1.000000</td>\n",
       "      <td>0.000000</td>\n",
       "      <td>57800.000000</td>\n",
       "    </tr>\n",
       "    <tr>\n",
       "      <th>25%</th>\n",
       "      <td>10.000000</td>\n",
       "      <td>4.500000</td>\n",
       "      <td>88000.000000</td>\n",
       "    </tr>\n",
       "    <tr>\n",
       "      <th>50%</th>\n",
       "      <td>18.000000</td>\n",
       "      <td>14.000000</td>\n",
       "      <td>104542.000000</td>\n",
       "    </tr>\n",
       "    <tr>\n",
       "      <th>75%</th>\n",
       "      <td>27.250000</td>\n",
       "      <td>20.500000</td>\n",
       "      <td>126300.000000</td>\n",
       "    </tr>\n",
       "    <tr>\n",
       "      <th>max</th>\n",
       "      <td>56.000000</td>\n",
       "      <td>51.000000</td>\n",
       "      <td>186960.000000</td>\n",
       "    </tr>\n",
       "  </tbody>\n",
       "</table>\n",
       "</div>"
      ],
      "text/plain": [
       "             phd    service         salary\n",
       "count  80.000000  79.000000      79.000000\n",
       "mean   19.450000  14.860759  107315.886076\n",
       "std    12.516217  12.179990   27596.271520\n",
       "min     1.000000   0.000000   57800.000000\n",
       "25%    10.000000   4.500000   88000.000000\n",
       "50%    18.000000  14.000000  104542.000000\n",
       "75%    27.250000  20.500000  126300.000000\n",
       "max    56.000000  51.000000  186960.000000"
      ]
     },
     "execution_count": 10,
     "metadata": {},
     "output_type": "execute_result"
    }
   ],
   "source": [
    "df.describe()"
   ]
  },
  {
   "cell_type": "code",
   "execution_count": 11,
   "id": "4eea1d33",
   "metadata": {},
   "outputs": [
    {
     "name": "stdout",
     "output_type": "stream",
     "text": [
      "<class 'pandas.core.frame.DataFrame'>\n",
      "RangeIndex: 80 entries, 0 to 79\n",
      "Data columns (total 6 columns):\n",
      " #   Column      Non-Null Count  Dtype  \n",
      "---  ------      --------------  -----  \n",
      " 0   rank        79 non-null     object \n",
      " 1   discipline  79 non-null     object \n",
      " 2   phd         80 non-null     int64  \n",
      " 3   service     79 non-null     float64\n",
      " 4   sex         79 non-null     object \n",
      " 5   salary      79 non-null     float64\n",
      "dtypes: float64(2), int64(1), object(3)\n",
      "memory usage: 3.9+ KB\n"
     ]
    }
   ],
   "source": [
    "df.info()"
   ]
  },
  {
   "cell_type": "code",
   "execution_count": 12,
   "id": "b642dd1c",
   "metadata": {},
   "outputs": [
    {
     "data": {
      "text/plain": [
       "rank           object\n",
       "discipline     object\n",
       "phd             int64\n",
       "service       float64\n",
       "sex            object\n",
       "salary        float64\n",
       "dtype: object"
      ]
     },
     "execution_count": 12,
     "metadata": {},
     "output_type": "execute_result"
    }
   ],
   "source": [
    "df.dtypes"
   ]
  },
  {
   "cell_type": "code",
   "execution_count": 13,
   "id": "57376433",
   "metadata": {},
   "outputs": [
    {
     "name": "stdout",
     "output_type": "stream",
     "text": [
      "\n",
      " First few rows:\n",
      "   rank discipline  phd  service   sex    salary\n",
      "0  Prof          B   56     49.0  Male  186960.0\n",
      "1  Prof          A   12      6.0  Male   93000.0\n",
      "2   NaN          A   23     20.0  Male  110515.0\n",
      "3  Prof          A   40     31.0   NaN  131205.0\n",
      "4  Prof          B   20      NaN  Male  104800.0\n",
      "\n",
      " Last few rows:\n",
      "         rank discipline  phd  service     sex    salary\n",
      "75       Prof          B   18     10.0  Female  105450.0\n",
      "76  AssocProf          B   19      6.0  Female  104542.0\n",
      "77       Prof          B   17     17.0  Female  124312.0\n",
      "78       Prof          A   28     14.0  Female  109954.0\n",
      "79       Prof          A   23     15.0  Female  109646.0\n",
      "\n",
      " Shape of DataFrame (rows, columns):\n",
      "(80, 6)\n",
      "\n",
      " Column names:\n",
      "Index(['rank', 'discipline', 'phd', 'service', 'sex', 'salary'], dtype='object')\n",
      "\n",
      " Data types:\n",
      "rank           object\n",
      "discipline     object\n",
      "phd             int64\n",
      "service       float64\n",
      "sex            object\n",
      "salary        float64\n",
      "dtype: object\n",
      "<class 'pandas.core.frame.DataFrame'>\n",
      "RangeIndex: 80 entries, 0 to 79\n",
      "Data columns (total 6 columns):\n",
      " #   Column      Non-Null Count  Dtype  \n",
      "---  ------      --------------  -----  \n",
      " 0   rank        79 non-null     object \n",
      " 1   discipline  79 non-null     object \n",
      " 2   phd         80 non-null     int64  \n",
      " 3   service     79 non-null     float64\n",
      " 4   sex         79 non-null     object \n",
      " 5   salary      79 non-null     float64\n",
      "dtypes: float64(2), int64(1), object(3)\n",
      "memory usage: 3.9+ KB\n",
      "None\n",
      "             phd    service         salary\n",
      "count  80.000000  79.000000      79.000000\n",
      "mean   19.450000  14.860759  107315.886076\n",
      "std    12.516217  12.179990   27596.271520\n",
      "min     1.000000   0.000000   57800.000000\n",
      "25%    10.000000   4.500000   88000.000000\n",
      "50%    18.000000  14.000000  104542.000000\n",
      "75%    27.250000  20.500000  126300.000000\n",
      "max    56.000000  51.000000  186960.000000\n"
     ]
    }
   ],
   "source": [
    "print(\"\\n First few rows:\")\n",
    "print(df.head())\n",
    "\n",
    "print(\"\\n Last few rows:\")\n",
    "print(df.tail())\n",
    "\n",
    "print(\"\\n Shape of DataFrame (rows, columns):\")\n",
    "print(df.shape)\n",
    "\n",
    "print(\"\\n Column names:\")\n",
    "print(df.columns)\n",
    "\n",
    "print(\"\\n Data types:\")\n",
    "print(df.dtypes)\n",
    "\n",
    "print(df.info())       # Data types & missing values\n",
    "print(df.describe())"
   ]
  },
  {
   "cell_type": "markdown",
   "id": "83e16a78",
   "metadata": {},
   "source": [
    "ilock df.iloc[:,:] rows and columns"
   ]
  },
  {
   "cell_type": "code",
   "execution_count": 14,
   "id": "f1d8f2e3",
   "metadata": {},
   "outputs": [
    {
     "data": {
      "text/html": [
       "<div>\n",
       "<style scoped>\n",
       "    .dataframe tbody tr th:only-of-type {\n",
       "        vertical-align: middle;\n",
       "    }\n",
       "\n",
       "    .dataframe tbody tr th {\n",
       "        vertical-align: top;\n",
       "    }\n",
       "\n",
       "    .dataframe thead th {\n",
       "        text-align: right;\n",
       "    }\n",
       "</style>\n",
       "<table border=\"1\" class=\"dataframe\">\n",
       "  <thead>\n",
       "    <tr style=\"text-align: right;\">\n",
       "      <th></th>\n",
       "      <th>rank</th>\n",
       "      <th>discipline</th>\n",
       "      <th>phd</th>\n",
       "      <th>service</th>\n",
       "      <th>sex</th>\n",
       "      <th>salary</th>\n",
       "    </tr>\n",
       "  </thead>\n",
       "  <tbody>\n",
       "    <tr>\n",
       "      <th>0</th>\n",
       "      <td>Prof</td>\n",
       "      <td>B</td>\n",
       "      <td>56</td>\n",
       "      <td>49.0</td>\n",
       "      <td>Male</td>\n",
       "      <td>186960.0</td>\n",
       "    </tr>\n",
       "    <tr>\n",
       "      <th>1</th>\n",
       "      <td>Prof</td>\n",
       "      <td>A</td>\n",
       "      <td>12</td>\n",
       "      <td>6.0</td>\n",
       "      <td>Male</td>\n",
       "      <td>93000.0</td>\n",
       "    </tr>\n",
       "    <tr>\n",
       "      <th>2</th>\n",
       "      <td>NaN</td>\n",
       "      <td>A</td>\n",
       "      <td>23</td>\n",
       "      <td>20.0</td>\n",
       "      <td>Male</td>\n",
       "      <td>110515.0</td>\n",
       "    </tr>\n",
       "    <tr>\n",
       "      <th>3</th>\n",
       "      <td>Prof</td>\n",
       "      <td>A</td>\n",
       "      <td>40</td>\n",
       "      <td>31.0</td>\n",
       "      <td>NaN</td>\n",
       "      <td>131205.0</td>\n",
       "    </tr>\n",
       "    <tr>\n",
       "      <th>4</th>\n",
       "      <td>Prof</td>\n",
       "      <td>B</td>\n",
       "      <td>20</td>\n",
       "      <td>NaN</td>\n",
       "      <td>Male</td>\n",
       "      <td>104800.0</td>\n",
       "    </tr>\n",
       "    <tr>\n",
       "      <th>5</th>\n",
       "      <td>Prof</td>\n",
       "      <td>A</td>\n",
       "      <td>20</td>\n",
       "      <td>20.0</td>\n",
       "      <td>Male</td>\n",
       "      <td>122400.0</td>\n",
       "    </tr>\n",
       "    <tr>\n",
       "      <th>6</th>\n",
       "      <td>AssocProf</td>\n",
       "      <td>A</td>\n",
       "      <td>20</td>\n",
       "      <td>17.0</td>\n",
       "      <td>Male</td>\n",
       "      <td>81285.0</td>\n",
       "    </tr>\n",
       "    <tr>\n",
       "      <th>7</th>\n",
       "      <td>Prof</td>\n",
       "      <td>A</td>\n",
       "      <td>18</td>\n",
       "      <td>18.0</td>\n",
       "      <td>Male</td>\n",
       "      <td>126300.0</td>\n",
       "    </tr>\n",
       "    <tr>\n",
       "      <th>8</th>\n",
       "      <td>Prof</td>\n",
       "      <td>A</td>\n",
       "      <td>18</td>\n",
       "      <td>18.0</td>\n",
       "      <td>Male</td>\n",
       "      <td>126300.0</td>\n",
       "    </tr>\n",
       "    <tr>\n",
       "      <th>9</th>\n",
       "      <td>Prof</td>\n",
       "      <td>A</td>\n",
       "      <td>29</td>\n",
       "      <td>19.0</td>\n",
       "      <td>Male</td>\n",
       "      <td>94350.0</td>\n",
       "    </tr>\n",
       "  </tbody>\n",
       "</table>\n",
       "</div>"
      ],
      "text/plain": [
       "        rank discipline  phd  service   sex    salary\n",
       "0       Prof          B   56     49.0  Male  186960.0\n",
       "1       Prof          A   12      6.0  Male   93000.0\n",
       "2        NaN          A   23     20.0  Male  110515.0\n",
       "3       Prof          A   40     31.0   NaN  131205.0\n",
       "4       Prof          B   20      NaN  Male  104800.0\n",
       "5       Prof          A   20     20.0  Male  122400.0\n",
       "6  AssocProf          A   20     17.0  Male   81285.0\n",
       "7       Prof          A   18     18.0  Male  126300.0\n",
       "8       Prof          A   18     18.0  Male  126300.0\n",
       "9       Prof          A   29     19.0  Male   94350.0"
      ]
     },
     "execution_count": 14,
     "metadata": {},
     "output_type": "execute_result"
    }
   ],
   "source": [
    "df.head(10)"
   ]
  },
  {
   "cell_type": "code",
   "execution_count": 16,
   "id": "d3c4f818",
   "metadata": {},
   "outputs": [
    {
     "data": {
      "text/html": [
       "<div>\n",
       "<style scoped>\n",
       "    .dataframe tbody tr th:only-of-type {\n",
       "        vertical-align: middle;\n",
       "    }\n",
       "\n",
       "    .dataframe tbody tr th {\n",
       "        vertical-align: top;\n",
       "    }\n",
       "\n",
       "    .dataframe thead th {\n",
       "        text-align: right;\n",
       "    }\n",
       "</style>\n",
       "<table border=\"1\" class=\"dataframe\">\n",
       "  <thead>\n",
       "    <tr style=\"text-align: right;\">\n",
       "      <th></th>\n",
       "      <th>rank</th>\n",
       "      <th>discipline</th>\n",
       "      <th>phd</th>\n",
       "      <th>service</th>\n",
       "      <th>sex</th>\n",
       "      <th>salary</th>\n",
       "    </tr>\n",
       "  </thead>\n",
       "  <tbody>\n",
       "    <tr>\n",
       "      <th>0</th>\n",
       "      <td>Prof</td>\n",
       "      <td>B</td>\n",
       "      <td>56</td>\n",
       "      <td>49.0</td>\n",
       "      <td>Male</td>\n",
       "      <td>186960.0</td>\n",
       "    </tr>\n",
       "    <tr>\n",
       "      <th>1</th>\n",
       "      <td>Prof</td>\n",
       "      <td>A</td>\n",
       "      <td>12</td>\n",
       "      <td>6.0</td>\n",
       "      <td>Male</td>\n",
       "      <td>93000.0</td>\n",
       "    </tr>\n",
       "    <tr>\n",
       "      <th>2</th>\n",
       "      <td>NaN</td>\n",
       "      <td>A</td>\n",
       "      <td>23</td>\n",
       "      <td>20.0</td>\n",
       "      <td>Male</td>\n",
       "      <td>110515.0</td>\n",
       "    </tr>\n",
       "    <tr>\n",
       "      <th>3</th>\n",
       "      <td>Prof</td>\n",
       "      <td>A</td>\n",
       "      <td>40</td>\n",
       "      <td>31.0</td>\n",
       "      <td>NaN</td>\n",
       "      <td>131205.0</td>\n",
       "    </tr>\n",
       "    <tr>\n",
       "      <th>4</th>\n",
       "      <td>Prof</td>\n",
       "      <td>B</td>\n",
       "      <td>20</td>\n",
       "      <td>NaN</td>\n",
       "      <td>Male</td>\n",
       "      <td>104800.0</td>\n",
       "    </tr>\n",
       "  </tbody>\n",
       "</table>\n",
       "</div>"
      ],
      "text/plain": [
       "   rank discipline  phd  service   sex    salary\n",
       "0  Prof          B   56     49.0  Male  186960.0\n",
       "1  Prof          A   12      6.0  Male   93000.0\n",
       "2   NaN          A   23     20.0  Male  110515.0\n",
       "3  Prof          A   40     31.0   NaN  131205.0\n",
       "4  Prof          B   20      NaN  Male  104800.0"
      ]
     },
     "execution_count": 16,
     "metadata": {},
     "output_type": "execute_result"
    }
   ],
   "source": [
    "df.head()"
   ]
  },
  {
   "cell_type": "markdown",
   "id": "f8007bfa",
   "metadata": {},
   "source": [
    "Slicing"
   ]
  },
  {
   "cell_type": "code",
   "execution_count": null,
   "id": "aca05759",
   "metadata": {},
   "outputs": [],
   "source": [
    "#df.iloc{:,:}\n",
    "#print(df[1:10:2]) #Start:Stop:Step\n"
   ]
  },
  {
   "cell_type": "code",
   "execution_count": null,
   "id": "7afdecca",
   "metadata": {},
   "outputs": [
    {
     "data": {
      "text/plain": [
       "'A'"
      ]
     },
     "execution_count": 17,
     "metadata": {},
     "output_type": "execute_result"
    }
   ],
   "source": [
    "df.iloc[1,1] #Rows , Columns"
   ]
  },
  {
   "cell_type": "code",
   "execution_count": 18,
   "id": "517f2c87",
   "metadata": {},
   "outputs": [
    {
     "data": {
      "text/plain": [
       "0    B\n",
       "1    A\n",
       "2    A\n",
       "Name: discipline, dtype: object"
      ]
     },
     "execution_count": 18,
     "metadata": {},
     "output_type": "execute_result"
    }
   ],
   "source": [
    "df.iloc[0:3,1] #Rows , Columns"
   ]
  },
  {
   "cell_type": "code",
   "execution_count": 19,
   "id": "900e82aa",
   "metadata": {},
   "outputs": [
    {
     "data": {
      "text/html": [
       "<div>\n",
       "<style scoped>\n",
       "    .dataframe tbody tr th:only-of-type {\n",
       "        vertical-align: middle;\n",
       "    }\n",
       "\n",
       "    .dataframe tbody tr th {\n",
       "        vertical-align: top;\n",
       "    }\n",
       "\n",
       "    .dataframe thead th {\n",
       "        text-align: right;\n",
       "    }\n",
       "</style>\n",
       "<table border=\"1\" class=\"dataframe\">\n",
       "  <thead>\n",
       "    <tr style=\"text-align: right;\">\n",
       "      <th></th>\n",
       "      <th>rank</th>\n",
       "      <th>discipline</th>\n",
       "      <th>phd</th>\n",
       "      <th>service</th>\n",
       "      <th>sex</th>\n",
       "    </tr>\n",
       "  </thead>\n",
       "  <tbody>\n",
       "    <tr>\n",
       "      <th>0</th>\n",
       "      <td>Prof</td>\n",
       "      <td>B</td>\n",
       "      <td>56</td>\n",
       "      <td>49.0</td>\n",
       "      <td>Male</td>\n",
       "    </tr>\n",
       "    <tr>\n",
       "      <th>1</th>\n",
       "      <td>Prof</td>\n",
       "      <td>A</td>\n",
       "      <td>12</td>\n",
       "      <td>6.0</td>\n",
       "      <td>Male</td>\n",
       "    </tr>\n",
       "    <tr>\n",
       "      <th>2</th>\n",
       "      <td>NaN</td>\n",
       "      <td>A</td>\n",
       "      <td>23</td>\n",
       "      <td>20.0</td>\n",
       "      <td>Male</td>\n",
       "    </tr>\n",
       "    <tr>\n",
       "      <th>3</th>\n",
       "      <td>Prof</td>\n",
       "      <td>A</td>\n",
       "      <td>40</td>\n",
       "      <td>31.0</td>\n",
       "      <td>NaN</td>\n",
       "    </tr>\n",
       "    <tr>\n",
       "      <th>4</th>\n",
       "      <td>Prof</td>\n",
       "      <td>B</td>\n",
       "      <td>20</td>\n",
       "      <td>NaN</td>\n",
       "      <td>Male</td>\n",
       "    </tr>\n",
       "    <tr>\n",
       "      <th>...</th>\n",
       "      <td>...</td>\n",
       "      <td>...</td>\n",
       "      <td>...</td>\n",
       "      <td>...</td>\n",
       "      <td>...</td>\n",
       "    </tr>\n",
       "    <tr>\n",
       "      <th>75</th>\n",
       "      <td>Prof</td>\n",
       "      <td>B</td>\n",
       "      <td>18</td>\n",
       "      <td>10.0</td>\n",
       "      <td>Female</td>\n",
       "    </tr>\n",
       "    <tr>\n",
       "      <th>76</th>\n",
       "      <td>AssocProf</td>\n",
       "      <td>B</td>\n",
       "      <td>19</td>\n",
       "      <td>6.0</td>\n",
       "      <td>Female</td>\n",
       "    </tr>\n",
       "    <tr>\n",
       "      <th>77</th>\n",
       "      <td>Prof</td>\n",
       "      <td>B</td>\n",
       "      <td>17</td>\n",
       "      <td>17.0</td>\n",
       "      <td>Female</td>\n",
       "    </tr>\n",
       "    <tr>\n",
       "      <th>78</th>\n",
       "      <td>Prof</td>\n",
       "      <td>A</td>\n",
       "      <td>28</td>\n",
       "      <td>14.0</td>\n",
       "      <td>Female</td>\n",
       "    </tr>\n",
       "    <tr>\n",
       "      <th>79</th>\n",
       "      <td>Prof</td>\n",
       "      <td>A</td>\n",
       "      <td>23</td>\n",
       "      <td>15.0</td>\n",
       "      <td>Female</td>\n",
       "    </tr>\n",
       "  </tbody>\n",
       "</table>\n",
       "<p>80 rows × 5 columns</p>\n",
       "</div>"
      ],
      "text/plain": [
       "         rank discipline  phd  service     sex\n",
       "0        Prof          B   56     49.0    Male\n",
       "1        Prof          A   12      6.0    Male\n",
       "2         NaN          A   23     20.0    Male\n",
       "3        Prof          A   40     31.0     NaN\n",
       "4        Prof          B   20      NaN    Male\n",
       "..        ...        ...  ...      ...     ...\n",
       "75       Prof          B   18     10.0  Female\n",
       "76  AssocProf          B   19      6.0  Female\n",
       "77       Prof          B   17     17.0  Female\n",
       "78       Prof          A   28     14.0  Female\n",
       "79       Prof          A   23     15.0  Female\n",
       "\n",
       "[80 rows x 5 columns]"
      ]
     },
     "execution_count": 19,
     "metadata": {},
     "output_type": "execute_result"
    }
   ],
   "source": [
    "df.iloc[:,0:5]"
   ]
  },
  {
   "cell_type": "code",
   "execution_count": 21,
   "id": "37539e37",
   "metadata": {},
   "outputs": [
    {
     "data": {
      "text/html": [
       "<div>\n",
       "<style scoped>\n",
       "    .dataframe tbody tr th:only-of-type {\n",
       "        vertical-align: middle;\n",
       "    }\n",
       "\n",
       "    .dataframe tbody tr th {\n",
       "        vertical-align: top;\n",
       "    }\n",
       "\n",
       "    .dataframe thead th {\n",
       "        text-align: right;\n",
       "    }\n",
       "</style>\n",
       "<table border=\"1\" class=\"dataframe\">\n",
       "  <thead>\n",
       "    <tr style=\"text-align: right;\">\n",
       "      <th></th>\n",
       "      <th>rank</th>\n",
       "      <th>discipline</th>\n",
       "      <th>phd</th>\n",
       "      <th>service</th>\n",
       "    </tr>\n",
       "  </thead>\n",
       "  <tbody>\n",
       "    <tr>\n",
       "      <th>0</th>\n",
       "      <td>Prof</td>\n",
       "      <td>B</td>\n",
       "      <td>56</td>\n",
       "      <td>49.0</td>\n",
       "    </tr>\n",
       "    <tr>\n",
       "      <th>1</th>\n",
       "      <td>Prof</td>\n",
       "      <td>A</td>\n",
       "      <td>12</td>\n",
       "      <td>6.0</td>\n",
       "    </tr>\n",
       "    <tr>\n",
       "      <th>2</th>\n",
       "      <td>NaN</td>\n",
       "      <td>A</td>\n",
       "      <td>23</td>\n",
       "      <td>20.0</td>\n",
       "    </tr>\n",
       "    <tr>\n",
       "      <th>3</th>\n",
       "      <td>Prof</td>\n",
       "      <td>A</td>\n",
       "      <td>40</td>\n",
       "      <td>31.0</td>\n",
       "    </tr>\n",
       "    <tr>\n",
       "      <th>4</th>\n",
       "      <td>Prof</td>\n",
       "      <td>B</td>\n",
       "      <td>20</td>\n",
       "      <td>NaN</td>\n",
       "    </tr>\n",
       "    <tr>\n",
       "      <th>...</th>\n",
       "      <td>...</td>\n",
       "      <td>...</td>\n",
       "      <td>...</td>\n",
       "      <td>...</td>\n",
       "    </tr>\n",
       "    <tr>\n",
       "      <th>75</th>\n",
       "      <td>Prof</td>\n",
       "      <td>B</td>\n",
       "      <td>18</td>\n",
       "      <td>10.0</td>\n",
       "    </tr>\n",
       "    <tr>\n",
       "      <th>76</th>\n",
       "      <td>AssocProf</td>\n",
       "      <td>B</td>\n",
       "      <td>19</td>\n",
       "      <td>6.0</td>\n",
       "    </tr>\n",
       "    <tr>\n",
       "      <th>77</th>\n",
       "      <td>Prof</td>\n",
       "      <td>B</td>\n",
       "      <td>17</td>\n",
       "      <td>17.0</td>\n",
       "    </tr>\n",
       "    <tr>\n",
       "      <th>78</th>\n",
       "      <td>Prof</td>\n",
       "      <td>A</td>\n",
       "      <td>28</td>\n",
       "      <td>14.0</td>\n",
       "    </tr>\n",
       "    <tr>\n",
       "      <th>79</th>\n",
       "      <td>Prof</td>\n",
       "      <td>A</td>\n",
       "      <td>23</td>\n",
       "      <td>15.0</td>\n",
       "    </tr>\n",
       "  </tbody>\n",
       "</table>\n",
       "<p>80 rows × 4 columns</p>\n",
       "</div>"
      ],
      "text/plain": [
       "         rank discipline  phd  service\n",
       "0        Prof          B   56     49.0\n",
       "1        Prof          A   12      6.0\n",
       "2         NaN          A   23     20.0\n",
       "3        Prof          A   40     31.0\n",
       "4        Prof          B   20      NaN\n",
       "..        ...        ...  ...      ...\n",
       "75       Prof          B   18     10.0\n",
       "76  AssocProf          B   19      6.0\n",
       "77       Prof          B   17     17.0\n",
       "78       Prof          A   28     14.0\n",
       "79       Prof          A   23     15.0\n",
       "\n",
       "[80 rows x 4 columns]"
      ]
     },
     "execution_count": 21,
     "metadata": {},
     "output_type": "execute_result"
    }
   ],
   "source": [
    "df.iloc[:,0:-2]"
   ]
  },
  {
   "cell_type": "code",
   "execution_count": 25,
   "id": "030cdfbb",
   "metadata": {},
   "outputs": [
    {
     "data": {
      "text/plain": [
       "0     56\n",
       "1     12\n",
       "2     23\n",
       "3     40\n",
       "4     20\n",
       "      ..\n",
       "75    18\n",
       "76    19\n",
       "77    17\n",
       "78    28\n",
       "79    23\n",
       "Name: phd, Length: 80, dtype: int64"
      ]
     },
     "execution_count": 25,
     "metadata": {},
     "output_type": "execute_result"
    }
   ],
   "source": [
    "df.loc[:,'phd'] #all rows, and col phd\n"
   ]
  },
  {
   "cell_type": "code",
   "execution_count": 26,
   "id": "1ba5664f",
   "metadata": {},
   "outputs": [
    {
     "data": {
      "text/html": [
       "<div>\n",
       "<style scoped>\n",
       "    .dataframe tbody tr th:only-of-type {\n",
       "        vertical-align: middle;\n",
       "    }\n",
       "\n",
       "    .dataframe tbody tr th {\n",
       "        vertical-align: top;\n",
       "    }\n",
       "\n",
       "    .dataframe thead th {\n",
       "        text-align: right;\n",
       "    }\n",
       "</style>\n",
       "<table border=\"1\" class=\"dataframe\">\n",
       "  <thead>\n",
       "    <tr style=\"text-align: right;\">\n",
       "      <th></th>\n",
       "      <th>rank</th>\n",
       "      <th>phd</th>\n",
       "    </tr>\n",
       "  </thead>\n",
       "  <tbody>\n",
       "    <tr>\n",
       "      <th>0</th>\n",
       "      <td>Prof</td>\n",
       "      <td>56</td>\n",
       "    </tr>\n",
       "    <tr>\n",
       "      <th>1</th>\n",
       "      <td>Prof</td>\n",
       "      <td>12</td>\n",
       "    </tr>\n",
       "    <tr>\n",
       "      <th>2</th>\n",
       "      <td>NaN</td>\n",
       "      <td>23</td>\n",
       "    </tr>\n",
       "  </tbody>\n",
       "</table>\n",
       "</div>"
      ],
      "text/plain": [
       "   rank  phd\n",
       "0  Prof   56\n",
       "1  Prof   12\n",
       "2   NaN   23"
      ]
     },
     "execution_count": 26,
     "metadata": {},
     "output_type": "execute_result"
    }
   ],
   "source": [
    "df.loc[0:2,['rank','phd']]"
   ]
  },
  {
   "cell_type": "code",
   "execution_count": 27,
   "id": "ea289b34",
   "metadata": {},
   "outputs": [
    {
     "name": "stdout",
     "output_type": "stream",
     "text": [
      "0          Prof\n",
      "1          Prof\n",
      "2           NaN\n",
      "3          Prof\n",
      "4          Prof\n",
      "        ...    \n",
      "75         Prof\n",
      "76    AssocProf\n",
      "77         Prof\n",
      "78         Prof\n",
      "79         Prof\n",
      "Name: rank, Length: 80, dtype: object\n"
     ]
    }
   ],
   "source": [
    "print(df['rank'])"
   ]
  },
  {
   "cell_type": "code",
   "execution_count": 28,
   "id": "0df238c3",
   "metadata": {},
   "outputs": [
    {
     "name": "stdout",
     "output_type": "stream",
     "text": [
      "         rank  phd\n",
      "0        Prof   56\n",
      "1        Prof   12\n",
      "2         NaN   23\n",
      "3        Prof   40\n",
      "4        Prof   20\n",
      "..        ...  ...\n",
      "75       Prof   18\n",
      "76  AssocProf   19\n",
      "77       Prof   17\n",
      "78       Prof   28\n",
      "79       Prof   23\n",
      "\n",
      "[80 rows x 2 columns]\n"
     ]
    }
   ],
   "source": [
    "print(df[['rank','phd']])"
   ]
  },
  {
   "cell_type": "code",
   "execution_count": 29,
   "id": "a1e64ac7",
   "metadata": {},
   "outputs": [
    {
     "data": {
      "text/html": [
       "<div>\n",
       "<style scoped>\n",
       "    .dataframe tbody tr th:only-of-type {\n",
       "        vertical-align: middle;\n",
       "    }\n",
       "\n",
       "    .dataframe tbody tr th {\n",
       "        vertical-align: top;\n",
       "    }\n",
       "\n",
       "    .dataframe thead th {\n",
       "        text-align: right;\n",
       "    }\n",
       "</style>\n",
       "<table border=\"1\" class=\"dataframe\">\n",
       "  <thead>\n",
       "    <tr style=\"text-align: right;\">\n",
       "      <th></th>\n",
       "      <th>rank</th>\n",
       "      <th>discipline</th>\n",
       "      <th>phd</th>\n",
       "      <th>service</th>\n",
       "      <th>sex</th>\n",
       "      <th>salary</th>\n",
       "    </tr>\n",
       "  </thead>\n",
       "  <tbody>\n",
       "    <tr>\n",
       "      <th>0</th>\n",
       "      <td>Prof</td>\n",
       "      <td>B</td>\n",
       "      <td>56</td>\n",
       "      <td>49.0</td>\n",
       "      <td>Male</td>\n",
       "      <td>186960.0</td>\n",
       "    </tr>\n",
       "    <tr>\n",
       "      <th>10</th>\n",
       "      <td>Prof</td>\n",
       "      <td>A</td>\n",
       "      <td>51</td>\n",
       "      <td>51.0</td>\n",
       "      <td>Male</td>\n",
       "      <td>57800.0</td>\n",
       "    </tr>\n",
       "    <tr>\n",
       "      <th>29</th>\n",
       "      <td>Prof</td>\n",
       "      <td>A</td>\n",
       "      <td>45</td>\n",
       "      <td>43.0</td>\n",
       "      <td>Male</td>\n",
       "      <td>155865.0</td>\n",
       "    </tr>\n",
       "    <tr>\n",
       "      <th>38</th>\n",
       "      <td>Prof</td>\n",
       "      <td>B</td>\n",
       "      <td>45</td>\n",
       "      <td>45.0</td>\n",
       "      <td>Male</td>\n",
       "      <td>146856.0</td>\n",
       "    </tr>\n",
       "  </tbody>\n",
       "</table>\n",
       "</div>"
      ],
      "text/plain": [
       "    rank discipline  phd  service   sex    salary\n",
       "0   Prof          B   56     49.0  Male  186960.0\n",
       "10  Prof          A   51     51.0  Male   57800.0\n",
       "29  Prof          A   45     43.0  Male  155865.0\n",
       "38  Prof          B   45     45.0  Male  146856.0"
      ]
     },
     "execution_count": 29,
     "metadata": {},
     "output_type": "execute_result"
    }
   ],
   "source": [
    "df[df['service']>40]"
   ]
  },
  {
   "cell_type": "code",
   "execution_count": null,
   "id": "ecdc074e",
   "metadata": {},
   "outputs": [
    {
     "name": "stdout",
     "output_type": "stream",
     "text": [
      "        rank discipline  phd  service     sex    salary\n",
      "13  AsstProf          B    1      0.0    Male   88000.0\n",
      "14  AsstProf          B    1      0.0    Male   88000.0\n",
      "25  AsstProf          A    2      0.0    Male   85000.0\n",
      "19  AsstProf          B    4      0.0    Male   92000.0\n",
      "54      Prof          A   12      0.0  Female  105000.0\n",
      "..       ...        ...  ...      ...     ...       ...\n",
      "29      Prof          A   45     43.0    Male  155865.0\n",
      "38      Prof          B   45     45.0    Male  146856.0\n",
      "0       Prof          B   56     49.0    Male  186960.0\n",
      "10      Prof          A   51     51.0    Male   57800.0\n",
      "4       Prof          B   20      NaN    Male  104800.0\n",
      "\n",
      "[80 rows x 6 columns]\n"
     ]
    }
   ],
   "source": [
    "print(df.sort_values(by='service')) #assending values"
   ]
  },
  {
   "cell_type": "markdown",
   "id": "7d4d996c",
   "metadata": {},
   "source": [
    "create a new column using existing"
   ]
  },
  {
   "cell_type": "code",
   "execution_count": 32,
   "id": "caab7fdb",
   "metadata": {},
   "outputs": [
    {
     "name": "stdout",
     "output_type": "stream",
     "text": [
      "         rank  is_senior\n",
      "0        Prof      False\n",
      "1        Prof      False\n",
      "2         NaN      False\n",
      "3        Prof      False\n",
      "4        Prof      False\n",
      "..        ...        ...\n",
      "75       Prof      False\n",
      "76  AssocProf      False\n",
      "77       Prof      False\n",
      "78       Prof      False\n",
      "79       Prof      False\n",
      "\n",
      "[80 rows x 2 columns]\n"
     ]
    }
   ],
   "source": [
    "df['is_senior']=df['rank']=='prof' #Eg boolean logic\n",
    "print(df[['rank','is_senior']])"
   ]
  },
  {
   "cell_type": "code",
   "execution_count": 43,
   "id": "0cb06c09",
   "metadata": {},
   "outputs": [
    {
     "name": "stdout",
     "output_type": "stream",
     "text": [
      "Index(['Rank', 'discipline', 'phd', 'Service', 'sex', 'salary', 'is_senior'], dtype='object')\n"
     ]
    }
   ],
   "source": [
    "df.rename(columns={'rank':'Rank','service':'Service'}, inplace=True) # inplace=True\n",
    "print(df.columns)"
   ]
  },
  {
   "cell_type": "code",
   "execution_count": 39,
   "id": "1c99aec2",
   "metadata": {},
   "outputs": [
    {
     "data": {
      "text/plain": [
       "np.int64(2)"
      ]
     },
     "execution_count": 39,
     "metadata": {},
     "output_type": "execute_result"
    }
   ],
   "source": [
    "df.duplicated().sum()"
   ]
  },
  {
   "cell_type": "code",
   "execution_count": null,
   "id": "747ba984",
   "metadata": {},
   "outputs": [],
   "source": [
    "df.duplicated().sum()\n",
    "\n",
    "df.drop_duplicates()\n",
    "\n",
    "df.duplicated().sum()\n",
    "df.to_csv(\"Cleaned Csv\", index=False) #Download Data"
   ]
  },
  {
   "cell_type": "code",
   "execution_count": 47,
   "id": "f114c22c",
   "metadata": {},
   "outputs": [
    {
     "name": "stdout",
     "output_type": "stream",
     "text": [
      "(80, 7)\n"
     ]
    }
   ],
   "source": [
    "print(df.shape)"
   ]
  }
 ],
 "metadata": {
  "kernelspec": {
   "display_name": "Python 3",
   "language": "python",
   "name": "python3"
  },
  "language_info": {
   "codemirror_mode": {
    "name": "ipython",
    "version": 3
   },
   "file_extension": ".py",
   "mimetype": "text/x-python",
   "name": "python",
   "nbconvert_exporter": "python",
   "pygments_lexer": "ipython3",
   "version": "3.11.3"
  }
 },
 "nbformat": 4,
 "nbformat_minor": 5
}
