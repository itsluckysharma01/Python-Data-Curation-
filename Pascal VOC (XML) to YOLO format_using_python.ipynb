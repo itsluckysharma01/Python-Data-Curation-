{
 "cells": [
  {
   "cell_type": "markdown",
   "id": "ca7e0738",
   "metadata": {},
   "source": [
    "# **Pascal VOC (XML) to YOLO format**"
   ]
  },
  {
   "cell_type": "markdown",
   "id": "7b90db5b",
   "metadata": {},
   "source": [
    "zip label xml folder and then upload in this "
   ]
  },
  {
   "cell_type": "code",
   "execution_count": 6,
   "id": "dcfa1c9c",
   "metadata": {},
   "outputs": [],
   "source": [
    "# !unzip annotation_xml.zip"
   ]
  },
  {
   "cell_type": "markdown",
   "id": "d120d6fb",
   "metadata": {},
   "source": [
    "if above is not Working then use this code:"
   ]
  },
  {
   "cell_type": "markdown",
   "id": "302a3a13",
   "metadata": {},
   "source": [
    "For Jupyter Notebook users, you can download the labels folder using the following code:\n",
    "* you must have zip file in same folder"
   ]
  },
  {
   "cell_type": "code",
   "execution_count": 1,
   "id": "904feff2",
   "metadata": {},
   "outputs": [
    {
     "name": "stdout",
     "output_type": "stream",
     "text": [
      "✅ Zip extracted successfully!\n"
     ]
    }
   ],
   "source": [
    "import zipfile\n",
    "\n",
    "with zipfile.ZipFile(\"annotation_xml.zip\", 'r') as zip_ref:\n",
    "    zip_ref.extractall(\".\")  # Extracts to current directory\n",
    "\n",
    "print(\"✅ Zip extracted successfully!\")\n",
    "\n"
   ]
  },
  {
   "cell_type": "markdown",
   "id": "e4192607",
   "metadata": {},
   "source": [
    "Pascal VOC (XML) to YOLO format"
   ]
  },
  {
   "cell_type": "code",
   "execution_count": 2,
   "id": "07434d57",
   "metadata": {},
   "outputs": [
    {
     "name": "stdout",
     "output_type": "stream",
     "text": [
      "Conversion completed.\n"
     ]
    }
   ],
   "source": [
    "import os\n",
    "import xml.etree.ElementTree as ET\n",
    "\n",
    "# Classes in the dataset\n",
    "CLASSES = ['apple', 'mango']\n",
    "\n",
    "# Input and output paths\n",
    "xml_folder = 'annotation_xml'\n",
    "output_labels = 'labels'\n",
    "\n",
    "os.makedirs(output_labels, exist_ok=True)\n",
    "\n",
    "# Function to convert\n",
    "\n",
    "\n",
    "def convert(xml_file):\n",
    "    tree = ET.parse(xml_file)\n",
    "    root = tree.getroot()\n",
    "\n",
    "    img_w = int(root.find('size/width').text)\n",
    "    img_h = int(root.find('size/height').text)\n",
    "\n",
    "    yolo_lines = []\n",
    "\n",
    "    for obj in root.findall('object'):\n",
    "        class_name = obj.find('name').text.lower()\n",
    "        if class_name not in CLASSES:\n",
    "            continue\n",
    "\n",
    "        class_id = CLASSES.index(class_name)\n",
    "\n",
    "        bndbox = obj.find('bndbox')\n",
    "        xmin = int(bndbox.find('xmin').text)\n",
    "        ymin = int(bndbox.find('ymin').text)\n",
    "        xmax = int(bndbox.find('xmax').text)\n",
    "        ymax = int(bndbox.find('ymax').text)\n",
    "\n",
    "        # Convert to YOLO format\n",
    "        x_center = (xmin + xmax) / 2.0 / img_w\n",
    "        y_center = (ymin + ymax) / 2.0 / img_h\n",
    "        width = (xmax - xmin) / img_w\n",
    "        height = (ymax - ymin) / img_h\n",
    "\n",
    "        yolo_lines.append(\n",
    "            f\"{class_id} {x_center:.6f} {y_center:.6f} {width:.6f} {height:.6f}\")\n",
    "\n",
    "    return yolo_lines\n",
    "\n",
    "\n",
    "# Process all XML files\n",
    "for file in os.listdir(xml_folder):\n",
    "    if file.endswith(\".xml\"):\n",
    "        xml_path = os.path.join(xml_folder, file)\n",
    "        yolo_data = convert(xml_path)\n",
    "\n",
    "        txt_filename = file.replace(\".xml\", \".txt\")\n",
    "        with open(os.path.join(output_labels, txt_filename), \"w\") as f:\n",
    "            f.write(\"\\n\".join(yolo_data))\n",
    "\n",
    "print(\"Conversion completed.\")\n",
    "\n"
   ]
  },
  {
   "cell_type": "markdown",
   "id": "27760ab4",
   "metadata": {},
   "source": [
    "# Download labels folder to local pc"
   ]
  },
  {
   "cell_type": "markdown",
   "id": "78305ec8",
   "metadata": {},
   "source": [
    "For Jupyter Notebook use:"
   ]
  },
  {
   "cell_type": "code",
   "execution_count": 3,
   "id": "d32b2971",
   "metadata": {},
   "outputs": [
    {
     "name": "stdout",
     "output_type": "stream",
     "text": [
      " labels.zip created successfully.\n"
     ]
    }
   ],
   "source": [
    "# #Download labels folder to local pc from colab\n",
    "# # Step 1: Zip the folder\n",
    "# !zip -r labels.zip labels/\n",
    "\n",
    "# # Step 2: Download the zip\n",
    "# from google.colab import files\n",
    "# files.download('labels.zip')\n",
    "\n",
    "import shutil\n",
    "#  Zip the output folder into labels.zip\n",
    "shutil.make_archive(\"labels\", 'zip', output_labels)\n",
    "print(\" labels.zip created successfully.\")\n"
   ]
  }
 ],
 "metadata": {
  "kernelspec": {
   "display_name": "Python 3",
   "language": "python",
   "name": "python3"
  },
  "language_info": {
   "codemirror_mode": {
    "name": "ipython",
    "version": 3
   },
   "file_extension": ".py",
   "mimetype": "text/x-python",
   "name": "python",
   "nbconvert_exporter": "python",
   "pygments_lexer": "ipython3",
   "version": "3.11.3"
  }
 },
 "nbformat": 4,
 "nbformat_minor": 5
}
