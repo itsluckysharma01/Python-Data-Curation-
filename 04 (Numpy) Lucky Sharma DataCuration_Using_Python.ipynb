{
 "cells": [
  {
   "cell_type": "markdown",
   "id": "c4de4695",
   "metadata": {},
   "source": [
    "                                             Modules                                                                         "
   ]
  },
  {
   "cell_type": "markdown",
   "id": "68646917",
   "metadata": {},
   "source": [
    "In Python (and many programming languages), **packages** and **modules** help organize code. Here's the difference between **internal** and **external packages/modules**:\n",
    "\n",
    "---\n",
    "\n",
    "### 🔸 Internal Packages and Modules (Built-in or Standard Library)\n",
    "\n",
    "* **Definition**: These are **pre-installed** with Python. You don't need to install them separately.\n",
    "* **Examples**:\n",
    "\n",
    "  * `math` – for mathematical functions\n",
    "  * `os` – for interacting with the operating system\n",
    "  * `datetime` – for date and time manipulation\n",
    "* **Usage**:\n",
    "\n",
    "  ```python\n",
    "  import math\n",
    "  print(math.sqrt(25))  # Output: 5.0\n",
    "  ```\n",
    "\n",
    "---\n",
    "\n",
    "### 🔸 External Packages and Modules (Third-party)\n",
    "\n",
    "* **Definition**: These are **not included** with Python. You need to install them using tools like `pip`.\n",
    "* **Examples**:\n",
    "\n",
    "  * `numpy` – for numerical computations\n",
    "  * `pandas` – for data analysis\n",
    "  * `requests` – for HTTP requests\n",
    "* **Installation**:\n",
    "\n",
    "  ```\n",
    "  pip install numpy\n",
    "  ```\n",
    "* **Usage**:\n",
    "\n",
    "  ```python\n",
    "  import numpy as np\n",
    "  print(np.array([1, 2, 3]))\n",
    "  ```\n",
    "\n",
    "---\n",
    "\n",
    "### Summary Table\n",
    "\n",
    "| Feature       | Internal (Standard)     | External (Third-party)      |\n",
    "| ------------- | ----------------------- | --------------------------- |\n",
    "| Pre-installed | Yes                     | No                          |\n",
    "| Installation  | Not required            | Required via `pip`          |\n",
    "| Examples      | `os`, `sys`, `math`     | `numpy`, `flask`, `pandas`  |\n",
    "| Source        | Python Standard Library | PyPI (Python Package Index) |\n",
    "\n",
    "\n"
   ]
  },
  {
   "cell_type": "markdown",
   "id": "7b4e1a56",
   "metadata": {},
   "source": [
    "                                                    NumPy                                                                                           "
   ]
  },
  {
   "cell_type": "markdown",
   "id": "db86f635",
   "metadata": {},
   "source": [
    "### What is NumPy?\n",
    "\n",
    "**NumPy** (Numerical Python) is an open-source Python library used for working with **numerical data**, especially large, multi-dimensional arrays and matrices. It also provides a large collection of **mathematical functions** to operate on these arrays.\n",
    "\n",
    "---\n",
    "\n",
    "### Key Features of NumPy:\n",
    "\n",
    "| Feature                            | Description                                                      |\n",
    "| ---------------------------------- | ---------------------------------------------------------------- |\n",
    "| **n-dimensional arrays (ndarray)** | Core data structure for fast, flexible container of large data.  |\n",
    "| **Broadcasting**                   | Perform arithmetic on arrays of different shapes.                |\n",
    "| **Vectorized operations**          | Faster operations without using Python loops.                    |\n",
    "| **Mathematical functions**         | Functions like `mean()`, `std()`, `sum()`, `exp()`, etc.         |\n",
    "| **Linear Algebra**                 | Supports operations like dot product, inverse, eigenvalues, etc. |\n",
    "| **Random Module**                  | Generate random numbers, sampling, distributions, etc.           |\n",
    "| **Integration with C/C++**         | Can be extended with C/C++ for performance.                      |\n",
    "| **Memory Efficient**               | Stores data more compactly than built-in Python lists.           |\n",
    "\n",
    "---\n",
    "\n",
    "### Why Use NumPy?\n",
    "\n",
    "* Much **faster** than standard Python lists for numeric computations.\n",
    "* Backbone for **data science** libraries like Pandas, SciPy, Scikit-Learn, TensorFlow, etc.\n",
    "* Reduces the need for **explicit loops** with vectorized operations.\n",
    "* Essential for **scientific computing**, simulations, machine learning, image processing, etc.\n",
    "\n",
    "---\n",
    "\n",
    "### NumPy Array vs Python List\n",
    "\n",
    "| Feature        | NumPy Array            | Python List           |\n",
    "| -------------- | ---------------------- | --------------------- |\n",
    "| Type           | Homogeneous            | Heterogeneous         |\n",
    "| Speed          | Very fast              | Slower                |\n",
    "| Memory usage   | Less                   | More                  |\n",
    "| Operations     | Element-wise supported | Manual looping needed |\n",
    "| Dimensionality | Multi-dimensional      | Mostly 1D or nested   |\n",
    "\n",
    "---\n",
    "\n",
    "### Example Code:\n",
    "\n",
    "```python\n",
    "import numpy as np\n",
    "\n",
    "# Create a 1D array\n",
    "arr = np.array([1, 2, 3, 4])\n",
    "print(arr)\n",
    "\n",
    "# Basic math operation\n",
    "print(\"Array squared:\", arr ** 2)\n",
    "\n",
    "# Create 2D array\n",
    "matrix = np.array([[1, 2], [3, 4]])\n",
    "print(\"2D Matrix:\\n\", matrix)\n",
    "\n",
    "# Mean and standard deviation\n",
    "print(\"Mean:\", np.mean(matrix))\n",
    "print(\"Standard Deviation:\", np.std(matrix))\n",
    "\n",
    "# Generate random numbers\n",
    "random_array = np.random.rand(3, 3)\n",
    "print(\"Random 3x3 Matrix:\\n\", random_array)\n",
    "```\n",
    "\n",
    "---\n",
    "\n",
    "### Real-World Applications:\n",
    "\n",
    "* **Data Analysis** (with Pandas)\n",
    "* **Image processing** (pixels as arrays)\n",
    "* **Machine Learning** (features and weights as vectors/matrices)\n",
    "* **Simulations** and numerical modeling\n",
    "* **Engineering calculations** and **signal processing**\n",
    "\n"
   ]
  },
  {
   "cell_type": "markdown",
   "id": "8fc32916",
   "metadata": {},
   "source": []
  },
  {
   "cell_type": "code",
   "execution_count": 1,
   "id": "3929e35c",
   "metadata": {},
   "outputs": [],
   "source": [
    "import numpy"
   ]
  },
  {
   "cell_type": "code",
   "execution_count": 2,
   "id": "3c44084f",
   "metadata": {},
   "outputs": [],
   "source": [
    "import numpy as np"
   ]
  },
  {
   "cell_type": "code",
   "execution_count": 8,
   "id": "08018667",
   "metadata": {},
   "outputs": [
    {
     "name": "stdout",
     "output_type": "stream",
     "text": [
      "[1 2 3 4]\n",
      "<class 'numpy.ndarray'>\n"
     ]
    }
   ],
   "source": [
    "import numpy as numpy\n",
    "arr=np.array([1,2,3,4])\n",
    "print(arr)\n",
    "print(type(arr))\n",
    "\n",
    "# print(\"Squared Array \", arr**2)\n",
    "\n",
    "# matrix=([1,2,3],[5,6,7])\n",
    "# print(\"Matrix \", matrix)"
   ]
  },
  {
   "cell_type": "markdown",
   "id": "308ece6d",
   "metadata": {},
   "source": [
    "Create NumPy n-d array Objects\n",
    "the array is called ndarray"
   ]
  },
  {
   "cell_type": "markdown",
   "id": "d41d2613",
   "metadata": {},
   "source": [
    "Dimention in array , 0 Dimention,1D,2D"
   ]
  },
  {
   "cell_type": "code",
   "execution_count": 17,
   "id": "b1b5f486",
   "metadata": {},
   "outputs": [
    {
     "name": "stdout",
     "output_type": "stream",
     "text": [
      "One D Array [1 2 3 4]\n",
      "2D array  ([1, 2, 3], [5, 6, 7])\n",
      "3d Array Is:  ([1, 2, 3], [3, 4, 5], [5, 6, 7])\n"
     ]
    }
   ],
   "source": [
    "import numpy as np\n",
    "import numpy as numpy\n",
    "arr=np.array([1,2,3,4])\n",
    "print(\"One D Array\",arr)\n",
    "# print(\"Squared Array \", arr**2)\n",
    "\n",
    "matrix=([1,2,3],[5,6,7])\n",
    "print(\"2D array \", matrix)\n",
    "\n",
    "matrix=([1,2,3],[3,4,5],[5,6,7])\n",
    "print(\"3d Array Is: \", matrix)"
   ]
  },
  {
   "cell_type": "markdown",
   "id": "17fcf1ab",
   "metadata": {},
   "source": []
  },
  {
   "cell_type": "code",
   "execution_count": 21,
   "id": "79b063f3",
   "metadata": {},
   "outputs": [
    {
     "name": "stdout",
     "output_type": "stream",
     "text": [
      "3D Array Is:  [[[1 2 3]\n",
      "  [1 7 8]]\n",
      "\n",
      " [[5 9 8]\n",
      "  [4 5 6]]]\n"
     ]
    }
   ],
   "source": [
    "import numpy as np\n",
    "arr = np.array([[[1,2,3],[1,7,8]],[[5,9,8],[4,5,6]]])\n",
    "print(\"3D Array Is: \", arr)"
   ]
  },
  {
   "cell_type": "markdown",
   "id": "b8122ebc",
   "metadata": {},
   "source": [
    "Check Dimention in array"
   ]
  },
  {
   "cell_type": "code",
   "execution_count": 22,
   "id": "4370cfc3",
   "metadata": {},
   "outputs": [
    {
     "name": "stdout",
     "output_type": "stream",
     "text": [
      "0\n",
      "1\n",
      "2\n",
      "3\n"
     ]
    }
   ],
   "source": [
    "import numpy as np\n",
    "a=np.array(42)\n",
    "b=np.array([1,2,3,4,5,6])\n",
    "c=np.array([[1,2,3],[5,6,7]])\n",
    "d=np.array([[[1,2,3],[4,5,6],[7,8,9]]])\n",
    "\n",
    "print(a.ndim)\n",
    "print(b.ndim)\n",
    "print(c.ndim)\n",
    "print(d.ndim)"
   ]
  },
  {
   "cell_type": "markdown",
   "id": "c4645edb",
   "metadata": {},
   "source": [
    "Higher Dimention array"
   ]
  },
  {
   "cell_type": "code",
   "execution_count": 27,
   "id": "1cc99758",
   "metadata": {},
   "outputs": [
    {
     "name": "stdout",
     "output_type": "stream",
     "text": [
      "[[[[[1 2 3 4]]]]]\n",
      "Number of Dimentions:  5\n"
     ]
    }
   ],
   "source": [
    "import numpy as np\n",
    "arr = np.array([1,2,3,4], ndmin=5)\n",
    "print(arr)\n",
    "print(\"Number of Dimentions: \", arr.ndim)"
   ]
  },
  {
   "cell_type": "markdown",
   "id": "9965f8a3",
   "metadata": {},
   "source": [
    "NUMPY Array Indexing"
   ]
  },
  {
   "cell_type": "code",
   "execution_count": 29,
   "id": "dfed37c7",
   "metadata": {},
   "outputs": [
    {
     "name": "stdout",
     "output_type": "stream",
     "text": [
      "[1 2 3 4]\n",
      "1\n",
      "7\n"
     ]
    }
   ],
   "source": [
    "import numpy as np\n",
    "arr = np.array([1,2,3,4])\n",
    "print(arr)\n",
    "print(arr[0])\n",
    "print(arr[2]+arr[3])"
   ]
  },
  {
   "cell_type": "markdown",
   "id": "6003cbfd",
   "metadata": {},
   "source": [
    "Acces Element from 2D array"
   ]
  },
  {
   "cell_type": "code",
   "execution_count": null,
   "id": "0d747c41",
   "metadata": {},
   "outputs": [
    {
     "name": "stdout",
     "output_type": "stream",
     "text": [
      "2nd Elemnet of 1st Row:  2\n",
      "5nd Elemnet of 2st Row:  10\n"
     ]
    }
   ],
   "source": [
    "import numpy as np\n",
    "arr = np.array([[1,2,3,4,5],[6,7,8,9,10]])\n",
    "print(\"2nd Elemnet of 1st Row: \",arr[0,1])\n",
    "print(\"5nd Elemnet of 2st Row: \",arr[1,4])"
   ]
  },
  {
   "cell_type": "markdown",
   "id": "7bfb540c",
   "metadata": {},
   "source": [
    "Access From 3D"
   ]
  },
  {
   "cell_type": "code",
   "execution_count": 34,
   "id": "b744d094",
   "metadata": {},
   "outputs": [
    {
     "name": "stdout",
     "output_type": "stream",
     "text": [
      "[[[ 1  2  3]\n",
      "  [ 4  5  6]]\n",
      "\n",
      " [[ 7  8  9]\n",
      "  [10 11 12]]]\n",
      "6\n"
     ]
    }
   ],
   "source": [
    "import numpy as np\n",
    "arr = np.array([[[1,2,3],[4,5,6]],[[7,8,9],[10,11,12]]])\n",
    "print(arr)\n",
    "print(arr[0,1,2])\n"
   ]
  },
  {
   "cell_type": "code",
   "execution_count": 36,
   "id": "2a62be68",
   "metadata": {},
   "outputs": [
    {
     "name": "stdout",
     "output_type": "stream",
     "text": [
      "[[ 1  2  3  4  5]\n",
      " [ 6  7  8  9 10]]\n",
      "5\n"
     ]
    }
   ],
   "source": [
    "import numpy as np\n",
    "arr = np.array([[1,2,3,4,5],[6,7,8,9,10]])\n",
    "print(arr)\n",
    "print(arr[0,-1])"
   ]
  },
  {
   "cell_type": "markdown",
   "id": "b1f2d6bf",
   "metadata": {},
   "source": [
    "SLICING"
   ]
  },
  {
   "cell_type": "markdown",
   "id": "af9b8fdc",
   "metadata": {},
   "source": [
    "[start:end]\n",
    "[start:end:step]"
   ]
  },
  {
   "cell_type": "code",
   "execution_count": 40,
   "id": "c618662b",
   "metadata": {},
   "outputs": [
    {
     "name": "stdout",
     "output_type": "stream",
     "text": [
      "[2 3]\n",
      "[ 3  4  5  6  7  8  9 10]\n",
      "[1 2 3 4 5 6 7 8]\n",
      "[ 1  2  3  4  5  6  7  8  9 10]\n",
      "[9]\n",
      "[2 4 6 8]\n"
     ]
    }
   ],
   "source": [
    "import numpy as np\n",
    "arr = np.array([1,2,3,4,5,6,7,8,9,10])\n",
    "print(arr[1:3])\n",
    "print(arr[2:])\n",
    "print(arr[:8])\n",
    "print(arr)\n",
    "print(arr[-2:-1])\n",
    "print(arr[1:8:2])"
   ]
  },
  {
   "cell_type": "markdown",
   "id": "ac4c13d9",
   "metadata": {},
   "source": [
    "Slicing 2D array"
   ]
  },
  {
   "cell_type": "code",
   "execution_count": 47,
   "id": "f08e837e",
   "metadata": {},
   "outputs": [
    {
     "name": "stdout",
     "output_type": "stream",
     "text": [
      "[[ 1  2  3  4  5]\n",
      " [ 6  7  8  9 10]]\n",
      "[[1]]\n",
      "[[2 3]]\n",
      "[[2]\n",
      " [7]]\n",
      "[]\n",
      "[[ 2  3  4  5]\n",
      " [ 7  8  9 10]]\n"
     ]
    }
   ],
   "source": [
    "import numpy as np\n",
    "arr = np.array([[1,2,3,4,5],[6,7,8,9,10]])\n",
    "print(arr)\n",
    "print(arr[0:1,0:1])\n",
    "print(arr[0:1,1:3])\n",
    "print(arr[0:3,1:2])\n",
    "print(arr[0:4,1:1])\n",
    "print(arr[0:5,1:5])"
   ]
  },
  {
   "cell_type": "markdown",
   "id": "a1965a91",
   "metadata": {},
   "source": [
    "ITERATion"
   ]
  },
  {
   "cell_type": "code",
   "execution_count": 49,
   "id": "6fbfb80c",
   "metadata": {},
   "outputs": [
    {
     "name": "stdout",
     "output_type": "stream",
     "text": [
      "1\n",
      "2\n",
      "3\n",
      "4\n",
      "5\n",
      "6\n",
      "7\n",
      "8\n",
      "9\n",
      "10\n"
     ]
    }
   ],
   "source": [
    "import numpy as np\n",
    "arr = np.array([1,2,3,4,5,6,7,8,9,10])\n",
    "for i in arr:\n",
    "    print(i)"
   ]
  },
  {
   "cell_type": "code",
   "execution_count": 50,
   "id": "ac8bd16b",
   "metadata": {},
   "outputs": [
    {
     "name": "stdout",
     "output_type": "stream",
     "text": [
      "[1 2 3 4 5]\n",
      "[ 6  7  8  9 10]\n"
     ]
    }
   ],
   "source": [
    "import numpy as np\n",
    "arr = np.array([[1,2,3,4,5],[6,7,8,9,10]])\n",
    "for i in arr:\n",
    "    print(i)"
   ]
  }
 ],
 "metadata": {
  "kernelspec": {
   "display_name": "Python 3",
   "language": "python",
   "name": "python3"
  },
  "language_info": {
   "codemirror_mode": {
    "name": "ipython",
    "version": 3
   },
   "file_extension": ".py",
   "mimetype": "text/x-python",
   "name": "python",
   "nbconvert_exporter": "python",
   "pygments_lexer": "ipython3",
   "version": "3.11.3"
  }
 },
 "nbformat": 4,
 "nbformat_minor": 5
}
