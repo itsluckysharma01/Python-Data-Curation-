{
 "cells": [
  {
   "cell_type": "markdown",
   "id": "c4de4695",
   "metadata": {},
   "source": [
    "                                             Modules                                                                         "
   ]
  },
  {
   "cell_type": "markdown",
   "id": "68646917",
   "metadata": {},
   "source": [
    "In Python (and many programming languages), **packages** and **modules** help organize code. Here's the difference between **internal** and **external packages/modules**:\n",
    "\n",
    "---\n",
    "\n",
    "### 🔸 Internal Packages and Modules (Built-in or Standard Library)\n",
    "\n",
    "* **Definition**: These are **pre-installed** with Python. You don't need to install them separately.\n",
    "* **Examples**:\n",
    "\n",
    "  * `math` – for mathematical functions\n",
    "  * `os` – for interacting with the operating system\n",
    "  * `datetime` – for date and time manipulation\n",
    "* **Usage**:\n",
    "\n",
    "  ```python\n",
    "  import math\n",
    "  print(math.sqrt(25))  # Output: 5.0\n",
    "  ```\n",
    "\n",
    "---\n",
    "\n",
    "### 🔸 External Packages and Modules (Third-party)\n",
    "\n",
    "* **Definition**: These are **not included** with Python. You need to install them using tools like `pip`.\n",
    "* **Examples**:\n",
    "\n",
    "  * `numpy` – for numerical computations\n",
    "  * `pandas` – for data analysis\n",
    "  * `requests` – for HTTP requests\n",
    "* **Installation**:\n",
    "\n",
    "  ```\n",
    "  pip install numpy\n",
    "  ```\n",
    "* **Usage**:\n",
    "\n",
    "  ```python\n",
    "  import numpy as np\n",
    "  print(np.array([1, 2, 3]))\n",
    "  ```\n",
    "\n",
    "---\n",
    "\n",
    "### Summary Table\n",
    "\n",
    "| Feature       | Internal (Standard)     | External (Third-party)      |\n",
    "| ------------- | ----------------------- | --------------------------- |\n",
    "| Pre-installed | Yes                     | No                          |\n",
    "| Installation  | Not required            | Required via `pip`          |\n",
    "| Examples      | `os`, `sys`, `math`     | `numpy`, `flask`, `pandas`  |\n",
    "| Source        | Python Standard Library | PyPI (Python Package Index) |\n",
    "\n",
    "\n"
   ]
  },
  {
   "cell_type": "markdown",
   "id": "7b4e1a56",
   "metadata": {},
   "source": [
    "                                                    NumPy                                                                                           "
   ]
  },
  {
   "cell_type": "markdown",
   "id": "db86f635",
   "metadata": {},
   "source": [
    "### What is NumPy?\n",
    "\n",
    "**NumPy** (Numerical Python) is an open-source Python library used for working with **numerical data**, especially large, multi-dimensional arrays and matrices. It also provides a large collection of **mathematical functions** to operate on these arrays.\n",
    "\n",
    "---\n",
    "\n",
    "### Key Features of NumPy:\n",
    "\n",
    "| Feature                            | Description                                                      |\n",
    "| ---------------------------------- | ---------------------------------------------------------------- |\n",
    "| **n-dimensional arrays (ndarray)** | Core data structure for fast, flexible container of large data.  |\n",
    "| **Broadcasting**                   | Perform arithmetic on arrays of different shapes.                |\n",
    "| **Vectorized operations**          | Faster operations without using Python loops.                    |\n",
    "| **Mathematical functions**         | Functions like `mean()`, `std()`, `sum()`, `exp()`, etc.         |\n",
    "| **Linear Algebra**                 | Supports operations like dot product, inverse, eigenvalues, etc. |\n",
    "| **Random Module**                  | Generate random numbers, sampling, distributions, etc.           |\n",
    "| **Integration with C/C++**         | Can be extended with C/C++ for performance.                      |\n",
    "| **Memory Efficient**               | Stores data more compactly than built-in Python lists.           |\n",
    "\n",
    "---\n",
    "\n",
    "### Why Use NumPy?\n",
    "\n",
    "* Much **faster** than standard Python lists for numeric computations.\n",
    "* Backbone for **data science** libraries like Pandas, SciPy, Scikit-Learn, TensorFlow, etc.\n",
    "* Reduces the need for **explicit loops** with vectorized operations.\n",
    "* Essential for **scientific computing**, simulations, machine learning, image processing, etc.\n",
    "\n",
    "---\n",
    "\n",
    "### NumPy Array vs Python List\n",
    "\n",
    "| Feature        | NumPy Array            | Python List           |\n",
    "| -------------- | ---------------------- | --------------------- |\n",
    "| Type           | Homogeneous            | Heterogeneous         |\n",
    "| Speed          | Very fast              | Slower                |\n",
    "| Memory usage   | Less                   | More                  |\n",
    "| Operations     | Element-wise supported | Manual looping needed |\n",
    "| Dimensionality | Multi-dimensional      | Mostly 1D or nested   |\n",
    "\n",
    "---\n",
    "\n",
    "### Example Code:\n",
    "\n",
    "```python\n",
    "import numpy as np\n",
    "\n",
    "# Create a 1D array\n",
    "arr = np.array([1, 2, 3, 4])\n",
    "print(arr)\n",
    "\n",
    "# Basic math operation\n",
    "print(\"Array squared:\", arr ** 2)\n",
    "\n",
    "# Create 2D array\n",
    "matrix = np.array([[1, 2], [3, 4]])\n",
    "print(\"2D Matrix:\\n\", matrix)\n",
    "\n",
    "# Mean and standard deviation\n",
    "print(\"Mean:\", np.mean(matrix))\n",
    "print(\"Standard Deviation:\", np.std(matrix))\n",
    "\n",
    "# Generate random numbers\n",
    "random_array = np.random.rand(3, 3)\n",
    "print(\"Random 3x3 Matrix:\\n\", random_array)\n",
    "```\n",
    "\n",
    "---\n",
    "\n",
    "### Real-World Applications:\n",
    "\n",
    "* **Data Analysis** (with Pandas)\n",
    "* **Image processing** (pixels as arrays)\n",
    "* **Machine Learning** (features and weights as vectors/matrices)\n",
    "* **Simulations** and numerical modeling\n",
    "* **Engineering calculations** and **signal processing**\n",
    "\n"
   ]
  },
  {
   "cell_type": "markdown",
   "id": "8fc32916",
   "metadata": {},
   "source": []
  },
  {
   "cell_type": "code",
   "execution_count": 1,
   "id": "3929e35c",
   "metadata": {},
   "outputs": [],
   "source": [
    "import numpy"
   ]
  },
  {
   "cell_type": "code",
   "execution_count": 2,
   "id": "3c44084f",
   "metadata": {},
   "outputs": [],
   "source": [
    "import numpy as np"
   ]
  },
  {
   "cell_type": "code",
   "execution_count": 8,
   "id": "08018667",
   "metadata": {},
   "outputs": [
    {
     "name": "stdout",
     "output_type": "stream",
     "text": [
      "[1 2 3 4]\n",
      "<class 'numpy.ndarray'>\n"
     ]
    }
   ],
   "source": [
    "import numpy as numpy\n",
    "arr=np.array([1,2,3,4])\n",
    "print(arr)\n",
    "print(type(arr))\n",
    "\n",
    "# print(\"Squared Array \", arr**2)\n",
    "\n",
    "# matrix=([1,2,3],[5,6,7])\n",
    "# print(\"Matrix \", matrix)"
   ]
  },
  {
   "cell_type": "markdown",
   "id": "308ece6d",
   "metadata": {},
   "source": [
    "Create NumPy n-d array Objects\n",
    "the array is called ndarray"
   ]
  },
  {
   "cell_type": "markdown",
   "id": "d41d2613",
   "metadata": {},
   "source": [
    "Dimention in array , 0 Dimention,1D,2D"
   ]
  },
  {
   "cell_type": "code",
   "execution_count": 17,
   "id": "b1b5f486",
   "metadata": {},
   "outputs": [
    {
     "name": "stdout",
     "output_type": "stream",
     "text": [
      "One D Array [1 2 3 4]\n",
      "2D array  ([1, 2, 3], [5, 6, 7])\n",
      "3d Array Is:  ([1, 2, 3], [3, 4, 5], [5, 6, 7])\n"
     ]
    }
   ],
   "source": [
    "import numpy as np\n",
    "import numpy as numpy\n",
    "arr=np.array([1,2,3,4])\n",
    "print(\"One D Array\",arr)\n",
    "# print(\"Squared Array \", arr**2)\n",
    "\n",
    "matrix=([1,2,3],[5,6,7])\n",
    "print(\"2D array \", matrix)\n",
    "\n",
    "matrix=([1,2,3],[3,4,5],[5,6,7])\n",
    "print(\"3d Array Is: \", matrix)"
   ]
  },
  {
   "cell_type": "markdown",
   "id": "17fcf1ab",
   "metadata": {},
   "source": []
  },
  {
   "cell_type": "code",
   "execution_count": 21,
   "id": "79b063f3",
   "metadata": {},
   "outputs": [
    {
     "name": "stdout",
     "output_type": "stream",
     "text": [
      "3D Array Is:  [[[1 2 3]\n",
      "  [1 7 8]]\n",
      "\n",
      " [[5 9 8]\n",
      "  [4 5 6]]]\n"
     ]
    }
   ],
   "source": [
    "import numpy as np\n",
    "arr = np.array([[[1,2,3],[1,7,8]],[[5,9,8],[4,5,6]]])\n",
    "print(\"3D Array Is: \", arr)"
   ]
  },
  {
   "cell_type": "markdown",
   "id": "b8122ebc",
   "metadata": {},
   "source": [
    "Check Dimention in array"
   ]
  },
  {
   "cell_type": "code",
   "execution_count": 22,
   "id": "4370cfc3",
   "metadata": {},
   "outputs": [
    {
     "name": "stdout",
     "output_type": "stream",
     "text": [
      "0\n",
      "1\n",
      "2\n",
      "3\n"
     ]
    }
   ],
   "source": [
    "import numpy as np\n",
    "a=np.array(42)\n",
    "b=np.array([1,2,3,4,5,6])\n",
    "c=np.array([[1,2,3],[5,6,7]])\n",
    "d=np.array([[[1,2,3],[4,5,6],[7,8,9]]])\n",
    "\n",
    "print(a.ndim)\n",
    "print(b.ndim)\n",
    "print(c.ndim)\n",
    "print(d.ndim)"
   ]
  },
  {
   "cell_type": "markdown",
   "id": "c4645edb",
   "metadata": {},
   "source": [
    "Higher Dimention array"
   ]
  },
  {
   "cell_type": "code",
   "execution_count": 27,
   "id": "1cc99758",
   "metadata": {},
   "outputs": [
    {
     "name": "stdout",
     "output_type": "stream",
     "text": [
      "[[[[[1 2 3 4]]]]]\n",
      "Number of Dimentions:  5\n"
     ]
    }
   ],
   "source": [
    "import numpy as np\n",
    "arr = np.array([1,2,3,4], ndmin=5)\n",
    "print(arr)\n",
    "print(\"Number of Dimentions: \", arr.ndim)"
   ]
  },
  {
   "cell_type": "markdown",
   "id": "9965f8a3",
   "metadata": {},
   "source": [
    "NUMPY Array Indexing"
   ]
  },
  {
   "cell_type": "code",
   "execution_count": 29,
   "id": "dfed37c7",
   "metadata": {},
   "outputs": [
    {
     "name": "stdout",
     "output_type": "stream",
     "text": [
      "[1 2 3 4]\n",
      "1\n",
      "7\n"
     ]
    }
   ],
   "source": [
    "import numpy as np\n",
    "arr = np.array([1,2,3,4])\n",
    "print(arr)\n",
    "print(arr[0])\n",
    "print(arr[2]+arr[3])"
   ]
  },
  {
   "cell_type": "markdown",
   "id": "6003cbfd",
   "metadata": {},
   "source": [
    "Acces Element from 2D array"
   ]
  },
  {
   "cell_type": "code",
   "execution_count": null,
   "id": "0d747c41",
   "metadata": {},
   "outputs": [
    {
     "name": "stdout",
     "output_type": "stream",
     "text": [
      "2nd Elemnet of 1st Row:  2\n",
      "5nd Elemnet of 2st Row:  10\n"
     ]
    }
   ],
   "source": [
    "import numpy as np\n",
    "arr = np.array([[1,2,3,4,5],[6,7,8,9,10]])\n",
    "print(\"2nd Elemnet of 1st Row: \",arr[0,1])\n",
    "print(\"5nd Elemnet of 2st Row: \",arr[1,4])"
   ]
  },
  {
   "cell_type": "markdown",
   "id": "7bfb540c",
   "metadata": {},
   "source": [
    "Access From 3D"
   ]
  },
  {
   "cell_type": "code",
   "execution_count": 34,
   "id": "b744d094",
   "metadata": {},
   "outputs": [
    {
     "name": "stdout",
     "output_type": "stream",
     "text": [
      "[[[ 1  2  3]\n",
      "  [ 4  5  6]]\n",
      "\n",
      " [[ 7  8  9]\n",
      "  [10 11 12]]]\n",
      "6\n"
     ]
    }
   ],
   "source": [
    "import numpy as np\n",
    "arr = np.array([[[1,2,3],[4,5,6]],[[7,8,9],[10,11,12]]])\n",
    "print(arr)\n",
    "print(arr[0,1,2])\n"
   ]
  },
  {
   "cell_type": "code",
   "execution_count": 36,
   "id": "2a62be68",
   "metadata": {},
   "outputs": [
    {
     "name": "stdout",
     "output_type": "stream",
     "text": [
      "[[ 1  2  3  4  5]\n",
      " [ 6  7  8  9 10]]\n",
      "5\n"
     ]
    }
   ],
   "source": [
    "import numpy as np\n",
    "arr = np.array([[1,2,3,4,5],[6,7,8,9,10]])\n",
    "print(arr)\n",
    "print(arr[0,-1])"
   ]
  },
  {
   "cell_type": "markdown",
   "id": "b1f2d6bf",
   "metadata": {},
   "source": [
    "SLICING"
   ]
  },
  {
   "cell_type": "markdown",
   "id": "af9b8fdc",
   "metadata": {},
   "source": [
    "[start:end]\n",
    "[start:end:step]"
   ]
  },
  {
   "cell_type": "code",
   "execution_count": 40,
   "id": "c618662b",
   "metadata": {},
   "outputs": [
    {
     "name": "stdout",
     "output_type": "stream",
     "text": [
      "[2 3]\n",
      "[ 3  4  5  6  7  8  9 10]\n",
      "[1 2 3 4 5 6 7 8]\n",
      "[ 1  2  3  4  5  6  7  8  9 10]\n",
      "[9]\n",
      "[2 4 6 8]\n"
     ]
    }
   ],
   "source": [
    "import numpy as np\n",
    "arr = np.array([1,2,3,4,5,6,7,8,9,10])\n",
    "print(arr[1:3])\n",
    "print(arr[2:])\n",
    "print(arr[:8])\n",
    "print(arr)\n",
    "print(arr[-2:-1])\n",
    "print(arr[1:8:2])"
   ]
  },
  {
   "cell_type": "markdown",
   "id": "ac4c13d9",
   "metadata": {},
   "source": [
    "Slicing 2D array"
   ]
  },
  {
   "cell_type": "code",
   "execution_count": 47,
   "id": "f08e837e",
   "metadata": {},
   "outputs": [
    {
     "name": "stdout",
     "output_type": "stream",
     "text": [
      "[[ 1  2  3  4  5]\n",
      " [ 6  7  8  9 10]]\n",
      "[[1]]\n",
      "[[2 3]]\n",
      "[[2]\n",
      " [7]]\n",
      "[]\n",
      "[[ 2  3  4  5]\n",
      " [ 7  8  9 10]]\n"
     ]
    }
   ],
   "source": [
    "import numpy as np\n",
    "arr = np.array([[1,2,3,4,5],[6,7,8,9,10]])\n",
    "print(arr)\n",
    "print(arr[0:1,0:1])\n",
    "print(arr[0:1,1:3])\n",
    "print(arr[0:3,1:2])\n",
    "print(arr[0:4,1:1])\n",
    "print(arr[0:5,1:5])"
   ]
  },
  {
   "cell_type": "markdown",
   "id": "a1965a91",
   "metadata": {},
   "source": [
    "ITERATION"
   ]
  },
  {
   "cell_type": "code",
   "execution_count": 49,
   "id": "6fbfb80c",
   "metadata": {},
   "outputs": [
    {
     "name": "stdout",
     "output_type": "stream",
     "text": [
      "1\n",
      "2\n",
      "3\n",
      "4\n",
      "5\n",
      "6\n",
      "7\n",
      "8\n",
      "9\n",
      "10\n"
     ]
    }
   ],
   "source": [
    "import numpy as np\n",
    "arr = np.array([1,2,3,4,5,6,7,8,9,10])\n",
    "for i in arr:\n",
    "    print(i)"
   ]
  },
  {
   "cell_type": "code",
   "execution_count": 50,
   "id": "ac8bd16b",
   "metadata": {},
   "outputs": [
    {
     "name": "stdout",
     "output_type": "stream",
     "text": [
      "[1 2 3 4 5]\n",
      "[ 6  7  8  9 10]\n"
     ]
    }
   ],
   "source": [
    "import numpy as np\n",
    "arr = np.array([[1,2,3,4,5],[6,7,8,9,10]])\n",
    "for i in arr:\n",
    "    print(i)"
   ]
  },
  {
   "cell_type": "markdown",
   "id": "46e21027",
   "metadata": {},
   "source": [
    "Each Elements"
   ]
  },
  {
   "cell_type": "code",
   "execution_count": 1,
   "id": "7cf9bb61",
   "metadata": {},
   "outputs": [
    {
     "name": "stdout",
     "output_type": "stream",
     "text": [
      "1\n",
      "2\n",
      "3\n",
      "4\n",
      "5\n",
      "6\n",
      "7\n",
      "8\n",
      "9\n",
      "10\n"
     ]
    }
   ],
   "source": [
    "import numpy as np\n",
    "arr=np.array([[1,2,3,4,5],[6,7,8,9,10]])\n",
    "for i in arr:\n",
    "    for j in i:\n",
    "        print(j)"
   ]
  },
  {
   "cell_type": "code",
   "execution_count": 2,
   "id": "84e616b5",
   "metadata": {},
   "outputs": [
    {
     "name": "stdout",
     "output_type": "stream",
     "text": [
      "X represents the 2D array: \n",
      "[[1 2 3]\n",
      " [4 5 6]]\n",
      "X represents the 2D array: \n",
      "[[ 7  8  9]\n",
      " [10 11 12]]\n"
     ]
    }
   ],
   "source": [
    "#in 3D Array\n",
    "import numpy as np\n",
    "arr = np.array([[[1,2,3],[4,5,6]],[[7,8,9],[10,11,12]]])\n",
    "for x in arr:\n",
    "    print(\"X represents the 2D array: \")\n",
    "    print(x)"
   ]
  },
  {
   "cell_type": "code",
   "execution_count": 3,
   "id": "bb5c609a",
   "metadata": {},
   "outputs": [
    {
     "name": "stdout",
     "output_type": "stream",
     "text": [
      "1\n",
      "2\n",
      "3\n",
      "4\n",
      "5\n",
      "6\n",
      "7\n",
      "8\n",
      "9\n",
      "10\n",
      "11\n",
      "12\n"
     ]
    }
   ],
   "source": [
    "#iteration down to scaler\n",
    "import numpy as np\n",
    "arr = np.array([[[1,2,3],[4,5,6]],[[7,8,9],[10,11,12]]])\n",
    "for i in arr:\n",
    "    for j in i:\n",
    "        for k in j:\n",
    "            print(k)"
   ]
  },
  {
   "cell_type": "markdown",
   "id": "4cdd50bb",
   "metadata": {},
   "source": [
    "Iteration using nditer()\n"
   ]
  },
  {
   "cell_type": "markdown",
   "id": "2f4490fe",
   "metadata": {},
   "source": [
    "                                                            QUESTIONS:                                                                          "
   ]
  },
  {
   "cell_type": "markdown",
   "id": "44ee4477",
   "metadata": {},
   "source": [
    "How do you create 1D array"
   ]
  },
  {
   "cell_type": "code",
   "execution_count": 6,
   "id": "17739c75",
   "metadata": {},
   "outputs": [
    {
     "name": "stdout",
     "output_type": "stream",
     "text": [
      "1D Array:  [1 2 3 4 5]\n"
     ]
    }
   ],
   "source": [
    "import numpy as np\n",
    "arr= np.array([1,2,3,4,5])\n",
    "print(\"1D Array: \",arr)"
   ]
  },
  {
   "cell_type": "markdown",
   "id": "2c5b5c49",
   "metadata": {},
   "source": [
    "how do you reshape 1D array to 9 elements into 3x3 2D array"
   ]
  },
  {
   "cell_type": "code",
   "execution_count": 7,
   "id": "7e0fd304",
   "metadata": {},
   "outputs": [
    {
     "name": "stdout",
     "output_type": "stream",
     "text": [
      "2D Array:  [[1 2 3]\n",
      " [4 5 6]\n",
      " [7 8 9]]\n"
     ]
    }
   ],
   "source": [
    "import numpy as np\n",
    "\n",
    "arr=np.array([1,2,3,4,5,6,7,8,9])\n",
    "arr1=np.array([[1,2,3],[4,5,6],[7,8,9]])\n",
    "print(\"2D Array: \", arr1)"
   ]
  },
  {
   "cell_type": "markdown",
   "id": "ca2d806f",
   "metadata": {},
   "source": [
    "how do you find maximum elemts in an array"
   ]
  },
  {
   "cell_type": "code",
   "execution_count": 9,
   "id": "5b370da1",
   "metadata": {},
   "outputs": [
    {
     "name": "stdout",
     "output_type": "stream",
     "text": [
      "11\n"
     ]
    }
   ],
   "source": [
    "import numpy as np\n",
    "arr=np.array([1,2,3,4,5,6,7,8,9,10,11])\n",
    "m=len(arr)\n",
    "print(m)"
   ]
  },
  {
   "cell_type": "markdown",
   "id": "72fc7a54",
   "metadata": {},
   "source": [
    "what is the diff between module and package give five points"
   ]
  },
  {
   "cell_type": "markdown",
   "id": "b57c9e48",
   "metadata": {},
   "source": [
    "\n",
    "\n",
    "| Feature                | Module                        | Package                                           |\n",
    "| ---------------------- | ----------------------------- | ------------------------------------------------- |\n",
    "| **Definition**         | A single Python file (`.py`)  | A directory/folder containing multiple modules    |\n",
    "| **Structure**          | Flat (just one `.py` file)    | Hierarchical (folder with multiple `.py` files)   |\n",
    "| **File Example**       | `math_utils.py`               | `mypackage/` with `__init__.py`, `utils.py`, etc. |\n",
    "| **Contains**           | Functions, classes, variables | One or more modules and `__init__.py` file        |\n",
    "| **Use Case**           | Code reuse within one file    | Organizing large codebase with related modules    |\n",
    "| **Import Example**     | `import math_utils`           | `from mypackage import utils`                     |\n",
    "| **Special File**       | No special file needed        | Must contain `__init__.py`                        |\n",
    "| **Real-world Example** | `os.py`, `math.py`            | `numpy`, `pandas` packages                        |\n",
    "\n",
    "\n"
   ]
  },
  {
   "cell_type": "markdown",
   "id": "4dbd6b79",
   "metadata": {},
   "source": [
    "create an array of 10 elements all equals to 5\n"
   ]
  },
  {
   "cell_type": "code",
   "execution_count": 11,
   "id": "ecb7cb5a",
   "metadata": {},
   "outputs": [
    {
     "name": "stdout",
     "output_type": "stream",
     "text": [
      "Array:  [5, 5, 5, 5, 5, 5, 5, 5, 5, 5]\n"
     ]
    }
   ],
   "source": [
    "import numpy as np\n",
    "element=[]\n",
    "for i in range(1,11):\n",
    "    element.append(5)\n",
    "print(\"Array: \", element)"
   ]
  },
  {
   "cell_type": "markdown",
   "id": "8c33b0db",
   "metadata": {},
   "source": [
    "Datatype of array\n"
   ]
  },
  {
   "cell_type": "code",
   "execution_count": 10,
   "id": "14352e9c",
   "metadata": {},
   "outputs": [
    {
     "name": "stdout",
     "output_type": "stream",
     "text": [
      "<class 'numpy.ndarray'>\n"
     ]
    }
   ],
   "source": [
    "import numpy as np\n",
    "arr=np.array([1,2,3,4,5,6,7,8,9,10,11])\n",
    "m=type(arr)\n",
    "print(m)"
   ]
  },
  {
   "cell_type": "markdown",
   "id": "c124e57b",
   "metadata": {},
   "source": [
    "Iteration in 3d Using nditer"
   ]
  },
  {
   "cell_type": "code",
   "execution_count": 13,
   "id": "5ff247bd",
   "metadata": {},
   "outputs": [
    {
     "name": "stdout",
     "output_type": "stream",
     "text": [
      "1\n",
      "2\n",
      "3\n",
      "4\n",
      "5\n",
      "6\n",
      "7\n",
      "8\n",
      "9\n",
      "10\n"
     ]
    }
   ],
   "source": [
    "import numpy as np\n",
    "arr=np.array([1,2,3,4,5,6,7,8,9,10])\n",
    "for i in np.nditer(arr):\n",
    "    print(i)"
   ]
  },
  {
   "cell_type": "markdown",
   "id": "c00458e5",
   "metadata": {},
   "source": [
    "Iteration With Different datatype"
   ]
  },
  {
   "cell_type": "markdown",
   "id": "34a8eb2e",
   "metadata": {},
   "source": [
    "op_dtypes()\n",
    "iteration through array as a string"
   ]
  },
  {
   "cell_type": "code",
   "execution_count": 21,
   "id": "bd174cce",
   "metadata": {},
   "outputs": [
    {
     "name": "stdout",
     "output_type": "stream",
     "text": [
      "np.bytes_(b'1')\n",
      "np.bytes_(b'2')\n",
      "np.bytes_(b'3')\n",
      "np.bytes_(b'4')\n",
      "np.bytes_(b'5')\n",
      "np.bytes_(b'6')\n",
      "np.bytes_(b'7')\n",
      "np.bytes_(b'8')\n",
      "np.bytes_(b'9')\n",
      "np.bytes_(b'10')\n",
      "np.bytes_(b'11')\n"
     ]
    }
   ],
   "source": [
    "import numpy as np\n",
    "arr=np.array([1,2,3,4,5,6,7,8,9,10,11])\n",
    "for i in np.nditer(arr, flags=['buffered'], op_dtypes=['S']):\n",
    "    print(i)"
   ]
  },
  {
   "cell_type": "code",
   "execution_count": 22,
   "id": "254b44ff",
   "metadata": {},
   "outputs": [
    {
     "name": "stdout",
     "output_type": "stream",
     "text": [
      "Array is of type: <class 'numpy.ndarray'>\n",
      "Number of dimentions: 2\n",
      "Shape of array (2, 3)\n",
      "Size of array: 6\n",
      "Data type of array:int64 \n"
     ]
    }
   ],
   "source": [
    "import numpy as np\n",
    "arr=np.array([[11,12,13],[14,15,16]])\n",
    "\n",
    "print(\"Array is of type: {}\".format(type(arr)))\n",
    "print(\"Number of dimentions: {}\".format(arr.ndim))\n",
    "print(\"Shape of array {}\".format(arr.shape))\n",
    "print(\"Size of array: {}\".format(arr.size))\n",
    "print(\"Data type of array:{} \".format(arr.dtype))"
   ]
  },
  {
   "cell_type": "code",
   "execution_count": 23,
   "id": "3bc73de2",
   "metadata": {},
   "outputs": [
    {
     "name": "stdout",
     "output_type": "stream",
     "text": [
      "[ 1  2  3  4  5  6  7  8  9 10 11]\n",
      "<class 'numpy.ndarray'>\n"
     ]
    }
   ],
   "source": [
    "import numpy as np\n",
    "arr=np.array([1,2,3,4,5,6,7,8,9,10,11])\n",
    "print(arr)\n",
    "print(type(arr))"
   ]
  },
  {
   "cell_type": "markdown",
   "id": "583da6b5",
   "metadata": {},
   "source": [
    "REmove element from array"
   ]
  },
  {
   "cell_type": "code",
   "execution_count": 29,
   "id": "8701989c",
   "metadata": {},
   "outputs": [
    {
     "name": "stdout",
     "output_type": "stream",
     "text": [
      "oRIGINAL Array:  \n",
      " [ 0  1  2  3  4  5  6  7  8  9 10 11 12 13 14 15 16 17 18 19 20 21 22 23\n",
      " 24 25 26 27 28 29 30 31 32 33 34 35 36 37 38 39 40 41 42 43 44 45 46 47\n",
      " 48 49]\n",
      "Array after deleting elements:  \n",
      " [ 1  2  3  4  6  7  8  9 11 12 13 14 16 17 18 19 21 22 23 24 26 27 28 29\n",
      " 31 32 33 34 36 37 38 39 41 42 43 44 46 47 48 49]\n"
     ]
    }
   ],
   "source": [
    "import numpy as np\n",
    "arr=np.array([i for i in range(50)])\n",
    "print(\"oRIGINAL Array: \", \"\\n\",arr)\n",
    "m=[i for i in range (50) if i%5==0]\n",
    "\n",
    "res=np.delete(arr,m)\n",
    "print(\"Array after deleting elements: \", \"\\n\", res)\n"
   ]
  },
  {
   "cell_type": "markdown",
   "id": "4e48b052",
   "metadata": {},
   "source": [
    "use zeros()"
   ]
  },
  {
   "cell_type": "code",
   "execution_count": 32,
   "id": "f1f58282",
   "metadata": {},
   "outputs": [
    {
     "name": "stdout",
     "output_type": "stream",
     "text": [
      "[[1 2 3]\n",
      " [4 5 6]\n",
      " [7 8 9]]\n"
     ]
    }
   ],
   "source": [
    "import numpy as np\n",
    "arr=np.array([[1,2,3],[4,5,6],[7,8,9]])\n",
    "print(arr)\n"
   ]
  },
  {
   "cell_type": "markdown",
   "id": "7056e9f1",
   "metadata": {},
   "source": [
    "the import creams excel point to remamber their ARTICLES"
   ]
  },
  {
   "cell_type": "code",
   "execution_count": 33,
   "id": "1ca0f2cc",
   "metadata": {},
   "outputs": [
    {
     "data": {
      "text/plain": [
       "array([[1, 2, 3],\n",
       "       [4, 5, 6],\n",
       "       [7, 8, 9]])"
      ]
     },
     "execution_count": 33,
     "metadata": {},
     "output_type": "execute_result"
    }
   ],
   "source": [
    "import numpy as np\n",
    "arr=np.array([[1,2,3],[4,5,6],[7,8,9]])\n",
    "arr"
   ]
  },
  {
   "cell_type": "code",
   "execution_count": 36,
   "id": "f6a69e2a",
   "metadata": {},
   "outputs": [
    {
     "data": {
      "text/plain": [
       "dtype('int64')"
      ]
     },
     "execution_count": 36,
     "metadata": {},
     "output_type": "execute_result"
    }
   ],
   "source": [
    "arr.dtype\n"
   ]
  },
  {
   "cell_type": "code",
   "execution_count": 37,
   "id": "6689b6be",
   "metadata": {},
   "outputs": [
    {
     "data": {
      "text/plain": [
       "(3, 3)"
      ]
     },
     "execution_count": 37,
     "metadata": {},
     "output_type": "execute_result"
    }
   ],
   "source": [
    "arr.shape"
   ]
  },
  {
   "cell_type": "code",
   "execution_count": 38,
   "id": "08171cf0",
   "metadata": {},
   "outputs": [
    {
     "data": {
      "text/plain": [
       "9"
      ]
     },
     "execution_count": 38,
     "metadata": {},
     "output_type": "execute_result"
    }
   ],
   "source": [
    "arr.size"
   ]
  },
  {
   "cell_type": "code",
   "execution_count": 39,
   "id": "b6ea178f",
   "metadata": {},
   "outputs": [
    {
     "data": {
      "text/plain": [
       "array({3, 4, 5}, dtype=object)"
      ]
     },
     "execution_count": 39,
     "metadata": {},
     "output_type": "execute_result"
    }
   ],
   "source": [
    "np.array({3,4,5})"
   ]
  },
  {
   "cell_type": "code",
   "execution_count": 41,
   "id": "85bba4e2",
   "metadata": {},
   "outputs": [
    {
     "data": {
      "text/plain": [
       "array([[0., 0., 0., 0., 0.],\n",
       "       [0., 0., 0., 0., 0.],\n",
       "       [0., 0., 0., 0., 0.],\n",
       "       [0., 0., 0., 0., 0.]])"
      ]
     },
     "execution_count": 41,
     "metadata": {},
     "output_type": "execute_result"
    }
   ],
   "source": [
    "zeros=np.zeros((4,5))\n",
    "zeros"
   ]
  },
  {
   "cell_type": "code",
   "execution_count": 42,
   "id": "b258b942",
   "metadata": {},
   "outputs": [
    {
     "data": {
      "text/plain": [
       "dtype('float64')"
      ]
     },
     "execution_count": 42,
     "metadata": {},
     "output_type": "execute_result"
    }
   ],
   "source": [
    "zeros.dtype"
   ]
  },
  {
   "cell_type": "code",
   "execution_count": 43,
   "id": "7345ac46",
   "metadata": {},
   "outputs": [
    {
     "data": {
      "text/plain": [
       "(4, 5)"
      ]
     },
     "execution_count": 43,
     "metadata": {},
     "output_type": "execute_result"
    }
   ],
   "source": [
    "zeros.shape"
   ]
  },
  {
   "cell_type": "code",
   "execution_count": 45,
   "id": "904a7bf3",
   "metadata": {},
   "outputs": [
    {
     "data": {
      "text/plain": [
       "array([ 0,  1,  2,  3,  4,  5,  6,  7,  8,  9, 10, 11, 12, 13, 14])"
      ]
     },
     "execution_count": 45,
     "metadata": {},
     "output_type": "execute_result"
    }
   ],
   "source": [
    "np.arange(15)"
   ]
  },
  {
   "cell_type": "code",
   "execution_count": 47,
   "id": "fcdbc274",
   "metadata": {},
   "outputs": [
    {
     "data": {
      "text/plain": [
       "array([3.        , 3.18181818, 3.36363636, 3.54545455, 3.72727273,\n",
       "       3.90909091, 4.09090909, 4.27272727, 4.45454545, 4.63636364,\n",
       "       4.81818182, 5.        ])"
      ]
     },
     "execution_count": 47,
     "metadata": {},
     "output_type": "execute_result"
    }
   ],
   "source": [
    "linspace=np.linspace(3,5,12)\n",
    "linspace"
   ]
  },
  {
   "cell_type": "code",
   "execution_count": 50,
   "id": "954ed53b",
   "metadata": {},
   "outputs": [
    {
     "data": {
      "text/plain": [
       "array([[6.23042070e-307, 4.67296746e-307, 1.69121096e-306,\n",
       "        3.33772113e-307, 4.45050422e-308, 1.89146896e-307],\n",
       "       [7.56571288e-307, 4.00544531e-307, 1.11261095e-306,\n",
       "        3.56043054e-307, 1.37961641e-306, 2.22518251e-306],\n",
       "       [1.33511969e-306, 6.23037317e-307, 9.34609790e-307,\n",
       "        8.45593934e-307, 9.34600963e-307, 1.86921143e-306],\n",
       "       [6.23061763e-307, 9.34608432e-307, 1.11260144e-306,\n",
       "        6.89812281e-307, 2.22522596e-306, 7.23188049e-308]])"
      ]
     },
     "execution_count": 50,
     "metadata": {},
     "output_type": "execute_result"
    }
   ],
   "source": [
    "emp=np.empty((4,6))\n",
    "emp"
   ]
  },
  {
   "cell_type": "code",
   "execution_count": 51,
   "id": "49c62e6c",
   "metadata": {},
   "outputs": [
    {
     "data": {
      "text/plain": [
       "array([[1., 0., 0., ..., 0., 0., 0.],\n",
       "       [0., 1., 0., ..., 0., 0., 0.],\n",
       "       [0., 0., 1., ..., 0., 0., 0.],\n",
       "       ...,\n",
       "       [0., 0., 0., ..., 1., 0., 0.],\n",
       "       [0., 0., 0., ..., 0., 1., 0.],\n",
       "       [0., 0., 0., ..., 0., 0., 1.]])"
      ]
     },
     "execution_count": 51,
     "metadata": {},
     "output_type": "execute_result"
    }
   ],
   "source": [
    "id=np.identity(45)\n",
    "id"
   ]
  },
  {
   "cell_type": "code",
   "execution_count": 53,
   "id": "070686c2",
   "metadata": {},
   "outputs": [
    {
     "data": {
      "text/plain": [
       "(45, 45)"
      ]
     },
     "execution_count": 53,
     "metadata": {},
     "output_type": "execute_result"
    }
   ],
   "source": [
    "id.shape"
   ]
  },
  {
   "cell_type": "code",
   "execution_count": 55,
   "id": "5a4cbfbb",
   "metadata": {},
   "outputs": [
    {
     "data": {
      "text/plain": [
       "array([ 0,  1,  2,  3,  4,  5,  6,  7,  8,  9, 10, 11, 12, 13, 14, 15, 16,\n",
       "       17, 18, 19, 20, 21, 22, 23, 24, 25, 26, 27, 28, 29, 30, 31, 32, 33,\n",
       "       34, 35, 36, 37, 38, 39, 40, 41, 42, 43, 44, 45, 46, 47, 48, 49, 50,\n",
       "       51, 52, 53, 54, 55, 56, 57, 58, 59, 60, 61, 62, 63, 64, 65, 66, 67,\n",
       "       68, 69, 70, 71, 72, 73, 74, 75, 76, 77, 78, 79, 80, 81, 82, 83, 84,\n",
       "       85, 86, 87, 88, 89, 90, 91, 92, 93, 94, 95, 96, 97, 98])"
      ]
     },
     "execution_count": 55,
     "metadata": {},
     "output_type": "execute_result"
    }
   ],
   "source": [
    "arr=np.arange(99)\n",
    "arr"
   ]
  },
  {
   "cell_type": "code",
   "execution_count": 56,
   "id": "d5db29c6",
   "metadata": {},
   "outputs": [
    {
     "data": {
      "text/plain": [
       "array([[ 0,  1,  2,  3,  4,  5,  6,  7,  8,  9, 10, 11, 12, 13, 14, 15,\n",
       "        16, 17, 18, 19, 20, 21, 22, 23, 24, 25, 26, 27, 28, 29, 30, 31,\n",
       "        32],\n",
       "       [33, 34, 35, 36, 37, 38, 39, 40, 41, 42, 43, 44, 45, 46, 47, 48,\n",
       "        49, 50, 51, 52, 53, 54, 55, 56, 57, 58, 59, 60, 61, 62, 63, 64,\n",
       "        65],\n",
       "       [66, 67, 68, 69, 70, 71, 72, 73, 74, 75, 76, 77, 78, 79, 80, 81,\n",
       "        82, 83, 84, 85, 86, 87, 88, 89, 90, 91, 92, 93, 94, 95, 96, 97,\n",
       "        98]])"
      ]
     },
     "execution_count": 56,
     "metadata": {},
     "output_type": "execute_result"
    }
   ],
   "source": [
    "arr.reshape(3,33)"
   ]
  },
  {
   "cell_type": "code",
   "execution_count": 57,
   "id": "bd6c6bd8",
   "metadata": {},
   "outputs": [
    {
     "data": {
      "text/plain": [
       "array([ 0,  1,  2,  3,  4,  5,  6,  7,  8,  9, 10, 11, 12, 13, 14, 15, 16,\n",
       "       17, 18, 19, 20, 21, 22, 23, 24, 25, 26, 27, 28, 29, 30, 31, 32, 33,\n",
       "       34, 35, 36, 37, 38, 39, 40, 41, 42, 43, 44, 45, 46, 47, 48, 49, 50,\n",
       "       51, 52, 53, 54, 55, 56, 57, 58, 59, 60, 61, 62, 63, 64, 65, 66, 67,\n",
       "       68, 69, 70, 71, 72, 73, 74, 75, 76, 77, 78, 79, 80, 81, 82, 83, 84,\n",
       "       85, 86, 87, 88, 89, 90, 91, 92, 93, 94, 95, 96, 97, 98])"
      ]
     },
     "execution_count": 57,
     "metadata": {},
     "output_type": "execute_result"
    }
   ],
   "source": [
    "arr.ravel()"
   ]
  },
  {
   "cell_type": "code",
   "execution_count": 58,
   "id": "0f2af5bb",
   "metadata": {},
   "outputs": [
    {
     "data": {
      "text/plain": [
       "(99,)"
      ]
     },
     "execution_count": 58,
     "metadata": {},
     "output_type": "execute_result"
    }
   ],
   "source": [
    "arr.shape"
   ]
  },
  {
   "cell_type": "code",
   "execution_count": 59,
   "id": "2b338255",
   "metadata": {},
   "outputs": [
    {
     "data": {
      "text/plain": [
       "array([[1, 2, 3],\n",
       "       [4, 5, 6],\n",
       "       [7, 8, 9]])"
      ]
     },
     "execution_count": 59,
     "metadata": {},
     "output_type": "execute_result"
    }
   ],
   "source": [
    "a=[[1,2,3],[4,5,6],[7,8,9]]\n",
    "arr=np.array(a)\n",
    "arr"
   ]
  },
  {
   "cell_type": "code",
   "execution_count": 60,
   "id": "a1d28fe3",
   "metadata": {},
   "outputs": [
    {
     "data": {
      "text/plain": [
       "array([12, 15, 18])"
      ]
     },
     "execution_count": 60,
     "metadata": {},
     "output_type": "execute_result"
    }
   ],
   "source": [
    "arr.sum(axis=0)"
   ]
  },
  {
   "cell_type": "code",
   "execution_count": 61,
   "id": "ca1878f3",
   "metadata": {},
   "outputs": [
    {
     "data": {
      "text/plain": [
       "array([ 6, 15, 24])"
      ]
     },
     "execution_count": 61,
     "metadata": {},
     "output_type": "execute_result"
    }
   ],
   "source": [
    "arr.sum(axis=1)"
   ]
  },
  {
   "cell_type": "code",
   "execution_count": 62,
   "id": "aa789ca6",
   "metadata": {},
   "outputs": [
    {
     "data": {
      "text/plain": [
       "array([[1, 4, 7],\n",
       "       [2, 5, 8],\n",
       "       [3, 6, 9]])"
      ]
     },
     "execution_count": 62,
     "metadata": {},
     "output_type": "execute_result"
    }
   ],
   "source": [
    "arr.T # transpose the array(row convet in coloum and coloum convert into row)"
   ]
  },
  {
   "cell_type": "code",
   "execution_count": 64,
   "id": "aa05b691",
   "metadata": {},
   "outputs": [
    {
     "data": {
      "text/plain": [
       "<numpy.flatiter at 0x17d30b6dcf0>"
      ]
     },
     "execution_count": 64,
     "metadata": {},
     "output_type": "execute_result"
    }
   ],
   "source": [
    "arr.flat #means iterator"
   ]
  },
  {
   "cell_type": "code",
   "execution_count": 65,
   "id": "d9b6b08c",
   "metadata": {},
   "outputs": [
    {
     "name": "stdout",
     "output_type": "stream",
     "text": [
      "1\n",
      "2\n",
      "3\n",
      "4\n",
      "5\n",
      "6\n",
      "7\n",
      "8\n",
      "9\n"
     ]
    }
   ],
   "source": [
    "for i in arr.flat:\n",
    "    print(i)"
   ]
  },
  {
   "cell_type": "code",
   "execution_count": 66,
   "id": "c0fa8405",
   "metadata": {},
   "outputs": [
    {
     "data": {
      "text/plain": [
       "2"
      ]
     },
     "execution_count": 66,
     "metadata": {},
     "output_type": "execute_result"
    }
   ],
   "source": [
    "arr.ndim"
   ]
  },
  {
   "cell_type": "code",
   "execution_count": 67,
   "id": "c62aa553",
   "metadata": {},
   "outputs": [
    {
     "data": {
      "text/plain": [
       "9"
      ]
     },
     "execution_count": 67,
     "metadata": {},
     "output_type": "execute_result"
    }
   ],
   "source": [
    "arr.size"
   ]
  },
  {
   "cell_type": "code",
   "execution_count": 68,
   "id": "7682a1f3",
   "metadata": {},
   "outputs": [
    {
     "data": {
      "text/plain": [
       "72"
      ]
     },
     "execution_count": 68,
     "metadata": {},
     "output_type": "execute_result"
    }
   ],
   "source": [
    "arr.nbytes"
   ]
  },
  {
   "cell_type": "code",
   "execution_count": 71,
   "id": "118c4495",
   "metadata": {},
   "outputs": [
    {
     "data": {
      "text/plain": [
       "np.int64(3)"
      ]
     },
     "execution_count": 71,
     "metadata": {},
     "output_type": "execute_result"
    }
   ],
   "source": [
    "one=np.array([1,2,3,445,6])\n",
    "one.argmax()"
   ]
  },
  {
   "cell_type": "code",
   "execution_count": 72,
   "id": "d423258f",
   "metadata": {},
   "outputs": [
    {
     "data": {
      "text/plain": [
       "<function ndarray.argmin>"
      ]
     },
     "execution_count": 72,
     "metadata": {},
     "output_type": "execute_result"
    }
   ],
   "source": [
    "one.argmin"
   ]
  },
  {
   "cell_type": "code",
   "execution_count": 73,
   "id": "9cb987f1",
   "metadata": {},
   "outputs": [
    {
     "data": {
      "text/plain": [
       "array([0, 1, 2, 4, 3])"
      ]
     },
     "execution_count": 73,
     "metadata": {},
     "output_type": "execute_result"
    }
   ],
   "source": [
    "one.argsort()"
   ]
  },
  {
   "cell_type": "code",
   "execution_count": 74,
   "id": "4058afbf",
   "metadata": {},
   "outputs": [
    {
     "name": "stdout",
     "output_type": "stream",
     "text": [
      "[[1. 0. 0. 0.]\n",
      " [0. 1. 0. 0.]\n",
      " [0. 0. 1. 0.]\n",
      " [0. 0. 0. 1.]]\n"
     ]
    }
   ],
   "source": [
    "import numpy as np\n",
    "\n",
    "x = np.eye(4)\n",
    "print(x)"
   ]
  },
  {
   "cell_type": "code",
   "execution_count": 76,
   "id": "5b33de52",
   "metadata": {},
   "outputs": [
    {
     "name": "stdout",
     "output_type": "stream",
     "text": [
      "\n",
      " Marks Matrix: \n",
      "\n",
      "[[85 78 89 88]\n",
      " [85 78 89 88]\n",
      " [85 78 89 88]\n",
      " [85 78 89 88]\n",
      " [85 78 89 88]]\n",
      "\n",
      " Aerage Marks Per Student: \n",
      "\n",
      "Rohit: 85.00\n",
      "Atul: 85.00\n",
      "Harsh: 85.00\n",
      "Muskan: 85.00\n",
      "Mridul: 85.00\n",
      " \n",
      "Average Marks per students: \n",
      "\n",
      "Math:85.00\n",
      "Science:78.00\n",
      "English:89.00\n",
      "History:88.00\n",
      "\n",
      " Top scorer in each subjects: \n",
      "\n",
      "Math:Rohit (85)\n",
      "Science:Rohit (78)\n",
      "English:Rohit (89)\n",
      "History:Rohit (88)\n",
      "\n",
      " Min and max marks per subjects: \n",
      "\n",
      "Math: min=85, max=85\n",
      "Science: min=78, max=78\n",
      "English: min=89, max=89\n",
      "History: min=88, max=88\n"
     ]
    }
   ],
   "source": [
    "import numpy as np\n",
    "\n",
    "#Step 1 create a 3D numpy Arary with students\n",
    "# 5 students , 4 subjects(Maths , science , English , History)\n",
    "\n",
    "marks=np.array([\n",
    "    [85,78,89,88],\n",
    "    [85,78,89,88],\n",
    "    [85,78,89,88],\n",
    "    [85,78,89,88],\n",
    "    [85,78,89,88]\n",
    "])\n",
    "\n",
    "students=['Rohit', 'Atul', 'Harsh', 'Muskan', 'Mridul']\n",
    "subjects=['Math','Science','English','History']\n",
    "\n",
    "#Step 2 print Max marks\n",
    "print(\"\\n Marks Matrix: \\n\")\n",
    "print(marks)\n",
    "\n",
    "#Step 3 calculate average marks of each student\n",
    "\n",
    "avg_per_student=np.mean(marks,axis=1)\n",
    "print(\"\\n Aerage Marks Per Student: \\n\")\n",
    "for i , avg in enumerate(avg_per_student):\n",
    "    print(f\"{students[i]}:{avg: .2f}\")\n",
    "\n",
    "#Step 4 clculate avg marks per students\n",
    "avg_per_subject=np.mean(marks,axis=0)\n",
    "print(\" \\nAverage Marks per students: \\n\")\n",
    "for i , avg in enumerate(avg_per_subject):\n",
    "    print(f\"{subjects[i]}:{avg:.2f}\")\n",
    "\n",
    "#Step 5 find the top scorer\n",
    "print(\"\\n Top scorer in each subjects: \\n\")\n",
    "for i in range(len(subjects)):\n",
    "    top_student_index=np.argmax(marks[:,i])\n",
    "    print(f\"{subjects[i]}:{students[top_student_index]} ({marks[top_student_index,i]})\")\n",
    "\n",
    "#Step 6 find min and max per subj\n",
    "print(\"\\n Min and max marks per subjects: \\n\")\n",
    "for i, subjects in enumerate(subjects):\n",
    "    min_marks = np.min(marks[:,i])\n",
    "    max_marks = np.max(marks[:,i])\n",
    "    print(f\"{subjects}: min={min_marks}, max={max_marks}\")\n",
    "\n"
   ]
  }
 ],
 "metadata": {
  "kernelspec": {
   "display_name": "Python 3",
   "language": "python",
   "name": "python3"
  },
  "language_info": {
   "codemirror_mode": {
    "name": "ipython",
    "version": 3
   },
   "file_extension": ".py",
   "mimetype": "text/x-python",
   "name": "python",
   "nbconvert_exporter": "python",
   "pygments_lexer": "ipython3",
   "version": "3.11.3"
  }
 },
 "nbformat": 4,
 "nbformat_minor": 5
}
