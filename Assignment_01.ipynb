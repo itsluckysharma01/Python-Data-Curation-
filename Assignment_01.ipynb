{
 "cells": [
  {
   "cell_type": "markdown",
   "id": "1409eb5b",
   "metadata": {},
   "source": [
    "# Assignment I (March 2025)\n",
    "***\n",
    "# India AI: Artificial Intelligence\n"
   ]
  },
  {
   "cell_type": "markdown",
   "id": "2894c7d8",
   "metadata": {},
   "source": [
    "By: Lucky Sharma"
   ]
  },
  {
   "cell_type": "markdown",
   "id": "7d6560b3",
   "metadata": {},
   "source": [
    "                                                           # SECTION - A                                                                    "
   ]
  },
  {
   "cell_type": "markdown",
   "id": "eca0c193",
   "metadata": {},
   "source": [
    "# 1.\tWhat are the key features of Python that make it popular for data science"
   ]
  },
  {
   "cell_type": "markdown",
   "id": "8caf27af",
   "metadata": {},
   "source": [
    "\n",
    "   - Python is known for its simplicity and readability, which makes it accessible for beginners.\n",
    "   - It has a vast ecosystem of libraries and frameworks such as NumPy, Pandas, Matplotlib, and Scikit-learn that facilitate data manipulation, analysis, and visualization.\n",
    "   - Python supports various data formats and has strong community support, which contributes to its popularity in the data science field.\n",
    "   - It is versatile and can be used for web development, automation, and machine learning, making it a multi-purpose language.\n",
    "   - Python's integration capabilities with other languages and tools enhance its functionality in data science projects.\n",
    "   - It has a large community and extensive documentation, which helps users find solutions and resources easily.\n",
    "   - Python supports object-oriented programming, which allows for better organization of code and reuse of components.\n",
    "   - It is platform-independent, meaning it can run on various operating systems without modification.\n",
    "   - Python's interactive nature allows for quick prototyping and testing of data science models.\n",
    "   - It has strong support for scientific computing and numerical analysis, making it suitable for complex mathematical computations.\n",
    "   - Python's ability to handle large datasets efficiently is crucial for data science applications.\n",
    "   - It has built-in support for data visualization, which is essential for presenting data insights effectively.\n",
    "   - Python's community-driven development ensures continuous improvement and updates to the language and its libraries."
   ]
  },
  {
   "cell_type": "markdown",
   "id": "bcdb6d9f",
   "metadata": {},
   "source": [
    "# 2.\tExplain the different data types in Python with examples."
   ]
  },
  {
   "cell_type": "markdown",
   "id": "2023da8d",
   "metadata": {},
   "source": [
    "\n",
    "\n",
    "   - **Numeric Types**:\n",
    "     - **int**: Represents integers. Example: `x = 10`\n",
    "     - **float**: Represents floating-point numbers. Example: `y = 10.5`\n",
    "     - **complex**: Represents complex numbers. Example: `z = 3 + 4j`\n",
    "\n",
    "   - **Sequence Types**:\n",
    "     - **str**: Represents strings (text). Example: `name = \"John\"`\n",
    "     - **list**: An ordered, mutable collection of items. Example: `fruits = [\"apple\", \"banana\", \"cherry\"]`\n",
    "     - **tuple**: An ordered, immutable collection of items. Example: `coordinates = (10, 20)`\n",
    "\n",
    "   - **Mapping Type**:\n",
    "     - **dict**: Represents a collection of key-value pairs. Example: `person = {\"name\": \"Alice\", \"age\": 30}`\n",
    "\n",
    "   - **Set Types**:\n",
    "     - **set**: An unordered collection of unique items. Example: `unique_numbers = {1, 2, 3}`\n",
    "     - **frozenset**: An immutable version of a set. Example: `immutable_set = frozenset([1, 2, 3])`\n",
    "\n",
    "   - **Boolean Type**:\n",
    "     - **bool**: Represents truth values. Example: `is_active = True`\n",
    "\n",
    "   - **None Type**:\n",
    "     - **NoneType**: Represents the absence of a value or a null value. Example: `result = None`"
   ]
  },
  {
   "cell_type": "markdown",
   "id": "cbd74416",
   "metadata": {},
   "source": [
    "# 3.\tWhat is File, Module and Package. How to import a module from a package?"
   ]
  },
  {
   "cell_type": "markdown",
   "id": "32717481",
   "metadata": {},
   "source": [
    "\n",
    "\n",
    "   - **File**: A file is a collection of data or information that is stored on a computer. In Python, files can be text files, binary files, or any other format that can be read or written by the program. Example: `data.txt`, `image.png`.\n",
    "\n",
    "   - **Module**: A module is a file containing Python code that can define functions, classes, and variables. It allows for code organization and reuse. Modules can be imported into other Python scripts to access their functionality. Example: `math.py`, `os.py`.\n",
    "\n",
    "   - **Package**: A package is a collection of related modules organized in a directory hierarchy. It allows for better organization of modules and can contain sub-packages. Packages are identified by the presence of an `__init__.py` file in the directory. Example: `numpy`, `pandas`.\n",
    "\n",
    "   - **Importing a Module from a Package**: To import a module from a package, you use the `import` statement followed by the package name and the module name. For example, if you have a package named `mypackage` with a module named `mymodule`, you can import it as follows:\n",
    "     ```python\n",
    "     from mypackage import mymodule\n",
    "     ```\n",
    "     Alternatively, you can import all modules from a package using:\n",
    "     ```python\n",
    "     from mypackage import *\n",
    "     ```"
   ]
  },
  {
   "cell_type": "markdown",
   "id": "bc3b2f02",
   "metadata": {},
   "source": [
    "# 4.\tCompare and contrast lists and tuples in Python. When should you use each?"
   ]
  },
  {
   "cell_type": "markdown",
   "id": "c9bb25bd",
   "metadata": {},
   "source": [
    "\n",
    "\n",
    "   - **Lists**:\n",
    "     - Lists are mutable, meaning their elements can be changed after creation.\n",
    "     - They are defined using square brackets `[]`.\n",
    "     - Lists can contain duplicate elements.\n",
    "     - Lists have a dynamic size, allowing elements to be added or removed.\n",
    "     - Example: `my_list = [1, 2, 3, 4]`\n",
    "\n",
    "   - **Tuples**:\n",
    "     - Tuples are immutable, meaning their elements cannot be changed after creation.\n",
    "     - They are defined using parentheses `()`.\n",
    "     - Tuples can also contain duplicate elements.\n",
    "     - Tuples have a fixed size once created.\n",
    "     - Example: `my_tuple = (1, 2, 3, 4)`\n",
    "\n",
    "   - **When to Use Each**:\n",
    "     - Use lists when you need a collection of items that may change over time (e.g., adding or removing elements).\n",
    "     - Use tuples when you need a fixed collection of items that should not change (e.g., coordinates, configuration settings).\n",
    "     - Tuples can also be used as keys in dictionaries due to their immutability, while lists cannot."
   ]
  },
  {
   "cell_type": "markdown",
   "id": "1a54736e",
   "metadata": {},
   "source": [
    "                                                       SECTION - B                                                                              "
   ]
  },
  {
   "cell_type": "markdown",
   "id": "99618795",
   "metadata": {},
   "source": [
    "# 5. Explain the difference between Python lists and NumPy arrays with an example."
   ]
  },
  {
   "cell_type": "markdown",
   "id": "65297594",
   "metadata": {},
   "source": [
    "\n",
    "   - **Python Lists**:\n",
    "     - Lists are built-in data structures in Python that can hold a collection of items.\n",
    "     - They can contain elements of different data types (e.g., integers, strings, floats).\n",
    "     - Lists are flexible and can grow or shrink in size dynamically.\n",
    "     - Example:\n",
    "       ```python\n",
    "       my_list = [1, 2, 3, 4.5, \"hello\"]\n",
    "       ```\n",
    "\n",
    "   - **NumPy Arrays**:\n",
    "     - NumPy arrays are part of the NumPy library and are designed for numerical computations.\n",
    "     - They are homogeneous, meaning all elements must be of the same data type (e.g., all integers or all floats).\n",
    "     - NumPy arrays provide efficient storage and faster operations compared to lists.\n",
    "     - Example:\n",
    "       ```python\n",
    "       import numpy as np\n",
    "       my_array = np.array([1, 2, 3, 4.5])\n",
    "       ```\n",
    "\n",
    "   - **Key Differences**:\n",
    "     - Lists can hold mixed data types, while NumPy arrays require elements to be of the same type.\n",
    "     - NumPy arrays support vectorized operations, which allows for faster mathematical computations compared to lists.\n",
    "     - NumPy provides a wide range of mathematical functions that can be applied directly to arrays, enhancing performance for numerical tasks."
   ]
  },
  {
   "cell_type": "markdown",
   "id": "87810363",
   "metadata": {},
   "source": [
    "# 6.\tWhat are the advantages of using Pandas over Excel for data analysis?"
   ]
  },
  {
   "cell_type": "markdown",
   "id": "c4da8b9b",
   "metadata": {},
   "source": [
    "Advantages of using Pandas over Excel for data analysis:-\n",
    "\n",
    "- **Scalability**: Pandas can handle larger datasets than Excel, which has limitations on the number of rows and columns.\n",
    "    - **Performance**: Pandas is optimized for performance and can perform operations on large datasets much faster than Excel.\n",
    "    - **Data Manipulation**: Pandas provides powerful data manipulation capabilities, such as filtering, grouping, merging, and reshaping data, which are more advanced than Excel's features.\n",
    "    - **Automation**: Pandas allows for automation of data analysis tasks through scripting, making it easier to repeat analyses without manual intervention.\n",
    "    - **Integration**: Pandas integrates well with other Python libraries (e.g., NumPy, Matplotlib) for advanced data analysis and visualization.\n",
    "    - **Reproducibility**: Using Pandas in Python scripts allows for reproducible analyses, as the code can be shared and executed on different systems without losing the analysis steps."
   ]
  },
  {
   "cell_type": "markdown",
   "id": "4c387e23",
   "metadata": {},
   "source": [
    "# 7.\tWhat are different types of plots in Matplotlib? Explain with examples."
   ]
  },
  {
   "cell_type": "markdown",
   "id": "b7c99f9d",
   "metadata": {},
   "source": [
    "What are different types of plots in Matplotlib? Explain with examples.\n",
    "Matplotlib is a powerful plotting library in Python that provides various types of plots for data visualization. Here are some common types of plots along with examples:\n",
    "- **Line Plot**: Used to display data points connected by lines, often used for time series data.\n",
    "  ```python\n",
    "  import matplotlib.pyplot as plt\n",
    "\n",
    "  x = [1, 2, 3, 4, 5]\n",
    "  y = [2, 3, 5, 7, 11]\n",
    "  plt.plot(x, y)\n",
    "  plt.title(\"Line Plot\")\n",
    "  plt.xlabel(\"X-axis\")\n",
    "  plt.ylabel(\"Y-axis\")\n",
    "  plt.show()\n",
    "  ```\n",
    "- **Bar Plot**: Used to display categorical data with rectangular bars representing the values.\n",
    "  ```python\n",
    "  categories = ['A', 'B', 'C', 'D']\n",
    "  values = [10, 15, 7, 12]  \n",
    "    plt.bar(categories, values)\n",
    "    plt.title(\"Bar Plot\")\n",
    "    plt.xlabel(\"Categories\")\n",
    "    plt.ylabel(\"Values\")\n",
    "    plt.show()\n",
    "    ```\n",
    "- **Histogram**: Used to display the distribution of numerical data by dividing it into bins.\n",
    "  ```python\n",
    "    import numpy as np\n",
    "    data = np.random.randn(1000)  # Generate random data\n",
    "    plt.hist(data, bins=30, alpha=0.7)\n",
    "    plt.title(\"Histogram\")\n",
    "    plt.xlabel(\"Value\") \n",
    "    plt.ylabel(\"Frequency\")\n",
    "    plt.show()\n",
    "    ```\n",
    "- **Scatter Plot**: Used to display the relationship between two numerical variables by plotting points on\n",
    "a Cartesian plane.\n",
    "  ```python\n",
    "  x = [1, 2, 3, 4, 5]\n",
    "  y = [2, 3, 5, 7, 11]\n",
    "  plt.scatter(x, y)\n",
    "  plt.title(\"Scatter Plot\")\n",
    "  plt.xlabel(\"X-axis\")\n",
    "  plt.ylabel(\"Y-axis\")\n",
    "  plt.show()\n",
    "  ```\n",
    "- **Pie Chart**: Used to display the proportions of different categories as slices of a pie.\n",
    "  ```python\n",
    "  labels = ['A', 'B', 'C', 'D']\n",
    "  sizes = [15, 30, 45, 10]\n",
    "  plt.pie(sizes, labels=labels, autopct='%1.1f%%')\n",
    "  plt.title(\"Pie Chart\")\n",
    "  plt.axis('equal')  # Equal aspect ratio ensures that pie is drawn as a circle\n",
    "  plt.show()\n",
    "  ```\n",
    "- **Box Plot**: Used to display the distribution of data based on a five-number summary (minimum, first quartile, median, third quartile, maximum).\n",
    "  ```python\n",
    "  data = [np.random.normal(0, std, 100) for std in range(1, 4)]\n",
    "  plt.boxplot(data, vert=True, patch_artist=True)\n",
    "  plt.title(\"Box Plot\")\n",
    "  plt.xlabel(\"Groups\")\n",
    "  plt.ylabel(\"Values\")\n",
    "  plt.xticks([1, 2, 3], ['Group 1', 'Group 2', 'Group 3'])\n",
    "  plt.show()\n",
    "  ```   \n",
    "- **Heatmap**: Used to display data in a matrix format with colors representing values.\n",
    "  ```python\n",
    "  import seaborn as sns\n",
    "  data = np.random.rand(10, 12)  # Generate random data\n",
    "  sns.heatmap(data, annot=True, cmap='coolwarm')\n",
    "  plt.title(\"Heatmap\")\n",
    "  plt.xlabel(\"Columns\")\n",
    "  plt.ylabel(\"Rows\")\n",
    "  plt.show()\n",
    "  ```\n",
    "- **Area Plot**: Used to display quantitative data visually, where the area under the line is filled with color.\n",
    "  ```python"
   ]
  },
  {
   "cell_type": "markdown",
   "id": "208e8f71",
   "metadata": {},
   "source": [
    "# 8 What is NumPy? Why is it used in data science?"
   ]
  },
  {
   "cell_type": "markdown",
   "id": "43c16a0c",
   "metadata": {},
   "source": [
    "What is NumPy? Why is it used in data science?\n",
    "NumPy (Numerical Python) is a powerful open-source library in Python that provides support for large, multi-dimensional arrays and matrices, along with a collection of mathematical functions to operate on these arrays. It is a fundamental package for scientific computing in Python and serves as the foundation for many other libraries used in data science, such as Pandas, SciPy, and Matplotlib.\n",
    "NumPy is used in data science for several reasons:\n",
    "- **Efficient Array Operations**: NumPy provides efficient operations on large arrays and matrices, allowing for fast computations and memory management. It uses contiguous blocks of memory, which improves performance compared to Python lists.\n",
    "- **Mathematical Functions**: NumPy includes a wide range of mathematical functions for performing operations on arrays, such as linear algebra, statistical analysis, and Fourier transforms. This makes it easier to perform complex calculations on large datasets.\n",
    "- **Broadcasting**: NumPy supports broadcasting, which allows for operations between arrays of different shapes and sizes without the need for explicit loops. This feature simplifies code and improves performance.\n",
    "- **Interoperability**: NumPy arrays can be easily integrated with other libraries in the Python ecosystem, making it a versatile tool for data manipulation and analysis.\n",
    "- **Data Types**: NumPy supports various data types, including integers, floats, and complex numbers, allowing for efficient storage and manipulation of numerical data.\n",
    "- **Community Support**: NumPy has a large and active community, which means there are extensive resources, documentation, and tutorials available  for users to learn and troubleshoot issues."
   ]
  },
  {
   "cell_type": "markdown",
   "id": "14e1e52a",
   "metadata": {},
   "source": [
    "                                                                         SECTION – C                                                                   "
   ]
  },
  {
   "cell_type": "markdown",
   "id": "d9c0015f",
   "metadata": {},
   "source": [
    "9.\tWrite a Python program to:\n",
    "\n",
    "\n",
    "c.\tWrite a function that returns whether a given number is even or odd."
   ]
  },
  {
   "cell_type": "markdown",
   "id": "b2214411",
   "metadata": {},
   "source": [
    "# a. Take user input for name, age, and city and display it in a formatted string."
   ]
  },
  {
   "cell_type": "code",
   "execution_count": null,
   "id": "4f05aac0",
   "metadata": {},
   "outputs": [
    {
     "name": "stdout",
     "output_type": "stream",
     "text": [
      "Lucky Sharma 22 Bahrmour\n",
      "None\n"
     ]
    }
   ],
   "source": [
    "x = input(\"Enter name: \")\n",
    "y = input(\"Enter Age: \")\n",
    "z = input(\"Enter City: \")\n",
    "\n",
    "str(print(x,y,z))\n"
   ]
  },
  {
   "cell_type": "markdown",
   "id": "4619a66f",
   "metadata": {},
   "source": [
    "# b.\tCreate a list of five numbers and perform:\n",
    "\n",
    "\n"
   ]
  },
  {
   "cell_type": "code",
   "execution_count": 3,
   "id": "55512dda",
   "metadata": {},
   "outputs": [
    {
     "name": "stdout",
     "output_type": "stream",
     "text": [
      "[1, 2, 3, 4, 5]\n"
     ]
    }
   ],
   "source": [
    "l=[1,2,3,4,5]\n",
    "print(l)"
   ]
  },
  {
   "cell_type": "markdown",
   "id": "9bd81c6c",
   "metadata": {},
   "source": [
    "# i.\tAppend a new number."
   ]
  },
  {
   "cell_type": "code",
   "execution_count": 8,
   "id": "4832d042",
   "metadata": {},
   "outputs": [
    {
     "name": "stdout",
     "output_type": "stream",
     "text": [
      "List  After Append A Number:  [1, 2, 3, 4, 5, 6]\n"
     ]
    }
   ],
   "source": [
    "l=[1,2,3,4,5]\n",
    "l.append(6)\n",
    "print(\"List  After Append A Number: \",l)"
   ]
  },
  {
   "cell_type": "markdown",
   "id": "f48926fc",
   "metadata": {},
   "source": [
    "# ii.\tRemove the last element.\n"
   ]
  },
  {
   "cell_type": "code",
   "execution_count": 9,
   "id": "f7fd8275",
   "metadata": {},
   "outputs": [
    {
     "name": "stdout",
     "output_type": "stream",
     "text": [
      "List After Removing Last Element:  [1, 2, 3, 4]\n"
     ]
    }
   ],
   "source": [
    "l=[1,2,3,4,5]\n",
    "l.pop()\n",
    "print(\"List After Removing Last Element: \",l)"
   ]
  },
  {
   "cell_type": "markdown",
   "id": "85985297",
   "metadata": {},
   "source": [
    "# iii.\tSort the list in ascending order."
   ]
  },
  {
   "cell_type": "code",
   "execution_count": 10,
   "id": "d8fa0435",
   "metadata": {},
   "outputs": [
    {
     "name": "stdout",
     "output_type": "stream",
     "text": [
      "List After Sorting in Ascending Order:  [4, 5, 10, 21, 33]\n"
     ]
    }
   ],
   "source": [
    "l=[10,21,33,4,5]\n",
    "l.sort()\n",
    "print(\"List After Sorting in Ascending Order: \",l)"
   ]
  },
  {
   "cell_type": "markdown",
   "id": "dfd7af07",
   "metadata": {},
   "source": [
    "# 10.\tGiven the dataset:\n",
    "\n",
    "\n",
    "\n"
   ]
  },
  {
   "cell_type": "code",
   "execution_count": 2,
   "id": "89ed661f",
   "metadata": {},
   "outputs": [
    {
     "data": {
      "text/html": [
       "<div>\n",
       "<style scoped>\n",
       "    .dataframe tbody tr th:only-of-type {\n",
       "        vertical-align: middle;\n",
       "    }\n",
       "\n",
       "    .dataframe tbody tr th {\n",
       "        vertical-align: top;\n",
       "    }\n",
       "\n",
       "    .dataframe thead th {\n",
       "        text-align: right;\n",
       "    }\n",
       "</style>\n",
       "<table border=\"1\" class=\"dataframe\">\n",
       "  <thead>\n",
       "    <tr style=\"text-align: right;\">\n",
       "      <th></th>\n",
       "      <th>Name</th>\n",
       "      <th>Age</th>\n",
       "      <th>Department</th>\n",
       "      <th>Salary</th>\n",
       "    </tr>\n",
       "  </thead>\n",
       "  <tbody>\n",
       "    <tr>\n",
       "      <th>0</th>\n",
       "      <td>Alice</td>\n",
       "      <td>25</td>\n",
       "      <td>HR</td>\n",
       "      <td>50000</td>\n",
       "    </tr>\n",
       "    <tr>\n",
       "      <th>1</th>\n",
       "      <td>Bob</td>\n",
       "      <td>30</td>\n",
       "      <td>IT</td>\n",
       "      <td>60000</td>\n",
       "    </tr>\n",
       "    <tr>\n",
       "      <th>2</th>\n",
       "      <td>Charlie</td>\n",
       "      <td>22</td>\n",
       "      <td>IT</td>\n",
       "      <td>45000</td>\n",
       "    </tr>\n",
       "    <tr>\n",
       "      <th>3</th>\n",
       "      <td>David</td>\n",
       "      <td>29</td>\n",
       "      <td>Finance</td>\n",
       "      <td>70000</td>\n",
       "    </tr>\n",
       "    <tr>\n",
       "      <th>4</th>\n",
       "      <td>Eve</td>\n",
       "      <td>27</td>\n",
       "      <td>HR</td>\n",
       "      <td>52000</td>\n",
       "    </tr>\n",
       "  </tbody>\n",
       "</table>\n",
       "</div>"
      ],
      "text/plain": [
       "      Name  Age Department  Salary\n",
       "0    Alice   25         HR   50000\n",
       "1      Bob   30         IT   60000\n",
       "2  Charlie   22         IT   45000\n",
       "3    David   29    Finance   70000\n",
       "4      Eve   27         HR   52000"
      ]
     },
     "execution_count": 2,
     "metadata": {},
     "output_type": "execute_result"
    }
   ],
   "source": [
    "import pandas as pd\n",
    "\n",
    "data = {\n",
    "    'Name': ['Alice', 'Bob', 'Charlie', 'David', 'Eve'],\n",
    "    'Age': [25, 30, 22, 29, 27],\n",
    "    'Department': ['HR', 'IT', 'IT', 'Finance', 'HR'],\n",
    "    'Salary': [50000, 60000, 45000, 70000, 52000]\n",
    "}\n",
    "\n",
    "df = pd.DataFrame(data)\n",
    "df"
   ]
  },
  {
   "cell_type": "markdown",
   "id": "a6b14920",
   "metadata": {},
   "source": [
    "# Perform the following operations:\n",
    "\n"
   ]
  },
  {
   "cell_type": "markdown",
   "id": "42b75fbd",
   "metadata": {},
   "source": [
    "1.\tDisplay the first 3 rows.\n"
   ]
  },
  {
   "cell_type": "code",
   "execution_count": 3,
   "id": "976038ea",
   "metadata": {},
   "outputs": [
    {
     "data": {
      "text/html": [
       "<div>\n",
       "<style scoped>\n",
       "    .dataframe tbody tr th:only-of-type {\n",
       "        vertical-align: middle;\n",
       "    }\n",
       "\n",
       "    .dataframe tbody tr th {\n",
       "        vertical-align: top;\n",
       "    }\n",
       "\n",
       "    .dataframe thead th {\n",
       "        text-align: right;\n",
       "    }\n",
       "</style>\n",
       "<table border=\"1\" class=\"dataframe\">\n",
       "  <thead>\n",
       "    <tr style=\"text-align: right;\">\n",
       "      <th></th>\n",
       "      <th>Name</th>\n",
       "      <th>Age</th>\n",
       "      <th>Department</th>\n",
       "      <th>Salary</th>\n",
       "    </tr>\n",
       "  </thead>\n",
       "  <tbody>\n",
       "    <tr>\n",
       "      <th>0</th>\n",
       "      <td>Alice</td>\n",
       "      <td>25</td>\n",
       "      <td>HR</td>\n",
       "      <td>50000</td>\n",
       "    </tr>\n",
       "    <tr>\n",
       "      <th>1</th>\n",
       "      <td>Bob</td>\n",
       "      <td>30</td>\n",
       "      <td>IT</td>\n",
       "      <td>60000</td>\n",
       "    </tr>\n",
       "    <tr>\n",
       "      <th>2</th>\n",
       "      <td>Charlie</td>\n",
       "      <td>22</td>\n",
       "      <td>IT</td>\n",
       "      <td>45000</td>\n",
       "    </tr>\n",
       "  </tbody>\n",
       "</table>\n",
       "</div>"
      ],
      "text/plain": [
       "      Name  Age Department  Salary\n",
       "0    Alice   25         HR   50000\n",
       "1      Bob   30         IT   60000\n",
       "2  Charlie   22         IT   45000"
      ]
     },
     "execution_count": 3,
     "metadata": {},
     "output_type": "execute_result"
    }
   ],
   "source": [
    "df.head(3)"
   ]
  },
  {
   "cell_type": "markdown",
   "id": "8eec41ab",
   "metadata": {},
   "source": [
    "2.\tAdd a new column \"Experience\" with values [2, 5, 1, 6, 3].\n"
   ]
  },
  {
   "cell_type": "code",
   "execution_count": 5,
   "id": "11317af3",
   "metadata": {},
   "outputs": [
    {
     "data": {
      "text/html": [
       "<div>\n",
       "<style scoped>\n",
       "    .dataframe tbody tr th:only-of-type {\n",
       "        vertical-align: middle;\n",
       "    }\n",
       "\n",
       "    .dataframe tbody tr th {\n",
       "        vertical-align: top;\n",
       "    }\n",
       "\n",
       "    .dataframe thead th {\n",
       "        text-align: right;\n",
       "    }\n",
       "</style>\n",
       "<table border=\"1\" class=\"dataframe\">\n",
       "  <thead>\n",
       "    <tr style=\"text-align: right;\">\n",
       "      <th></th>\n",
       "      <th>Name</th>\n",
       "      <th>Age</th>\n",
       "      <th>Department</th>\n",
       "      <th>Salary</th>\n",
       "      <th>Experience</th>\n",
       "    </tr>\n",
       "  </thead>\n",
       "  <tbody>\n",
       "    <tr>\n",
       "      <th>0</th>\n",
       "      <td>Alice</td>\n",
       "      <td>25</td>\n",
       "      <td>HR</td>\n",
       "      <td>50000</td>\n",
       "      <td>2</td>\n",
       "    </tr>\n",
       "    <tr>\n",
       "      <th>1</th>\n",
       "      <td>Bob</td>\n",
       "      <td>30</td>\n",
       "      <td>IT</td>\n",
       "      <td>60000</td>\n",
       "      <td>3</td>\n",
       "    </tr>\n",
       "    <tr>\n",
       "      <th>2</th>\n",
       "      <td>Charlie</td>\n",
       "      <td>22</td>\n",
       "      <td>IT</td>\n",
       "      <td>45000</td>\n",
       "      <td>1</td>\n",
       "    </tr>\n",
       "    <tr>\n",
       "      <th>3</th>\n",
       "      <td>David</td>\n",
       "      <td>29</td>\n",
       "      <td>Finance</td>\n",
       "      <td>70000</td>\n",
       "      <td>6</td>\n",
       "    </tr>\n",
       "    <tr>\n",
       "      <th>4</th>\n",
       "      <td>Eve</td>\n",
       "      <td>27</td>\n",
       "      <td>HR</td>\n",
       "      <td>52000</td>\n",
       "      <td>3</td>\n",
       "    </tr>\n",
       "  </tbody>\n",
       "</table>\n",
       "</div>"
      ],
      "text/plain": [
       "      Name  Age Department  Salary  Experience\n",
       "0    Alice   25         HR   50000           2\n",
       "1      Bob   30         IT   60000           3\n",
       "2  Charlie   22         IT   45000           1\n",
       "3    David   29    Finance   70000           6\n",
       "4      Eve   27         HR   52000           3"
      ]
     },
     "execution_count": 5,
     "metadata": {},
     "output_type": "execute_result"
    }
   ],
   "source": [
    "df[\"Experience\"]=[2,3,1,6,3]\n",
    "df"
   ]
  },
  {
   "cell_type": "markdown",
   "id": "f1cf2f63",
   "metadata": {},
   "source": [
    "3.\tFilter and display only employees from the IT department.\n"
   ]
  },
  {
   "cell_type": "code",
   "execution_count": 6,
   "id": "46f14872",
   "metadata": {},
   "outputs": [
    {
     "data": {
      "text/html": [
       "<div>\n",
       "<style scoped>\n",
       "    .dataframe tbody tr th:only-of-type {\n",
       "        vertical-align: middle;\n",
       "    }\n",
       "\n",
       "    .dataframe tbody tr th {\n",
       "        vertical-align: top;\n",
       "    }\n",
       "\n",
       "    .dataframe thead th {\n",
       "        text-align: right;\n",
       "    }\n",
       "</style>\n",
       "<table border=\"1\" class=\"dataframe\">\n",
       "  <thead>\n",
       "    <tr style=\"text-align: right;\">\n",
       "      <th></th>\n",
       "      <th>Name</th>\n",
       "      <th>Age</th>\n",
       "      <th>Department</th>\n",
       "      <th>Salary</th>\n",
       "      <th>Experience</th>\n",
       "    </tr>\n",
       "  </thead>\n",
       "  <tbody>\n",
       "    <tr>\n",
       "      <th>1</th>\n",
       "      <td>Bob</td>\n",
       "      <td>30</td>\n",
       "      <td>IT</td>\n",
       "      <td>60000</td>\n",
       "      <td>3</td>\n",
       "    </tr>\n",
       "    <tr>\n",
       "      <th>2</th>\n",
       "      <td>Charlie</td>\n",
       "      <td>22</td>\n",
       "      <td>IT</td>\n",
       "      <td>45000</td>\n",
       "      <td>1</td>\n",
       "    </tr>\n",
       "  </tbody>\n",
       "</table>\n",
       "</div>"
      ],
      "text/plain": [
       "      Name  Age Department  Salary  Experience\n",
       "1      Bob   30         IT   60000           3\n",
       "2  Charlie   22         IT   45000           1"
      ]
     },
     "execution_count": 6,
     "metadata": {},
     "output_type": "execute_result"
    }
   ],
   "source": [
    "df[df['Department']=='IT']"
   ]
  },
  {
   "cell_type": "markdown",
   "id": "c3885a02",
   "metadata": {},
   "source": [
    "4.\tFind the average salary per department."
   ]
  },
  {
   "cell_type": "code",
   "execution_count": 14,
   "id": "07fbe2c2",
   "metadata": {},
   "outputs": [
    {
     "data": {
      "text/plain": [
       "Department\n",
       "Finance    70000.0\n",
       "HR         51000.0\n",
       "IT         52500.0\n",
       "Name: Salary, dtype: float64"
      ]
     },
     "execution_count": 14,
     "metadata": {},
     "output_type": "execute_result"
    }
   ],
   "source": [
    "df.groupby('Department')['Salary'].mean()"
   ]
  }
 ],
 "metadata": {
  "kernelspec": {
   "display_name": "Python 3",
   "language": "python",
   "name": "python3"
  },
  "language_info": {
   "codemirror_mode": {
    "name": "ipython",
    "version": 3
   },
   "file_extension": ".py",
   "mimetype": "text/x-python",
   "name": "python",
   "nbconvert_exporter": "python",
   "pygments_lexer": "ipython3",
   "version": "3.11.3"
  }
 },
 "nbformat": 4,
 "nbformat_minor": 5
}
