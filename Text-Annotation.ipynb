{
 "cells": [
  {
   "cell_type": "markdown",
   "id": "6b03aaba",
   "metadata": {},
   "source": [
    "# Text Annotation"
   ]
  },
  {
   "cell_type": "code",
   "execution_count": 1,
   "id": "0fc38ccd",
   "metadata": {},
   "outputs": [],
   "source": [
    "from textblob import TextBlob\n",
    "\n",
    "text = \"I love programming in Python. It's such a versatile language!\"\n",
    "blob = TextBlob(text)"
   ]
  },
  {
   "cell_type": "code",
   "execution_count": 2,
   "id": "3fbcff2c",
   "metadata": {},
   "outputs": [
    {
     "name": "stdout",
     "output_type": "stream",
     "text": [
      "Polarity: 0.25\n",
      "Subjectivity: 0.55\n"
     ]
    }
   ],
   "source": [
    "# Get Polarity and Subjectivity\n",
    "print(\"Polarity:\", blob.sentiment.polarity)\n",
    "print(\"Subjectivity:\", blob.sentiment.subjectivity)"
   ]
  },
  {
   "cell_type": "code",
   "execution_count": 5,
   "id": "681c7b27",
   "metadata": {},
   "outputs": [
    {
     "name": "stdout",
     "output_type": "stream",
     "text": [
      "Negative\n",
      "Positive\n"
     ]
    }
   ],
   "source": [
    "def detect_sentiment(text):\n",
    "    blob = TextBlob(text)\n",
    "    if blob.sentiment.polarity > 0:\n",
    "        return \"Positive\"\n",
    "    elif blob.sentiment.polarity < 0:\n",
    "        return \"Negative\"\n",
    "    else:\n",
    "        return \"Neutral\"\n",
    "    \n",
    "print(detect_sentiment(\"i hate the interface\"))\n",
    "print(detect_sentiment('I love design'))"
   ]
  },
  {
   "cell_type": "markdown",
   "id": "8e9b79b0",
   "metadata": {},
   "source": [
    "# Sentiment of Multiple Sentences (List of Reviews)"
   ]
  },
  {
   "cell_type": "code",
   "execution_count": 9,
   "id": "2595668b",
   "metadata": {},
   "outputs": [
    {
     "name": "stdout",
     "output_type": "stream",
     "text": [
      "'I Love the product!' - Sentiment: Positive\n",
      "'Wrost camera ever!' - Sentiment: Neutral\n",
      "'Battery life is ok' - Sentiment: Positive\n"
     ]
    }
   ],
   "source": [
    "reviews = [\"I Love the product!\",\"Wrost camera ever!\",\"Battery life is ok\"]\n",
    "for review in reviews:\n",
    "    sentiment = TextBlob(review).sentiment.polarity\n",
    "    print(f\"'{review}' - Sentiment: {'Positive' if sentiment > 0 else 'Negative' if sentiment < 0 else 'Neutral'}\")"
   ]
  }
 ],
 "metadata": {
  "kernelspec": {
   "display_name": "Python 3",
   "language": "python",
   "name": "python3"
  },
  "language_info": {
   "codemirror_mode": {
    "name": "ipython",
    "version": 3
   },
   "file_extension": ".py",
   "mimetype": "text/x-python",
   "name": "python",
   "nbconvert_exporter": "python",
   "pygments_lexer": "ipython3",
   "version": "3.11.3"
  }
 },
 "nbformat": 4,
 "nbformat_minor": 5
}
