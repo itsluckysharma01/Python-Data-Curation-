{
 "cells": [
  {
   "cell_type": "markdown",
   "id": "8780cecb",
   "metadata": {},
   "source": [
    "Sets"
   ]
  },
  {
   "cell_type": "markdown",
   "id": "8619fd05",
   "metadata": {},
   "source": [
    "Unorderd Data"
   ]
  },
  {
   "cell_type": "code",
   "execution_count": 2,
   "id": "a68bff30",
   "metadata": {},
   "outputs": [
    {
     "name": "stdout",
     "output_type": "stream",
     "text": [
      "{1, 2, 3, 43}\n"
     ]
    }
   ],
   "source": [
    "set={1,2,3,43,3}\n",
    "print(set)"
   ]
  },
  {
   "cell_type": "markdown",
   "id": "ffeced42",
   "metadata": {},
   "source": [
    "Duplicate Value"
   ]
  },
  {
   "cell_type": "code",
   "execution_count": 4,
   "id": "605d8b1e",
   "metadata": {},
   "outputs": [
    {
     "name": "stdout",
     "output_type": "stream",
     "text": [
      "{1, 2, 3, 43}\n"
     ]
    }
   ],
   "source": [
    "set={1,2,3,43,3,3,2}\n",
    "print(set)"
   ]
  },
  {
   "cell_type": "code",
   "execution_count": 1,
   "id": "d5c1dab9",
   "metadata": {},
   "outputs": [
    {
     "name": "stdout",
     "output_type": "stream",
     "text": [
      "{1, 2, 3, 4, 'Lucky', 'Harsh', 'Muskan'}\n",
      "<class 'set'>\n"
     ]
    }
   ],
   "source": [
    "Collection = {1,2,3,4,\"Lucky\",\"Harsh\",\"Muskan\"}\n",
    "print(Collection)\n",
    "print(type(Collection))"
   ]
  },
  {
   "cell_type": "markdown",
   "id": "4f9fa954",
   "metadata": {},
   "source": [
    "Unordered set"
   ]
  },
  {
   "cell_type": "code",
   "execution_count": 3,
   "id": "e9c974e8",
   "metadata": {},
   "outputs": [
    {
     "name": "stdout",
     "output_type": "stream",
     "text": [
      "{1, 2, 3, 4, 6, 7, 'Lucky', 'Muskan', 'Harsh'}\n",
      "<class 'set'>\n"
     ]
    }
   ],
   "source": [
    "Collection = {1,2,4,3,2,3,4,\"Lucky\",\"Harsh\",\"Muskan\",6,7}\n",
    "print(Collection)\n",
    "print(type(Collection))"
   ]
  },
  {
   "cell_type": "markdown",
   "id": "e88fbd00",
   "metadata": {},
   "source": [
    "To Find Legth(len())"
   ]
  },
  {
   "cell_type": "code",
   "execution_count": 4,
   "id": "fc38ff9e",
   "metadata": {},
   "outputs": [
    {
     "name": "stdout",
     "output_type": "stream",
     "text": [
      "{1, 2, 3, 4, 6, 7, 'Lucky', 'Muskan', 'Harsh'}\n",
      "9\n"
     ]
    }
   ],
   "source": [
    "Collection = {1,2,4,3,2,3,4,\"Lucky\",\"Harsh\",\"Muskan\",6,7}\n",
    "print(Collection)\n",
    "print(len(Collection))"
   ]
  },
  {
   "cell_type": "markdown",
   "id": "7d026a3f",
   "metadata": {},
   "source": [
    "Create an empty set"
   ]
  },
  {
   "cell_type": "code",
   "execution_count": 5,
   "id": "2eb57187",
   "metadata": {},
   "outputs": [
    {
     "name": "stdout",
     "output_type": "stream",
     "text": [
      "<class 'dict'>\n"
     ]
    }
   ],
   "source": [
    "Collection={}\n",
    "print(type(Collection))"
   ]
  },
  {
   "cell_type": "code",
   "execution_count": 7,
   "id": "7f280db1",
   "metadata": {},
   "outputs": [
    {
     "name": "stdout",
     "output_type": "stream",
     "text": [
      "<class 'set'>\n"
     ]
    }
   ],
   "source": [
    "Collection=set()\n",
    "print(type(Collection))"
   ]
  },
  {
   "cell_type": "markdown",
   "id": "77f3390f",
   "metadata": {},
   "source": [
    "Set Methods[add() remove() clear() pop()]"
   ]
  },
  {
   "cell_type": "markdown",
   "id": "3e52ec18",
   "metadata": {},
   "source": [
    "ADD"
   ]
  },
  {
   "cell_type": "code",
   "execution_count": 8,
   "id": "bf04418c",
   "metadata": {},
   "outputs": [
    {
     "name": "stdout",
     "output_type": "stream",
     "text": [
      "<class 'set'>\n",
      "{1, 2, 3, 4}\n"
     ]
    }
   ],
   "source": [
    "Collection=set()\n",
    "Collection.add(1)\n",
    "Collection.add(2)\n",
    "Collection.add(3)\n",
    "Collection.add(4)\n",
    "print(type(Collection))\n",
    "print(Collection)"
   ]
  },
  {
   "cell_type": "markdown",
   "id": "9770b852",
   "metadata": {},
   "source": [
    "REMOVE"
   ]
  },
  {
   "cell_type": "code",
   "execution_count": null,
   "id": "392178a0",
   "metadata": {},
   "outputs": [],
   "source": [
    "Collection=set()\n",
    "Collection.add(1)\n",
    "Collection.add(2)\n",
    "Collection.add(3)\n",
    "Collection.add(4)\n",
    "print(Collection)\n",
    "Collection.remove(2)\n",
    "print(type(Collection))\n",
    "print(Collection)"
   ]
  },
  {
   "cell_type": "code",
   "execution_count": null,
   "id": "908369d8",
   "metadata": {},
   "outputs": [],
   "source": [
    "Collection=set()\n",
    "Collection.add(1)\n",
    "Collection.add(2)\n",
    "Collection.add(3)\n",
    "\n",
    "print(Collection)\n",
    "Collection.remove(6)\n",
    "#6 is not in set\n",
    "print(type(Collection))\n",
    "print(Collection)"
   ]
  },
  {
   "cell_type": "markdown",
   "id": "05c2e19d",
   "metadata": {},
   "source": [
    "ADD String and Tuple"
   ]
  },
  {
   "cell_type": "code",
   "execution_count": 13,
   "id": "edabac28",
   "metadata": {},
   "outputs": [
    {
     "ename": "TypeError",
     "evalue": "set.add() takes exactly one argument (5 given)",
     "output_type": "error",
     "traceback": [
      "\u001b[31m---------------------------------------------------------------------------\u001b[39m",
      "\u001b[31mTypeError\u001b[39m                                 Traceback (most recent call last)",
      "\u001b[36mCell\u001b[39m\u001b[36m \u001b[39m\u001b[32mIn[13]\u001b[39m\u001b[32m, line 6\u001b[39m\n\u001b[32m      4\u001b[39m collection.add(\u001b[32m3\u001b[39m)\n\u001b[32m      5\u001b[39m collection.add(\u001b[33m\"\u001b[39m\u001b[33mLucky\u001b[39m\u001b[33m\"\u001b[39m)\n\u001b[32m----> \u001b[39m\u001b[32m6\u001b[39m \u001b[43mcollection\u001b[49m\u001b[43m.\u001b[49m\u001b[43madd\u001b[49m\u001b[43m(\u001b[49m\u001b[32;43m4\u001b[39;49m\u001b[43m,\u001b[49m\u001b[32;43m5\u001b[39;49m\u001b[43m,\u001b[49m\u001b[32;43m6\u001b[39;49m\u001b[43m,\u001b[49m\u001b[32;43m7\u001b[39;49m\u001b[43m,\u001b[49m\u001b[32;43m8\u001b[39;49m\u001b[43m)\u001b[49m\n\u001b[32m      7\u001b[39m \u001b[38;5;28mprint\u001b[39m(Collection)\n\u001b[32m      8\u001b[39m \u001b[38;5;28mprint\u001b[39m(\u001b[38;5;28mtype\u001b[39m(collection))\n",
      "\u001b[31mTypeError\u001b[39m: set.add() takes exactly one argument (5 given)"
     ]
    }
   ],
   "source": [
    "collection=set()\n",
    "collection.add(1)\n",
    "collection.add(2)\n",
    "collection.add(3)\n",
    "collection.add(\"Lucky\")\n",
    "collection.add(4,5,6,7,8)\n",
    "print(Collection)\n",
    "print(type(collection))\n"
   ]
  },
  {
   "cell_type": "markdown",
   "id": "da8afd48",
   "metadata": {},
   "source": [
    "Do not Add list"
   ]
  },
  {
   "cell_type": "code",
   "execution_count": null,
   "id": "947c2bd3",
   "metadata": {},
   "outputs": [
    {
     "ename": "TypeError",
     "evalue": "unhashable type: 'list'",
     "output_type": "error",
     "traceback": [
      "\u001b[31m---------------------------------------------------------------------------\u001b[39m",
      "\u001b[31mTypeError\u001b[39m                                 Traceback (most recent call last)",
      "\u001b[36mCell\u001b[39m\u001b[36m \u001b[39m\u001b[32mIn[9]\u001b[39m\u001b[32m, line 6\u001b[39m\n\u001b[32m      4\u001b[39m collection.add(\u001b[32m3\u001b[39m)\n\u001b[32m      5\u001b[39m collection.add(\u001b[33m\"\u001b[39m\u001b[33mLucky\u001b[39m\u001b[33m\"\u001b[39m)\n\u001b[32m----> \u001b[39m\u001b[32m6\u001b[39m \u001b[43mcollection\u001b[49m\u001b[43m.\u001b[49m\u001b[43madd\u001b[49m\u001b[43m(\u001b[49m\u001b[43m[\u001b[49m\u001b[32;43m3\u001b[39;49m\u001b[43m,\u001b[49m\u001b[32;43m4\u001b[39;49m\u001b[43m,\u001b[49m\u001b[32;43m5\u001b[39;49m\u001b[43m,\u001b[49m\u001b[32;43m6\u001b[39;49m\u001b[43m,\u001b[49m\u001b[32;43m7\u001b[39;49m\u001b[43m,\u001b[49m\u001b[32;43m8\u001b[39;49m\u001b[43m]\u001b[49m\u001b[43m)\u001b[49m \u001b[38;5;66;03m#Add List value\u001b[39;00m\n\u001b[32m      7\u001b[39m \u001b[38;5;28mprint\u001b[39m(Collection)\n",
      "\u001b[31mTypeError\u001b[39m: unhashable type: 'list'"
     ]
    }
   ],
   "source": [
    "collection=set()\n",
    "collection.add(1)\n",
    "collection.add(2)\n",
    "collection.add(3)\n",
    "collection.add(\"Lucky\")\n",
    "collection.add([3,4,5,6,7,8]) #Add List value\n",
    "print(Collection)\n",
    "#Error: unhashable type: 'list'"
   ]
  },
  {
   "cell_type": "markdown",
   "id": "ad21729e",
   "metadata": {},
   "source": [
    "Method [intersection() and Union()]"
   ]
  },
  {
   "cell_type": "markdown",
   "id": "cca99daf",
   "metadata": {},
   "source": [
    "UNION"
   ]
  },
  {
   "cell_type": "code",
   "execution_count": 11,
   "id": "ddbe7ee4",
   "metadata": {},
   "outputs": [
    {
     "name": "stdout",
     "output_type": "stream",
     "text": [
      "{1, 2, 3, 4, 5, 6, 7, 8}\n"
     ]
    }
   ],
   "source": [
    "set1={1,2,3,4,5}\n",
    "set2={4,5,6,7,8}\n",
    "set3=set1.union(set2)\n",
    "print(set3)"
   ]
  },
  {
   "cell_type": "markdown",
   "id": "145cde04",
   "metadata": {},
   "source": [
    "INTERSECTION"
   ]
  },
  {
   "cell_type": "code",
   "execution_count": 12,
   "id": "0f050a98",
   "metadata": {},
   "outputs": [
    {
     "name": "stdout",
     "output_type": "stream",
     "text": [
      "{3, 4, 5}\n"
     ]
    }
   ],
   "source": [
    "set1={1,2,3,4,5}\n",
    "set2={3,4,5,6,7,8}\n",
    "set3=set1.intersection(set2)\n",
    "print(set3)"
   ]
  },
  {
   "cell_type": "markdown",
   "id": "d0a54e8a",
   "metadata": {},
   "source": [
    "Function"
   ]
  },
  {
   "cell_type": "markdown",
   "id": "01768b66",
   "metadata": {},
   "source": []
  },
  {
   "cell_type": "markdown",
   "id": "e4b195e3",
   "metadata": {},
   "source": [
    "Create A Set With Different"
   ]
  },
  {
   "cell_type": "code",
   "execution_count": null,
   "id": "3652e39f",
   "metadata": {},
   "outputs": [
    {
     "name": "stdout",
     "output_type": "stream",
     "text": [
      "Initial Blacnk set: \n",
      "set()\n",
      "set with use of string: \n",
      "{'k', 'L', 'c', 'u', 'y'}\n",
      "set with use of string: \n",
      "{'k', 'L', 'c', 'u', 'y'}\n",
      "Set with use of list: \n",
      "{1, 2, 3, 4, 5}\n",
      "Set with use of tuple: \n",
      "{'Lucky', 'Harsh', 'Muskan'}\n",
      "Set with use of dictionary: \n",
      "{'name', 'city', 'age'}\n"
     ]
    }
   ],
   "source": [
    "set1=set()\n",
    "\n",
    "print(\"Initial Blacnk set: \")\n",
    "print(set1)\n",
    "\n",
    "set1=set(\"Lucky\")\n",
    "print(\"set with use of string: \")\n",
    "print(set1)\n",
    "\n",
    "string = \"Lucky\"\n",
    "set1=set(string)\n",
    "print(\"set with use of string: \")\n",
    "print(set1)\n",
    "#list\n",
    "l=[1, 2, 3, 4, 5]\n",
    "set1=set(l)\n",
    "print(\"Set with use of list: \")\n",
    "print(set1)\n",
    "\n",
    "\n",
    "#tuple\n",
    "t = (\"Lucky\", \"Harsh\", \"Muskan\")\n",
    "print(\"Set with use of tuple: \")\n",
    "set1=set(t)\n",
    "print(set1)\n",
    "\n",
    "#dictionary\n",
    "d = {\"name\": \"Lucky\", \"age\": 25, \"city\": \"Delhi\"}\n",
    "print(\"Set with use of dictionary: \")\n",
    "set1=set(d)\n",
    "print(set1)"
   ]
  },
  {
   "cell_type": "markdown",
   "id": "de16edff",
   "metadata": {},
   "source": [
    "Create A set with List of Number"
   ]
  },
  {
   "cell_type": "code",
   "execution_count": 16,
   "id": "e5c59c6f",
   "metadata": {},
   "outputs": [
    {
     "name": "stdout",
     "output_type": "stream",
     "text": [
      "Set With use of Number: \n",
      "{1, 2, 3, 4, 5, 7, 8, 9}\n",
      "Set With use of Mixed Values: \n",
      "{1, 2, 3, 4, 5, 'Neet', 'Five', 'Ravi'}\n"
     ]
    }
   ],
   "source": [
    "set1={1,2,3,4,5,3,4,8,9,8,7,5,4,4,2}\n",
    "print(\"Set With use of Number: \")\n",
    "print(set1)\n",
    "\n",
    "set2={1,2,3,4,5,'Five',3,\"Neet\",2,'Ravi',}\n",
    "print(\"Set With use of Mixed Values: \")\n",
    "print(set2)\n",
    "\n"
   ]
  },
  {
   "cell_type": "markdown",
   "id": "27cd1249",
   "metadata": {},
   "source": []
  },
  {
   "cell_type": "code",
   "execution_count": 17,
   "id": "c8471f11",
   "metadata": {},
   "outputs": [
    {
     "name": "stdout",
     "output_type": "stream",
     "text": [
      "{1, 2, 3}\n"
     ]
    }
   ],
   "source": [
    "my_set={1,2,3}\n",
    "print(my_set)"
   ]
  },
  {
   "cell_type": "code",
   "execution_count": 19,
   "id": "de41cc23",
   "metadata": {},
   "outputs": [
    {
     "name": "stdout",
     "output_type": "stream",
     "text": [
      "Initial Blank Set: \n",
      "set()\n",
      "set after Addition of three elements: \n",
      "{8, 9, (6, 7)}\n",
      "set affter adddition element: \n",
      "{1, 2, 3, 4, 5, 6, 8, 9, (6, 7)}\n"
     ]
    }
   ],
   "source": [
    "set1=set()\n",
    "print(\"Initial Blank Set: \")\n",
    "print(set1)\n",
    "\n",
    "#Adding Element and Tuple to the set\n",
    "set1.add(8)\n",
    "set1.add(9)\n",
    "set1.add((6,7))\n",
    "print(\"set after Addition of three elements: \")\n",
    "print(set1)\n",
    "\n",
    "#add elements iteration\n",
    "for i in range(1,7):\n",
    "    set1.add(i)\n",
    "print(\"set affter adddition element: \")\n",
    "print(set1)"
   ]
  },
  {
   "cell_type": "markdown",
   "id": "97ab96e3",
   "metadata": {},
   "source": [
    "Update Method"
   ]
  },
  {
   "cell_type": "code",
   "execution_count": 20,
   "id": "1c23c464",
   "metadata": {},
   "outputs": [
    {
     "name": "stdout",
     "output_type": "stream",
     "text": [
      "set After Add Of Elements using Updates: \n",
      "{4, 5, 10, 11, (6, 7)}\n"
     ]
    }
   ],
   "source": [
    "set1=set([4,5,(6,7)])\n",
    "set1.update([10,11])\n",
    "print(\"set After Add Of Elements using Updates: \")\n",
    "print(set1)"
   ]
  },
  {
   "cell_type": "markdown",
   "id": "e9062dc9",
   "metadata": {},
   "source": [
    "Accessing Sets"
   ]
  },
  {
   "cell_type": "code",
   "execution_count": 25,
   "id": "61c4ab92",
   "metadata": {},
   "outputs": [
    {
     "name": "stdout",
     "output_type": "stream",
     "text": [
      "Initial Set:  {'lucky', 'Sharma', 'Pandit'}\n",
      "lucky Sharma Pandit \n",
      "\n",
      "True\n"
     ]
    }
   ],
   "source": [
    "set1=set([\"lucky\",\"Sharma\",\"Pandit\"])\n",
    "print(\"Initial Set: \",set1)\n",
    "\n",
    "#Access Using loop\n",
    "for i in set1:\n",
    "    print(i, end=\" \")\n",
    "\n",
    "print(\"\\n\")\n",
    "print(\"lucky\" in set1)"
   ]
  },
  {
   "cell_type": "markdown",
   "id": "cb20bb76",
   "metadata": {},
   "source": [
    "Removing Element discard"
   ]
  },
  {
   "cell_type": "code",
   "execution_count": 28,
   "id": "a546128a",
   "metadata": {},
   "outputs": [
    {
     "name": "stdout",
     "output_type": "stream",
     "text": [
      "{1, 2, 3, 4, 5, 6, 7, 8, 11, 12}\n",
      "Set After Remove \n",
      "{1, 2, 3, 4, 7, 8, 11, 12}\n",
      "After Discard:  {1, 2, 3, 4, 7, 11, 12}\n",
      "After Iteration Removing: \n",
      "{7, 11, 12}\n"
     ]
    }
   ],
   "source": [
    "set1=set([1,2,3,4,5,6,7,8,11,12])\n",
    "print(set1)\n",
    "\n",
    "set1.remove(5)\n",
    "set1.remove(6)\n",
    "print(\"Set After Remove \")\n",
    "print(set1)\n",
    "\n",
    "set1.discard(8)\n",
    "set1.discard(9)\n",
    "print(\"After Discard: \",set1)\n",
    "\n",
    "#removing form iteration\n",
    "\n",
    "for i in range(1,5):\n",
    "    set1.remove(i)\n",
    "print(\"After Iteration Removing: \")\n",
    "print(set1)"
   ]
  },
  {
   "cell_type": "markdown",
   "id": "ec6cacd2",
   "metadata": {},
   "source": [
    "POP and CLEAR"
   ]
  },
  {
   "cell_type": "code",
   "execution_count": 32,
   "id": "d7b4d221",
   "metadata": {},
   "outputs": [
    {
     "name": "stdout",
     "output_type": "stream",
     "text": [
      "{1, 2, 3, 4, 5, 6, 7, 8, 11, 12}\n",
      "Set After Pop method: \n",
      "{3, 4, 5, 6, 7, 8, 11, 12}\n",
      "Set After Clear method: \n",
      "set()\n"
     ]
    }
   ],
   "source": [
    "set1=set([1,2,3,4,5,6,7,8,11,12])\n",
    "print(set1)\n",
    "\n",
    "set1.pop()\n",
    "set1.pop()\n",
    "print(\"Set After Pop method: \")\n",
    "print(set1)\n",
    "\n",
    "set1.clear()\n",
    "print(\"Set After Clear method: \")\n",
    "print(set1)"
   ]
  },
  {
   "cell_type": "markdown",
   "id": "2cb4b28f",
   "metadata": {},
   "source": [
    "Frozenset"
   ]
  },
  {
   "cell_type": "code",
   "execution_count": 36,
   "id": "585c4b25",
   "metadata": {},
   "outputs": [
    {
     "name": "stdout",
     "output_type": "stream",
     "text": [
      "The Frozenset is: \n",
      "frozenset({'k', 's', 'e', 'f', 'r', 'G', 'o'})\n",
      "The Empty Frozenset is: \n",
      "frozenset()\n"
     ]
    }
   ],
   "source": [
    "string=('G','e','e','k','s','f','o','r')\n",
    "fset=frozenset(string)\n",
    "print(\"The Frozenset is: \")\n",
    "print(fset)\n",
    "\n",
    "print(\"The Empty Frozenset is: \")\n",
    "print(frozenset())"
   ]
  },
  {
   "cell_type": "markdown",
   "id": "d6a6ec03",
   "metadata": {},
   "source": []
  },
  {
   "cell_type": "code",
   "execution_count": null,
   "id": "fda3d337",
   "metadata": {},
   "outputs": [
    {
     "name": "stdout",
     "output_type": "stream",
     "text": [
      "Dict as set:  {3, 2, 11}\n"
     ]
    }
   ],
   "source": [
    "d1={1:\"One\", 2:\"Two\", 3:\"Three\"}\n",
    "my_set=set(my_dict)\n",
    "print(\"Dict as set: \",my_set)\n",
    "\n",
    "my_dict={1:\"One\", 2:\"Two\", 3:\"Three\"}\n",
    "my_set=set(my_dict)\n",
    "print(\"Dict as set: \",my_set)\n",
    "\n",
    "\n",
    "my_dict={1:\"One\", 2:\"Two\", 3:\"Three\"}\n",
    "my_set=set(my_dict)\n",
    "print(\"Dict as set: \",my_set)\n"
   ]
  },
  {
   "cell_type": "markdown",
   "id": "b3a4480d",
   "metadata": {},
   "source": [
    "implementing all function in this exmple ,A  series of function demonstrate common opertion on a set in python. These include creating a set , adding and removing element clearing the set ,performing set union,intersection, difference, symmetric difference, subset, and superset operations."
   ]
  },
  {
   "cell_type": "code",
   "execution_count": 48,
   "id": "edcf1d8e",
   "metadata": {},
   "outputs": [
    {
     "name": "stdout",
     "output_type": "stream",
     "text": [
      "{1, 2, 3, 4, 5, 6, 7, 8, 9, 111}\n",
      "{2, 3, 4, 5, 6, 7, 8, 9, 111}\n",
      "set()\n",
      "Union:  3\n",
      "Intersection:  {3}\n",
      "Difference:  {1, 2}\n",
      "Subset:  False\n",
      "Superset:  True\n"
     ]
    }
   ],
   "source": [
    "s={1,2,3,4,5,6,7,8,9}\n",
    "\n",
    "s.add(111)\n",
    "print(s)\n",
    "\n",
    "s.remove(1)\n",
    "print(s)\n",
    "\n",
    "s.clear()\n",
    "print(s)\n",
    "\n",
    "s1={1,2,3}\n",
    "s2={3,4,5,6}\n",
    "s3=s1.union(s2)\n",
    "print(\"Union: \",3)\n",
    "\n",
    "s1={1,2,3}\n",
    "s2={3,4,5,6}\n",
    "s3=s1.intersection(s2)\n",
    "print(\"Intersection: \",s3)\n",
    "\n",
    "s1={1,2,3}\n",
    "s2={3,4,5,6}\n",
    "s3=s1.difference(s2)\n",
    "print(\"Difference: \",s3)\n",
    "\n",
    "s1={1,2,3,4,5,6}\n",
    "s2={3,4,5,6}\n",
    "s3=s1.issubset(s2)\n",
    "print(\"Subset: \",s3)\n",
    "\n",
    "s1={1,2,3,4,5,6,7,8,9}\n",
    "s2={3,4,5,6}\n",
    "s3=s1.issuperset(s2)\n",
    "print(\"Superset: \",s3)"
   ]
  }
 ],
 "metadata": {
  "kernelspec": {
   "display_name": "Python 3",
   "language": "python",
   "name": "python3"
  },
  "language_info": {
   "codemirror_mode": {
    "name": "ipython",
    "version": 3
   },
   "file_extension": ".py",
   "mimetype": "text/x-python",
   "name": "python",
   "nbconvert_exporter": "python",
   "pygments_lexer": "ipython3",
   "version": "3.11.3"
  }
 },
 "nbformat": 4,
 "nbformat_minor": 5
}
